{
  "nbformat": 4,
  "nbformat_minor": 0,
  "metadata": {
    "colab": {
      "provenance": [],
      "authorship_tag": "ABX9TyNuoTA1MAPipC589SGugaHS",
      "include_colab_link": true
    },
    "kernelspec": {
      "name": "python3",
      "display_name": "Python 3"
    },
    "language_info": {
      "name": "python"
    }
  },
  "cells": [
    {
      "cell_type": "markdown",
      "metadata": {
        "id": "view-in-github",
        "colab_type": "text"
      },
      "source": [
        "<a href=\"https://colab.research.google.com/github/ridabayi/Data_Analysis/blob/main/Feature_engineering_.ipynb\" target=\"_parent\"><img src=\"https://colab.research.google.com/assets/colab-badge.svg\" alt=\"Open In Colab\"/></a>"
      ]
    },
    {
      "cell_type": "code",
      "execution_count": 3,
      "metadata": {
        "colab": {
          "base_uri": "https://localhost:8080/"
        },
        "id": "DRDCUIq311tV",
        "outputId": "a8d928e3-f6b8-4330-d093-a34b136ee5b9"
      },
      "outputs": [
        {
          "output_type": "stream",
          "name": "stdout",
          "text": [
            "Collecting catboost\n",
            "  Downloading catboost-1.2.2-cp310-cp310-manylinux2014_x86_64.whl (98.7 MB)\n",
            "\u001b[2K     \u001b[90m━━━━━━━━━━━━━━━━━━━━━━━━━━━━━━━━━━━━━━━━\u001b[0m \u001b[32m98.7/98.7 MB\u001b[0m \u001b[31m8.8 MB/s\u001b[0m eta \u001b[36m0:00:00\u001b[0m\n",
            "\u001b[?25hRequirement already satisfied: graphviz in /usr/local/lib/python3.10/dist-packages (from catboost) (0.20.1)\n",
            "Requirement already satisfied: matplotlib in /usr/local/lib/python3.10/dist-packages (from catboost) (3.7.1)\n",
            "Requirement already satisfied: numpy>=1.16.0 in /usr/local/lib/python3.10/dist-packages (from catboost) (1.23.5)\n",
            "Requirement already satisfied: pandas>=0.24 in /usr/local/lib/python3.10/dist-packages (from catboost) (1.5.3)\n",
            "Requirement already satisfied: scipy in /usr/local/lib/python3.10/dist-packages (from catboost) (1.11.3)\n",
            "Requirement already satisfied: plotly in /usr/local/lib/python3.10/dist-packages (from catboost) (5.15.0)\n",
            "Requirement already satisfied: six in /usr/local/lib/python3.10/dist-packages (from catboost) (1.16.0)\n",
            "Requirement already satisfied: python-dateutil>=2.8.1 in /usr/local/lib/python3.10/dist-packages (from pandas>=0.24->catboost) (2.8.2)\n",
            "Requirement already satisfied: pytz>=2020.1 in /usr/local/lib/python3.10/dist-packages (from pandas>=0.24->catboost) (2023.3.post1)\n",
            "Requirement already satisfied: contourpy>=1.0.1 in /usr/local/lib/python3.10/dist-packages (from matplotlib->catboost) (1.1.1)\n",
            "Requirement already satisfied: cycler>=0.10 in /usr/local/lib/python3.10/dist-packages (from matplotlib->catboost) (0.12.1)\n",
            "Requirement already satisfied: fonttools>=4.22.0 in /usr/local/lib/python3.10/dist-packages (from matplotlib->catboost) (4.43.1)\n",
            "Requirement already satisfied: kiwisolver>=1.0.1 in /usr/local/lib/python3.10/dist-packages (from matplotlib->catboost) (1.4.5)\n",
            "Requirement already satisfied: packaging>=20.0 in /usr/local/lib/python3.10/dist-packages (from matplotlib->catboost) (23.2)\n",
            "Requirement already satisfied: pillow>=6.2.0 in /usr/local/lib/python3.10/dist-packages (from matplotlib->catboost) (9.4.0)\n",
            "Requirement already satisfied: pyparsing>=2.3.1 in /usr/local/lib/python3.10/dist-packages (from matplotlib->catboost) (3.1.1)\n",
            "Requirement already satisfied: tenacity>=6.2.0 in /usr/local/lib/python3.10/dist-packages (from plotly->catboost) (8.2.3)\n",
            "Installing collected packages: catboost\n",
            "Successfully installed catboost-1.2.2\n",
            "Requirement already satisfied: lightgbm in /usr/local/lib/python3.10/dist-packages (4.1.0)\n",
            "Requirement already satisfied: numpy in /usr/local/lib/python3.10/dist-packages (from lightgbm) (1.23.5)\n",
            "Requirement already satisfied: scipy in /usr/local/lib/python3.10/dist-packages (from lightgbm) (1.11.3)\n",
            "Requirement already satisfied: xgboost in /usr/local/lib/python3.10/dist-packages (2.0.1)\n",
            "Requirement already satisfied: numpy in /usr/local/lib/python3.10/dist-packages (from xgboost) (1.23.5)\n",
            "Requirement already satisfied: scipy in /usr/local/lib/python3.10/dist-packages (from xgboost) (1.11.3)\n"
          ]
        }
      ],
      "source": [
        "!pip install catboost\n",
        "!pip install lightgbm\n",
        "!pip install xgboost"
      ]
    },
    {
      "cell_type": "markdown",
      "source": [
        "## Importing Required Libraries"
      ],
      "metadata": {
        "id": "dVPr0hiD2GCK"
      }
    },
    {
      "cell_type": "code",
      "source": [
        "import warnings\n",
        "warnings.simplefilter('ignore')\n",
        "\n",
        "import pandas as pd\n",
        "import numpy as np\n",
        "import tqdm\n",
        "from numpy import median\n",
        "import random\n",
        "import catboost as cb\n",
        "import lightgbm as lgb\n",
        "import xgboost as xgb\n",
        "from sklearn.decomposition import PCA\n",
        "from sklearn.preprocessing import LabelEncoder, OneHotEncoder, StandardScaler\n",
        "from sklearn.linear_model import Lasso, Ridge\n",
        "from sklearn.ensemble import RandomForestClassifier\n",
        "from statsmodels.stats.outliers_influence import variance_inflation_factor\n",
        "\n",
        "import matplotlib.pyplot as plt\n",
        "from sklearn.metrics import mean_squared_error\n",
        "from sklearn.metrics import roc_auc_score\n",
        "%matplotlib inline"
      ],
      "metadata": {
        "id": "kDV-jfcx2CS_"
      },
      "execution_count": 4,
      "outputs": []
    },
    {
      "cell_type": "code",
      "source": [
        "def rmse(actual, predicted):\n",
        "    return mean_squared_error(actual, predicted, squared=False)"
      ],
      "metadata": {
        "id": "v1coCBqP2K3A"
      },
      "execution_count": 5,
      "outputs": []
    },
    {
      "cell_type": "code",
      "source": [
        "df = pd.read_csv(\"https://cf-courses-data.s3.us.cloud-object-storage.appdomain.cloud/IBM-GPXX0CRSEN/LargeData/train_data.csv\", parse_dates=['startdate'], index_col=0)\n",
        "df.head()"
      ],
      "metadata": {
        "colab": {
          "base_uri": "https://localhost:8080/",
          "height": 443
        },
        "id": "BGuZ2cgL2ayr",
        "outputId": "7a546230-44d2-4899-fac0-3d62f88bf057"
      },
      "execution_count": 6,
      "outputs": [
        {
          "output_type": "execute_result",
          "data": {
            "text/plain": [
              "       lat       lon  startdate  contest-pevpr-sfc-gauss-14d__pevpr  \\\n",
              "index                                                                 \n",
              "0      0.0  0.833333 2014-09-01                              237.00   \n",
              "1      0.0  0.833333 2014-09-02                              228.90   \n",
              "2      0.0  0.833333 2014-09-03                              220.69   \n",
              "3      0.0  0.833333 2014-09-04                              225.28   \n",
              "4      0.0  0.833333 2014-09-05                              237.24   \n",
              "\n",
              "       nmme0-tmp2m-34w__cancm30  nmme0-tmp2m-34w__cancm40  \\\n",
              "index                                                       \n",
              "0                         29.02                     31.64   \n",
              "1                         29.02                     31.64   \n",
              "2                         29.02                     31.64   \n",
              "3                         29.02                     31.64   \n",
              "4                         29.02                     31.64   \n",
              "\n",
              "       nmme0-tmp2m-34w__ccsm30  nmme0-tmp2m-34w__ccsm40  \\\n",
              "index                                                     \n",
              "0                        29.57                    30.73   \n",
              "1                        29.57                    30.73   \n",
              "2                        29.57                    30.73   \n",
              "3                        29.57                    30.73   \n",
              "4                        29.57                    30.73   \n",
              "\n",
              "       nmme0-tmp2m-34w__cfsv20  nmme0-tmp2m-34w__gfdlflora0  ...  \\\n",
              "index                                                        ...   \n",
              "0                        29.71                        31.52  ...   \n",
              "1                        29.71                        31.52  ...   \n",
              "2                        29.71                        31.52  ...   \n",
              "3                        29.71                        31.52  ...   \n",
              "4                        29.71                        31.52  ...   \n",
              "\n",
              "       wind-vwnd-925-2010-11  wind-vwnd-925-2010-12  wind-vwnd-925-2010-13  \\\n",
              "index                                                                        \n",
              "0                     -27.68                 -37.21                   8.32   \n",
              "1                     -21.13                 -36.57                   8.77   \n",
              "2                     -10.72                 -34.16                   6.99   \n",
              "3                       0.33                 -31.04                   6.17   \n",
              "4                       9.83                 -31.80                   7.47   \n",
              "\n",
              "       wind-vwnd-925-2010-14  wind-vwnd-925-2010-15  wind-vwnd-925-2010-16  \\\n",
              "index                                                                        \n",
              "0                       9.56                  -2.03                  48.13   \n",
              "1                      21.17                   4.44                  48.60   \n",
              "2                      32.16                   5.01                  48.53   \n",
              "3                      39.66                  -1.41                  50.59   \n",
              "4                      38.62                  -5.21                  54.73   \n",
              "\n",
              "       wind-vwnd-925-2010-17  wind-vwnd-925-2010-18  wind-vwnd-925-2010-19  \\\n",
              "index                                                                        \n",
              "0                      28.09                 -13.50                  11.90   \n",
              "1                      27.41                 -23.77                  15.44   \n",
              "2                      19.21                 -33.16                  15.11   \n",
              "3                       8.29                 -37.22                  18.24   \n",
              "4                      -2.58                 -42.30                  21.91   \n",
              "\n",
              "       wind-vwnd-925-2010-20  \n",
              "index                         \n",
              "0                       4.58  \n",
              "1                       3.42  \n",
              "2                       4.82  \n",
              "3                       9.74  \n",
              "4                      10.95  \n",
              "\n",
              "[5 rows x 245 columns]"
            ],
            "text/html": [
              "\n",
              "  <div id=\"df-19aef7de-a146-407d-8389-6bad7041cb2e\" class=\"colab-df-container\">\n",
              "    <div>\n",
              "<style scoped>\n",
              "    .dataframe tbody tr th:only-of-type {\n",
              "        vertical-align: middle;\n",
              "    }\n",
              "\n",
              "    .dataframe tbody tr th {\n",
              "        vertical-align: top;\n",
              "    }\n",
              "\n",
              "    .dataframe thead th {\n",
              "        text-align: right;\n",
              "    }\n",
              "</style>\n",
              "<table border=\"1\" class=\"dataframe\">\n",
              "  <thead>\n",
              "    <tr style=\"text-align: right;\">\n",
              "      <th></th>\n",
              "      <th>lat</th>\n",
              "      <th>lon</th>\n",
              "      <th>startdate</th>\n",
              "      <th>contest-pevpr-sfc-gauss-14d__pevpr</th>\n",
              "      <th>nmme0-tmp2m-34w__cancm30</th>\n",
              "      <th>nmme0-tmp2m-34w__cancm40</th>\n",
              "      <th>nmme0-tmp2m-34w__ccsm30</th>\n",
              "      <th>nmme0-tmp2m-34w__ccsm40</th>\n",
              "      <th>nmme0-tmp2m-34w__cfsv20</th>\n",
              "      <th>nmme0-tmp2m-34w__gfdlflora0</th>\n",
              "      <th>...</th>\n",
              "      <th>wind-vwnd-925-2010-11</th>\n",
              "      <th>wind-vwnd-925-2010-12</th>\n",
              "      <th>wind-vwnd-925-2010-13</th>\n",
              "      <th>wind-vwnd-925-2010-14</th>\n",
              "      <th>wind-vwnd-925-2010-15</th>\n",
              "      <th>wind-vwnd-925-2010-16</th>\n",
              "      <th>wind-vwnd-925-2010-17</th>\n",
              "      <th>wind-vwnd-925-2010-18</th>\n",
              "      <th>wind-vwnd-925-2010-19</th>\n",
              "      <th>wind-vwnd-925-2010-20</th>\n",
              "    </tr>\n",
              "    <tr>\n",
              "      <th>index</th>\n",
              "      <th></th>\n",
              "      <th></th>\n",
              "      <th></th>\n",
              "      <th></th>\n",
              "      <th></th>\n",
              "      <th></th>\n",
              "      <th></th>\n",
              "      <th></th>\n",
              "      <th></th>\n",
              "      <th></th>\n",
              "      <th></th>\n",
              "      <th></th>\n",
              "      <th></th>\n",
              "      <th></th>\n",
              "      <th></th>\n",
              "      <th></th>\n",
              "      <th></th>\n",
              "      <th></th>\n",
              "      <th></th>\n",
              "      <th></th>\n",
              "      <th></th>\n",
              "    </tr>\n",
              "  </thead>\n",
              "  <tbody>\n",
              "    <tr>\n",
              "      <th>0</th>\n",
              "      <td>0.0</td>\n",
              "      <td>0.833333</td>\n",
              "      <td>2014-09-01</td>\n",
              "      <td>237.00</td>\n",
              "      <td>29.02</td>\n",
              "      <td>31.64</td>\n",
              "      <td>29.57</td>\n",
              "      <td>30.73</td>\n",
              "      <td>29.71</td>\n",
              "      <td>31.52</td>\n",
              "      <td>...</td>\n",
              "      <td>-27.68</td>\n",
              "      <td>-37.21</td>\n",
              "      <td>8.32</td>\n",
              "      <td>9.56</td>\n",
              "      <td>-2.03</td>\n",
              "      <td>48.13</td>\n",
              "      <td>28.09</td>\n",
              "      <td>-13.50</td>\n",
              "      <td>11.90</td>\n",
              "      <td>4.58</td>\n",
              "    </tr>\n",
              "    <tr>\n",
              "      <th>1</th>\n",
              "      <td>0.0</td>\n",
              "      <td>0.833333</td>\n",
              "      <td>2014-09-02</td>\n",
              "      <td>228.90</td>\n",
              "      <td>29.02</td>\n",
              "      <td>31.64</td>\n",
              "      <td>29.57</td>\n",
              "      <td>30.73</td>\n",
              "      <td>29.71</td>\n",
              "      <td>31.52</td>\n",
              "      <td>...</td>\n",
              "      <td>-21.13</td>\n",
              "      <td>-36.57</td>\n",
              "      <td>8.77</td>\n",
              "      <td>21.17</td>\n",
              "      <td>4.44</td>\n",
              "      <td>48.60</td>\n",
              "      <td>27.41</td>\n",
              "      <td>-23.77</td>\n",
              "      <td>15.44</td>\n",
              "      <td>3.42</td>\n",
              "    </tr>\n",
              "    <tr>\n",
              "      <th>2</th>\n",
              "      <td>0.0</td>\n",
              "      <td>0.833333</td>\n",
              "      <td>2014-09-03</td>\n",
              "      <td>220.69</td>\n",
              "      <td>29.02</td>\n",
              "      <td>31.64</td>\n",
              "      <td>29.57</td>\n",
              "      <td>30.73</td>\n",
              "      <td>29.71</td>\n",
              "      <td>31.52</td>\n",
              "      <td>...</td>\n",
              "      <td>-10.72</td>\n",
              "      <td>-34.16</td>\n",
              "      <td>6.99</td>\n",
              "      <td>32.16</td>\n",
              "      <td>5.01</td>\n",
              "      <td>48.53</td>\n",
              "      <td>19.21</td>\n",
              "      <td>-33.16</td>\n",
              "      <td>15.11</td>\n",
              "      <td>4.82</td>\n",
              "    </tr>\n",
              "    <tr>\n",
              "      <th>3</th>\n",
              "      <td>0.0</td>\n",
              "      <td>0.833333</td>\n",
              "      <td>2014-09-04</td>\n",
              "      <td>225.28</td>\n",
              "      <td>29.02</td>\n",
              "      <td>31.64</td>\n",
              "      <td>29.57</td>\n",
              "      <td>30.73</td>\n",
              "      <td>29.71</td>\n",
              "      <td>31.52</td>\n",
              "      <td>...</td>\n",
              "      <td>0.33</td>\n",
              "      <td>-31.04</td>\n",
              "      <td>6.17</td>\n",
              "      <td>39.66</td>\n",
              "      <td>-1.41</td>\n",
              "      <td>50.59</td>\n",
              "      <td>8.29</td>\n",
              "      <td>-37.22</td>\n",
              "      <td>18.24</td>\n",
              "      <td>9.74</td>\n",
              "    </tr>\n",
              "    <tr>\n",
              "      <th>4</th>\n",
              "      <td>0.0</td>\n",
              "      <td>0.833333</td>\n",
              "      <td>2014-09-05</td>\n",
              "      <td>237.24</td>\n",
              "      <td>29.02</td>\n",
              "      <td>31.64</td>\n",
              "      <td>29.57</td>\n",
              "      <td>30.73</td>\n",
              "      <td>29.71</td>\n",
              "      <td>31.52</td>\n",
              "      <td>...</td>\n",
              "      <td>9.83</td>\n",
              "      <td>-31.80</td>\n",
              "      <td>7.47</td>\n",
              "      <td>38.62</td>\n",
              "      <td>-5.21</td>\n",
              "      <td>54.73</td>\n",
              "      <td>-2.58</td>\n",
              "      <td>-42.30</td>\n",
              "      <td>21.91</td>\n",
              "      <td>10.95</td>\n",
              "    </tr>\n",
              "  </tbody>\n",
              "</table>\n",
              "<p>5 rows × 245 columns</p>\n",
              "</div>\n",
              "    <div class=\"colab-df-buttons\">\n",
              "\n",
              "  <div class=\"colab-df-container\">\n",
              "    <button class=\"colab-df-convert\" onclick=\"convertToInteractive('df-19aef7de-a146-407d-8389-6bad7041cb2e')\"\n",
              "            title=\"Convert this dataframe to an interactive table.\"\n",
              "            style=\"display:none;\">\n",
              "\n",
              "  <svg xmlns=\"http://www.w3.org/2000/svg\" height=\"24px\" viewBox=\"0 -960 960 960\">\n",
              "    <path d=\"M120-120v-720h720v720H120Zm60-500h600v-160H180v160Zm220 220h160v-160H400v160Zm0 220h160v-160H400v160ZM180-400h160v-160H180v160Zm440 0h160v-160H620v160ZM180-180h160v-160H180v160Zm440 0h160v-160H620v160Z\"/>\n",
              "  </svg>\n",
              "    </button>\n",
              "\n",
              "  <style>\n",
              "    .colab-df-container {\n",
              "      display:flex;\n",
              "      gap: 12px;\n",
              "    }\n",
              "\n",
              "    .colab-df-convert {\n",
              "      background-color: #E8F0FE;\n",
              "      border: none;\n",
              "      border-radius: 50%;\n",
              "      cursor: pointer;\n",
              "      display: none;\n",
              "      fill: #1967D2;\n",
              "      height: 32px;\n",
              "      padding: 0 0 0 0;\n",
              "      width: 32px;\n",
              "    }\n",
              "\n",
              "    .colab-df-convert:hover {\n",
              "      background-color: #E2EBFA;\n",
              "      box-shadow: 0px 1px 2px rgba(60, 64, 67, 0.3), 0px 1px 3px 1px rgba(60, 64, 67, 0.15);\n",
              "      fill: #174EA6;\n",
              "    }\n",
              "\n",
              "    .colab-df-buttons div {\n",
              "      margin-bottom: 4px;\n",
              "    }\n",
              "\n",
              "    [theme=dark] .colab-df-convert {\n",
              "      background-color: #3B4455;\n",
              "      fill: #D2E3FC;\n",
              "    }\n",
              "\n",
              "    [theme=dark] .colab-df-convert:hover {\n",
              "      background-color: #434B5C;\n",
              "      box-shadow: 0px 1px 3px 1px rgba(0, 0, 0, 0.15);\n",
              "      filter: drop-shadow(0px 1px 2px rgba(0, 0, 0, 0.3));\n",
              "      fill: #FFFFFF;\n",
              "    }\n",
              "  </style>\n",
              "\n",
              "    <script>\n",
              "      const buttonEl =\n",
              "        document.querySelector('#df-19aef7de-a146-407d-8389-6bad7041cb2e button.colab-df-convert');\n",
              "      buttonEl.style.display =\n",
              "        google.colab.kernel.accessAllowed ? 'block' : 'none';\n",
              "\n",
              "      async function convertToInteractive(key) {\n",
              "        const element = document.querySelector('#df-19aef7de-a146-407d-8389-6bad7041cb2e');\n",
              "        const dataTable =\n",
              "          await google.colab.kernel.invokeFunction('convertToInteractive',\n",
              "                                                    [key], {});\n",
              "        if (!dataTable) return;\n",
              "\n",
              "        const docLinkHtml = 'Like what you see? Visit the ' +\n",
              "          '<a target=\"_blank\" href=https://colab.research.google.com/notebooks/data_table.ipynb>data table notebook</a>'\n",
              "          + ' to learn more about interactive tables.';\n",
              "        element.innerHTML = '';\n",
              "        dataTable['output_type'] = 'display_data';\n",
              "        await google.colab.output.renderOutput(dataTable, element);\n",
              "        const docLink = document.createElement('div');\n",
              "        docLink.innerHTML = docLinkHtml;\n",
              "        element.appendChild(docLink);\n",
              "      }\n",
              "    </script>\n",
              "  </div>\n",
              "\n",
              "\n",
              "<div id=\"df-c1d9d365-efc3-4024-b9f0-29b6cce38a95\">\n",
              "  <button class=\"colab-df-quickchart\" onclick=\"quickchart('df-c1d9d365-efc3-4024-b9f0-29b6cce38a95')\"\n",
              "            title=\"Suggest charts.\"\n",
              "            style=\"display:none;\">\n",
              "\n",
              "<svg xmlns=\"http://www.w3.org/2000/svg\" height=\"24px\"viewBox=\"0 0 24 24\"\n",
              "     width=\"24px\">\n",
              "    <g>\n",
              "        <path d=\"M19 3H5c-1.1 0-2 .9-2 2v14c0 1.1.9 2 2 2h14c1.1 0 2-.9 2-2V5c0-1.1-.9-2-2-2zM9 17H7v-7h2v7zm4 0h-2V7h2v10zm4 0h-2v-4h2v4z\"/>\n",
              "    </g>\n",
              "</svg>\n",
              "  </button>\n",
              "\n",
              "<style>\n",
              "  .colab-df-quickchart {\n",
              "      --bg-color: #E8F0FE;\n",
              "      --fill-color: #1967D2;\n",
              "      --hover-bg-color: #E2EBFA;\n",
              "      --hover-fill-color: #174EA6;\n",
              "      --disabled-fill-color: #AAA;\n",
              "      --disabled-bg-color: #DDD;\n",
              "  }\n",
              "\n",
              "  [theme=dark] .colab-df-quickchart {\n",
              "      --bg-color: #3B4455;\n",
              "      --fill-color: #D2E3FC;\n",
              "      --hover-bg-color: #434B5C;\n",
              "      --hover-fill-color: #FFFFFF;\n",
              "      --disabled-bg-color: #3B4455;\n",
              "      --disabled-fill-color: #666;\n",
              "  }\n",
              "\n",
              "  .colab-df-quickchart {\n",
              "    background-color: var(--bg-color);\n",
              "    border: none;\n",
              "    border-radius: 50%;\n",
              "    cursor: pointer;\n",
              "    display: none;\n",
              "    fill: var(--fill-color);\n",
              "    height: 32px;\n",
              "    padding: 0;\n",
              "    width: 32px;\n",
              "  }\n",
              "\n",
              "  .colab-df-quickchart:hover {\n",
              "    background-color: var(--hover-bg-color);\n",
              "    box-shadow: 0 1px 2px rgba(60, 64, 67, 0.3), 0 1px 3px 1px rgba(60, 64, 67, 0.15);\n",
              "    fill: var(--button-hover-fill-color);\n",
              "  }\n",
              "\n",
              "  .colab-df-quickchart-complete:disabled,\n",
              "  .colab-df-quickchart-complete:disabled:hover {\n",
              "    background-color: var(--disabled-bg-color);\n",
              "    fill: var(--disabled-fill-color);\n",
              "    box-shadow: none;\n",
              "  }\n",
              "\n",
              "  .colab-df-spinner {\n",
              "    border: 2px solid var(--fill-color);\n",
              "    border-color: transparent;\n",
              "    border-bottom-color: var(--fill-color);\n",
              "    animation:\n",
              "      spin 1s steps(1) infinite;\n",
              "  }\n",
              "\n",
              "  @keyframes spin {\n",
              "    0% {\n",
              "      border-color: transparent;\n",
              "      border-bottom-color: var(--fill-color);\n",
              "      border-left-color: var(--fill-color);\n",
              "    }\n",
              "    20% {\n",
              "      border-color: transparent;\n",
              "      border-left-color: var(--fill-color);\n",
              "      border-top-color: var(--fill-color);\n",
              "    }\n",
              "    30% {\n",
              "      border-color: transparent;\n",
              "      border-left-color: var(--fill-color);\n",
              "      border-top-color: var(--fill-color);\n",
              "      border-right-color: var(--fill-color);\n",
              "    }\n",
              "    40% {\n",
              "      border-color: transparent;\n",
              "      border-right-color: var(--fill-color);\n",
              "      border-top-color: var(--fill-color);\n",
              "    }\n",
              "    60% {\n",
              "      border-color: transparent;\n",
              "      border-right-color: var(--fill-color);\n",
              "    }\n",
              "    80% {\n",
              "      border-color: transparent;\n",
              "      border-right-color: var(--fill-color);\n",
              "      border-bottom-color: var(--fill-color);\n",
              "    }\n",
              "    90% {\n",
              "      border-color: transparent;\n",
              "      border-bottom-color: var(--fill-color);\n",
              "    }\n",
              "  }\n",
              "</style>\n",
              "\n",
              "  <script>\n",
              "    async function quickchart(key) {\n",
              "      const quickchartButtonEl =\n",
              "        document.querySelector('#' + key + ' button');\n",
              "      quickchartButtonEl.disabled = true;  // To prevent multiple clicks.\n",
              "      quickchartButtonEl.classList.add('colab-df-spinner');\n",
              "      try {\n",
              "        const charts = await google.colab.kernel.invokeFunction(\n",
              "            'suggestCharts', [key], {});\n",
              "      } catch (error) {\n",
              "        console.error('Error during call to suggestCharts:', error);\n",
              "      }\n",
              "      quickchartButtonEl.classList.remove('colab-df-spinner');\n",
              "      quickchartButtonEl.classList.add('colab-df-quickchart-complete');\n",
              "    }\n",
              "    (() => {\n",
              "      let quickchartButtonEl =\n",
              "        document.querySelector('#df-c1d9d365-efc3-4024-b9f0-29b6cce38a95 button');\n",
              "      quickchartButtonEl.style.display =\n",
              "        google.colab.kernel.accessAllowed ? 'block' : 'none';\n",
              "    })();\n",
              "  </script>\n",
              "</div>\n",
              "    </div>\n",
              "  </div>\n"
            ]
          },
          "metadata": {},
          "execution_count": 6
        }
      ]
    },
    {
      "cell_type": "code",
      "source": [
        "df.shape"
      ],
      "metadata": {
        "colab": {
          "base_uri": "https://localhost:8080/"
        },
        "id": "6RC5AJwj2vIA",
        "outputId": "8393f908-0635-48f5-aaa3-e6c8c8588eb6"
      },
      "execution_count": 7,
      "outputs": [
        {
          "output_type": "execute_result",
          "data": {
            "text/plain": [
              "(375734, 245)"
            ]
          },
          "metadata": {},
          "execution_count": 7
        }
      ]
    },
    {
      "cell_type": "code",
      "source": [
        "target = 'contest-tmp2m-14d__tmp2m'\n",
        "df[target]"
      ],
      "metadata": {
        "colab": {
          "base_uri": "https://localhost:8080/"
        },
        "id": "rgAy8SlF2zyf",
        "outputId": "6a845e34-7f9d-4e51-8363-9ef372bd9e9d"
      },
      "execution_count": 8,
      "outputs": [
        {
          "output_type": "execute_result",
          "data": {
            "text/plain": [
              "index\n",
              "0         28.744480\n",
              "1         28.370585\n",
              "2         28.133059\n",
              "3         28.256798\n",
              "4         28.372353\n",
              "            ...    \n",
              "375729    17.150954\n",
              "375730    16.962051\n",
              "375731    16.915474\n",
              "375732    16.536761\n",
              "375733    15.910995\n",
              "Name: contest-tmp2m-14d__tmp2m, Length: 375734, dtype: float64"
            ]
          },
          "metadata": {},
          "execution_count": 8
        }
      ]
    },
    {
      "cell_type": "markdown",
      "source": [
        "## Preprocessing the dataset"
      ],
      "metadata": {
        "id": "v8QO_BG327jD"
      }
    },
    {
      "cell_type": "code",
      "source": [
        "def loc_group(df):\n",
        "\n",
        "    scale = 14\n",
        "\n",
        "    df['lat'] = np.round(df['lat'], scale)\n",
        "    df['lon'] = np.round(df['lon'], scale)\n",
        "    df['loc_group'] = df.groupby(['lon', 'lat']).ngroup()\n",
        "\n",
        "    return df"
      ],
      "metadata": {
        "id": "7tRkykxl2zwC"
      },
      "execution_count": 9,
      "outputs": []
    },
    {
      "cell_type": "code",
      "source": [
        "df = loc_group(df)\n",
        "df.loc_group.nunique()"
      ],
      "metadata": {
        "colab": {
          "base_uri": "https://localhost:8080/"
        },
        "id": "-GvDMeIB2ztj",
        "outputId": "5d3ce984-c754-485a-be05-96edd5331a49"
      },
      "execution_count": 10,
      "outputs": [
        {
          "output_type": "execute_result",
          "data": {
            "text/plain": [
              "514"
            ]
          },
          "metadata": {},
          "execution_count": 10
        }
      ]
    },
    {
      "cell_type": "code",
      "source": [
        "n_startdates = []\n",
        "\n",
        "for n in range(df.loc_group.nunique()):\n",
        "    n_startdates.append(df[df.loc_group == n].startdate.nunique())\n",
        "\n",
        "print(n_startdates)\n",
        "print()\n",
        "print(df.startdate.nunique())"
      ],
      "metadata": {
        "colab": {
          "base_uri": "https://localhost:8080/"
        },
        "id": "tbPMChdA2zrc",
        "outputId": "1f8e1b0c-3317-46dc-b0fc-65352bc02598"
      },
      "execution_count": 11,
      "outputs": [
        {
          "output_type": "stream",
          "name": "stdout",
          "text": [
            "[731, 731, 731, 731, 731, 731, 731, 731, 731, 731, 731, 731, 731, 731, 731, 731, 731, 731, 731, 731, 731, 731, 731, 731, 731, 731, 731, 731, 731, 731, 731, 731, 731, 731, 731, 731, 731, 731, 731, 731, 731, 731, 731, 731, 731, 731, 731, 731, 731, 731, 731, 731, 731, 731, 731, 731, 731, 731, 731, 731, 731, 731, 731, 731, 731, 731, 731, 731, 731, 731, 731, 731, 731, 731, 731, 731, 731, 731, 731, 731, 731, 731, 731, 731, 731, 731, 731, 731, 731, 731, 731, 731, 731, 731, 731, 731, 731, 731, 731, 731, 731, 731, 731, 731, 731, 731, 731, 731, 731, 731, 731, 731, 731, 731, 731, 731, 731, 731, 731, 731, 731, 731, 731, 731, 731, 731, 731, 731, 731, 731, 731, 731, 731, 731, 731, 731, 731, 731, 731, 731, 731, 731, 731, 731, 731, 731, 731, 731, 731, 731, 731, 731, 731, 731, 731, 731, 731, 731, 731, 731, 731, 731, 731, 731, 731, 731, 731, 731, 731, 731, 731, 731, 731, 731, 731, 731, 731, 731, 731, 731, 731, 731, 731, 731, 731, 731, 731, 731, 731, 731, 731, 731, 731, 731, 731, 731, 731, 731, 731, 731, 731, 731, 731, 731, 731, 731, 731, 731, 731, 731, 731, 731, 731, 731, 731, 731, 731, 731, 731, 731, 731, 731, 731, 731, 731, 731, 731, 731, 731, 731, 731, 731, 731, 731, 731, 731, 731, 731, 731, 731, 731, 731, 731, 731, 731, 731, 731, 731, 731, 731, 731, 731, 731, 731, 731, 731, 731, 731, 731, 731, 731, 731, 731, 731, 731, 731, 731, 731, 731, 731, 731, 731, 731, 731, 731, 731, 731, 731, 731, 731, 731, 731, 731, 731, 731, 731, 731, 731, 731, 731, 731, 731, 731, 731, 731, 731, 731, 731, 731, 731, 731, 731, 731, 731, 731, 731, 731, 731, 731, 731, 731, 731, 731, 731, 731, 731, 731, 731, 731, 731, 731, 731, 731, 731, 731, 731, 731, 731, 731, 731, 731, 731, 731, 731, 731, 731, 731, 731, 731, 731, 731, 731, 731, 731, 731, 731, 731, 731, 731, 731, 731, 731, 731, 731, 731, 731, 731, 731, 731, 731, 731, 731, 731, 731, 731, 731, 731, 731, 731, 731, 731, 731, 731, 731, 731, 731, 731, 731, 731, 731, 731, 731, 731, 731, 731, 731, 731, 731, 731, 731, 731, 731, 731, 731, 731, 731, 731, 731, 731, 731, 731, 731, 731, 731, 731, 731, 731, 731, 731, 731, 731, 731, 731, 731, 731, 731, 731, 731, 731, 731, 731, 731, 731, 731, 731, 731, 731, 731, 731, 731, 731, 731, 731, 731, 731, 731, 731, 731, 731, 731, 731, 731, 731, 731, 731, 731, 731, 731, 731, 731, 731, 731, 731, 731, 731, 731, 731, 731, 731, 731, 731, 731, 731, 731, 731, 731, 731, 731, 731, 731, 731, 731, 731, 731, 731, 731, 731, 731, 731, 731, 731, 731, 731, 731, 731, 731, 731, 731, 731, 731, 731, 731, 731, 731, 731, 731, 731, 731, 731, 731, 731, 731, 731, 731, 731, 731, 731, 731, 731, 731, 731, 731, 731, 731]\n",
            "\n",
            "731\n"
          ]
        }
      ]
    },
    {
      "cell_type": "markdown",
      "source": [
        "## Fill Missing Values"
      ],
      "metadata": {
        "id": "LYJX_jGv3FMH"
      }
    },
    {
      "cell_type": "code",
      "source": [
        "na_cols = []\n",
        "\n",
        "for col in df.columns:\n",
        "    if df[col].isnull().sum() >0:\n",
        "        na_cols.append(col)\n",
        "        print(col, df[col].isnull().sum())"
      ],
      "metadata": {
        "colab": {
          "base_uri": "https://localhost:8080/"
        },
        "id": "RJ-4KRf02zo_",
        "outputId": "54a0c0c2-e0ab-4c3c-997a-0a8f897199ce"
      },
      "execution_count": 12,
      "outputs": [
        {
          "output_type": "stream",
          "name": "stdout",
          "text": [
            "nmme0-tmp2m-34w__ccsm30 15934\n",
            "nmme-tmp2m-56w__ccsm3 10280\n",
            "nmme-prate-34w__ccsm3 8738\n",
            "nmme0-prate-56w__ccsm30 15934\n",
            "nmme0-prate-34w__ccsm30 15934\n",
            "nmme-prate-56w__ccsm3 10280\n",
            "nmme-tmp2m-34w__ccsm3 8738\n",
            "ccsm30 15934\n"
          ]
        }
      ]
    },
    {
      "cell_type": "code",
      "source": [
        "forecast_na_cols = ['nmme0-tmp2m-34w__ccsm30',\n",
        " 'nmme-tmp2m-56w__ccsm3',\n",
        " 'nmme-prate-34w__ccsm3',\n",
        " 'nmme0-prate-56w__ccsm30',\n",
        " 'nmme0-prate-34w__ccsm30',\n",
        " 'nmme-prate-56w__ccsm3',\n",
        " 'nmme-tmp2m-34w__ccsm3']\n",
        "\n",
        "\n",
        "forecast_mean_cols = ['nmme0-tmp2m-34w__nmme0mean',\n",
        " 'nmme-tmp2m-56w__nmmemean',\n",
        " 'nmme-prate-34w__nmmemean',\n",
        " 'nmme0-prate-56w__nmme0mean',\n",
        " 'nmme0-prate-34w__nmme0mean',\n",
        " 'nmme-prate-56w__nmmemean',\n",
        " 'nmme-tmp2m-34w__nmmemean']\n",
        "\n",
        "\n",
        "nmme0_tmp2m_34w = ['nmme0-tmp2m-34w__cancm30',\n",
        "'nmme0-tmp2m-34w__cancm40',\n",
        "'nmme0-tmp2m-34w__ccsm40',\n",
        "'nmme0-tmp2m-34w__cfsv20',\n",
        "'nmme0-tmp2m-34w__gfdlflora0',\n",
        "'nmme0-tmp2m-34w__gfdlflorb0',\n",
        "'nmme0-tmp2m-34w__gfdl0',\n",
        "'nmme0-tmp2m-34w__nasa0']\n",
        "\n",
        "nmme_tmp2m_56w = ['nmme-tmp2m-56w__cancm3',\n",
        "'nmme-tmp2m-56w__cancm4',\n",
        "'nmme-tmp2m-56w__ccsm4',\n",
        "'nmme-tmp2m-56w__cfsv2',\n",
        "'nmme-tmp2m-56w__gfdl',\n",
        "'nmme-tmp2m-56w__gfdlflora',\n",
        "'nmme-tmp2m-56w__gfdlflorb',\n",
        "'nmme-tmp2m-56w__nasa']\n",
        "\n",
        "nmme_prate_34w = ['nmme-prate-34w__cancm3',\n",
        "'nmme-prate-34w__cancm4',\n",
        "'nmme-prate-34w__ccsm4',\n",
        "'nmme-prate-34w__cfsv2',\n",
        "'nmme-prate-34w__gfdl',\n",
        "'nmme-prate-34w__gfdlflora',\n",
        "'nmme-prate-34w__gfdlflorb',\n",
        "'nmme-prate-34w__nasa']\n",
        "\n",
        "nmme0_prate_56w = [ 'nmme0-prate-56w__cancm30',\n",
        "'nmme0-prate-56w__cancm40',\n",
        "'nmme0-prate-56w__ccsm40',\n",
        "'nmme0-prate-56w__cfsv20',\n",
        "'nmme0-prate-56w__gfdlflora0',\n",
        "'nmme0-prate-56w__gfdlflorb0',\n",
        "'nmme0-prate-56w__gfdl0',\n",
        "'nmme0-prate-56w__nasa0']\n",
        "\n",
        "nmme0_prate_34w = ['nmme0-prate-34w__cancm30',\n",
        "'nmme0-prate-34w__cancm40',\n",
        "'nmme0-prate-34w__ccsm40',\n",
        "'nmme0-prate-34w__cfsv20',\n",
        "'nmme0-prate-34w__gfdlflora0',\n",
        "'nmme0-prate-34w__gfdlflorb0',\n",
        "'nmme0-prate-34w__gfdl0',\n",
        "'nmme0-prate-34w__nasa0']\n",
        "\n",
        "nmme_prate_56w = ['nmme-prate-56w__cancm3',\n",
        "'nmme-prate-56w__cancm4',\n",
        "'nmme-prate-56w__ccsm4',\n",
        "'nmme-prate-56w__cfsv2',\n",
        "'nmme-prate-56w__gfdl',\n",
        "'nmme-prate-56w__gfdlflora',\n",
        "'nmme-prate-56w__gfdlflorb',\n",
        "'nmme-prate-56w__nasa']\n",
        "\n",
        "nmme_tmp2m_34w = ['nmme-tmp2m-34w__cancm3',\n",
        "'nmme-tmp2m-34w__cancm4',\n",
        "'nmme-tmp2m-34w__ccsm4',\n",
        "'nmme-tmp2m-34w__cfsv2',\n",
        "'nmme-tmp2m-34w__gfdl',\n",
        "'nmme-tmp2m-34w__gfdlflora',\n",
        "'nmme-tmp2m-34w__gfdlflorb',\n",
        "'nmme-tmp2m-34w__nasa']\n",
        "\n",
        "forecast_cols = [nmme0_tmp2m_34w, nmme_tmp2m_56w, nmme_prate_34w, nmme0_prate_56w, nmme0_prate_34w, nmme_prate_56w, nmme_tmp2m_34w]"
      ],
      "metadata": {
        "id": "JbW4kOz33ICh"
      },
      "execution_count": 13,
      "outputs": []
    },
    {
      "cell_type": "code",
      "source": [
        "def impute_missing_values(df):\n",
        "\n",
        "    for i, na_col in enumerate(forecast_na_cols):\n",
        "        total = df[forecast_mean_cols[i]] * 9\n",
        "        sum_of_8_forecast = df[forecast_cols[i]].sum(axis=1)\n",
        "        df[na_col] = total - sum_of_8_forecast\n",
        "\n",
        "    return df"
      ],
      "metadata": {
        "id": "P6F5qi0C3LLu"
      },
      "execution_count": 14,
      "outputs": []
    },
    {
      "cell_type": "code",
      "source": [
        "df = impute_missing_values(df)"
      ],
      "metadata": {
        "id": "4SfWvxSr3M0E"
      },
      "execution_count": 15,
      "outputs": []
    },
    {
      "cell_type": "code",
      "source": [
        "def drop_redundant_col(df):\n",
        "\n",
        "    df.drop(['ccsm30'], axis=1, inplace=True)\n",
        "\n",
        "    return df"
      ],
      "metadata": {
        "id": "SCKxD3Lf3OJi"
      },
      "execution_count": 16,
      "outputs": []
    },
    {
      "cell_type": "code",
      "source": [
        "df = drop_redundant_col(df)"
      ],
      "metadata": {
        "id": "x0TPe6Xd3RAR"
      },
      "execution_count": 17,
      "outputs": []
    },
    {
      "cell_type": "code",
      "source": [
        "df.isnull().sum().sum()"
      ],
      "metadata": {
        "colab": {
          "base_uri": "https://localhost:8080/"
        },
        "id": "olFA8w5f3SO3",
        "outputId": "ee170e05-9050-4580-a34f-d7a5e5f1151c"
      },
      "execution_count": 18,
      "outputs": [
        {
          "output_type": "execute_result",
          "data": {
            "text/plain": [
              "0"
            ]
          },
          "metadata": {},
          "execution_count": 18
        }
      ]
    },
    {
      "cell_type": "markdown",
      "source": [
        "## Feature Selection and Lasso Regressions (to Obtain Residuals)¶"
      ],
      "metadata": {
        "id": "VIvZTq2d3cb0"
      }
    },
    {
      "cell_type": "markdown",
      "source": [
        "### Spliting the data"
      ],
      "metadata": {
        "id": "F9oP7k7h3fqp"
      }
    },
    {
      "cell_type": "code",
      "source": [
        "df.sort_values(by=['loc_group', 'startdate'], inplace=True, ignore_index=True)"
      ],
      "metadata": {
        "id": "dUaQLbfp3TWx"
      },
      "execution_count": 19,
      "outputs": []
    },
    {
      "cell_type": "code",
      "source": [
        "df.head()"
      ],
      "metadata": {
        "colab": {
          "base_uri": "https://localhost:8080/",
          "height": 412
        },
        "id": "SqTUWEmj3o1K",
        "outputId": "7b82cd13-b4c3-4632-a616-0870fbb4e94e"
      },
      "execution_count": 20,
      "outputs": [
        {
          "output_type": "execute_result",
          "data": {
            "text/plain": [
              "        lat  lon  startdate  contest-pevpr-sfc-gauss-14d__pevpr  \\\n",
              "0  0.590909  0.0 2014-09-01                              731.27   \n",
              "1  0.590909  0.0 2014-09-02                              711.89   \n",
              "2  0.590909  0.0 2014-09-03                              683.18   \n",
              "3  0.590909  0.0 2014-09-04                              649.02   \n",
              "4  0.590909  0.0 2014-09-05                              582.21   \n",
              "\n",
              "   nmme0-tmp2m-34w__cancm30  nmme0-tmp2m-34w__cancm40  \\\n",
              "0                     24.08                     23.28   \n",
              "1                     24.08                     23.28   \n",
              "2                     24.08                     23.28   \n",
              "3                     24.08                     23.28   \n",
              "4                     24.08                     23.28   \n",
              "\n",
              "   nmme0-tmp2m-34w__ccsm30  nmme0-tmp2m-34w__ccsm40  nmme0-tmp2m-34w__cfsv20  \\\n",
              "0                    19.34                    20.35                    17.97   \n",
              "1                    19.34                    20.35                    17.97   \n",
              "2                    19.34                    20.35                    17.97   \n",
              "3                    19.34                    20.35                    17.97   \n",
              "4                    19.34                    20.35                    17.97   \n",
              "\n",
              "   nmme0-tmp2m-34w__gfdlflora0  ...  wind-vwnd-925-2010-12  \\\n",
              "0                        19.48  ...                 -37.21   \n",
              "1                        19.48  ...                 -36.57   \n",
              "2                        19.48  ...                 -34.16   \n",
              "3                        19.48  ...                 -31.04   \n",
              "4                        19.48  ...                 -31.80   \n",
              "\n",
              "   wind-vwnd-925-2010-13  wind-vwnd-925-2010-14  wind-vwnd-925-2010-15  \\\n",
              "0                   8.32                   9.56                  -2.03   \n",
              "1                   8.77                  21.17                   4.44   \n",
              "2                   6.99                  32.16                   5.01   \n",
              "3                   6.17                  39.66                  -1.41   \n",
              "4                   7.47                  38.62                  -5.21   \n",
              "\n",
              "   wind-vwnd-925-2010-16  wind-vwnd-925-2010-17  wind-vwnd-925-2010-18  \\\n",
              "0                  48.13                  28.09                 -13.50   \n",
              "1                  48.60                  27.41                 -23.77   \n",
              "2                  48.53                  19.21                 -33.16   \n",
              "3                  50.59                   8.29                 -37.22   \n",
              "4                  54.73                  -2.58                 -42.30   \n",
              "\n",
              "   wind-vwnd-925-2010-19  wind-vwnd-925-2010-20  loc_group  \n",
              "0                  11.90                   4.58          0  \n",
              "1                  15.44                   3.42          0  \n",
              "2                  15.11                   4.82          0  \n",
              "3                  18.24                   9.74          0  \n",
              "4                  21.91                  10.95          0  \n",
              "\n",
              "[5 rows x 245 columns]"
            ],
            "text/html": [
              "\n",
              "  <div id=\"df-5c5ec65a-b9d4-47a3-bd36-70ab57209543\" class=\"colab-df-container\">\n",
              "    <div>\n",
              "<style scoped>\n",
              "    .dataframe tbody tr th:only-of-type {\n",
              "        vertical-align: middle;\n",
              "    }\n",
              "\n",
              "    .dataframe tbody tr th {\n",
              "        vertical-align: top;\n",
              "    }\n",
              "\n",
              "    .dataframe thead th {\n",
              "        text-align: right;\n",
              "    }\n",
              "</style>\n",
              "<table border=\"1\" class=\"dataframe\">\n",
              "  <thead>\n",
              "    <tr style=\"text-align: right;\">\n",
              "      <th></th>\n",
              "      <th>lat</th>\n",
              "      <th>lon</th>\n",
              "      <th>startdate</th>\n",
              "      <th>contest-pevpr-sfc-gauss-14d__pevpr</th>\n",
              "      <th>nmme0-tmp2m-34w__cancm30</th>\n",
              "      <th>nmme0-tmp2m-34w__cancm40</th>\n",
              "      <th>nmme0-tmp2m-34w__ccsm30</th>\n",
              "      <th>nmme0-tmp2m-34w__ccsm40</th>\n",
              "      <th>nmme0-tmp2m-34w__cfsv20</th>\n",
              "      <th>nmme0-tmp2m-34w__gfdlflora0</th>\n",
              "      <th>...</th>\n",
              "      <th>wind-vwnd-925-2010-12</th>\n",
              "      <th>wind-vwnd-925-2010-13</th>\n",
              "      <th>wind-vwnd-925-2010-14</th>\n",
              "      <th>wind-vwnd-925-2010-15</th>\n",
              "      <th>wind-vwnd-925-2010-16</th>\n",
              "      <th>wind-vwnd-925-2010-17</th>\n",
              "      <th>wind-vwnd-925-2010-18</th>\n",
              "      <th>wind-vwnd-925-2010-19</th>\n",
              "      <th>wind-vwnd-925-2010-20</th>\n",
              "      <th>loc_group</th>\n",
              "    </tr>\n",
              "  </thead>\n",
              "  <tbody>\n",
              "    <tr>\n",
              "      <th>0</th>\n",
              "      <td>0.590909</td>\n",
              "      <td>0.0</td>\n",
              "      <td>2014-09-01</td>\n",
              "      <td>731.27</td>\n",
              "      <td>24.08</td>\n",
              "      <td>23.28</td>\n",
              "      <td>19.34</td>\n",
              "      <td>20.35</td>\n",
              "      <td>17.97</td>\n",
              "      <td>19.48</td>\n",
              "      <td>...</td>\n",
              "      <td>-37.21</td>\n",
              "      <td>8.32</td>\n",
              "      <td>9.56</td>\n",
              "      <td>-2.03</td>\n",
              "      <td>48.13</td>\n",
              "      <td>28.09</td>\n",
              "      <td>-13.50</td>\n",
              "      <td>11.90</td>\n",
              "      <td>4.58</td>\n",
              "      <td>0</td>\n",
              "    </tr>\n",
              "    <tr>\n",
              "      <th>1</th>\n",
              "      <td>0.590909</td>\n",
              "      <td>0.0</td>\n",
              "      <td>2014-09-02</td>\n",
              "      <td>711.89</td>\n",
              "      <td>24.08</td>\n",
              "      <td>23.28</td>\n",
              "      <td>19.34</td>\n",
              "      <td>20.35</td>\n",
              "      <td>17.97</td>\n",
              "      <td>19.48</td>\n",
              "      <td>...</td>\n",
              "      <td>-36.57</td>\n",
              "      <td>8.77</td>\n",
              "      <td>21.17</td>\n",
              "      <td>4.44</td>\n",
              "      <td>48.60</td>\n",
              "      <td>27.41</td>\n",
              "      <td>-23.77</td>\n",
              "      <td>15.44</td>\n",
              "      <td>3.42</td>\n",
              "      <td>0</td>\n",
              "    </tr>\n",
              "    <tr>\n",
              "      <th>2</th>\n",
              "      <td>0.590909</td>\n",
              "      <td>0.0</td>\n",
              "      <td>2014-09-03</td>\n",
              "      <td>683.18</td>\n",
              "      <td>24.08</td>\n",
              "      <td>23.28</td>\n",
              "      <td>19.34</td>\n",
              "      <td>20.35</td>\n",
              "      <td>17.97</td>\n",
              "      <td>19.48</td>\n",
              "      <td>...</td>\n",
              "      <td>-34.16</td>\n",
              "      <td>6.99</td>\n",
              "      <td>32.16</td>\n",
              "      <td>5.01</td>\n",
              "      <td>48.53</td>\n",
              "      <td>19.21</td>\n",
              "      <td>-33.16</td>\n",
              "      <td>15.11</td>\n",
              "      <td>4.82</td>\n",
              "      <td>0</td>\n",
              "    </tr>\n",
              "    <tr>\n",
              "      <th>3</th>\n",
              "      <td>0.590909</td>\n",
              "      <td>0.0</td>\n",
              "      <td>2014-09-04</td>\n",
              "      <td>649.02</td>\n",
              "      <td>24.08</td>\n",
              "      <td>23.28</td>\n",
              "      <td>19.34</td>\n",
              "      <td>20.35</td>\n",
              "      <td>17.97</td>\n",
              "      <td>19.48</td>\n",
              "      <td>...</td>\n",
              "      <td>-31.04</td>\n",
              "      <td>6.17</td>\n",
              "      <td>39.66</td>\n",
              "      <td>-1.41</td>\n",
              "      <td>50.59</td>\n",
              "      <td>8.29</td>\n",
              "      <td>-37.22</td>\n",
              "      <td>18.24</td>\n",
              "      <td>9.74</td>\n",
              "      <td>0</td>\n",
              "    </tr>\n",
              "    <tr>\n",
              "      <th>4</th>\n",
              "      <td>0.590909</td>\n",
              "      <td>0.0</td>\n",
              "      <td>2014-09-05</td>\n",
              "      <td>582.21</td>\n",
              "      <td>24.08</td>\n",
              "      <td>23.28</td>\n",
              "      <td>19.34</td>\n",
              "      <td>20.35</td>\n",
              "      <td>17.97</td>\n",
              "      <td>19.48</td>\n",
              "      <td>...</td>\n",
              "      <td>-31.80</td>\n",
              "      <td>7.47</td>\n",
              "      <td>38.62</td>\n",
              "      <td>-5.21</td>\n",
              "      <td>54.73</td>\n",
              "      <td>-2.58</td>\n",
              "      <td>-42.30</td>\n",
              "      <td>21.91</td>\n",
              "      <td>10.95</td>\n",
              "      <td>0</td>\n",
              "    </tr>\n",
              "  </tbody>\n",
              "</table>\n",
              "<p>5 rows × 245 columns</p>\n",
              "</div>\n",
              "    <div class=\"colab-df-buttons\">\n",
              "\n",
              "  <div class=\"colab-df-container\">\n",
              "    <button class=\"colab-df-convert\" onclick=\"convertToInteractive('df-5c5ec65a-b9d4-47a3-bd36-70ab57209543')\"\n",
              "            title=\"Convert this dataframe to an interactive table.\"\n",
              "            style=\"display:none;\">\n",
              "\n",
              "  <svg xmlns=\"http://www.w3.org/2000/svg\" height=\"24px\" viewBox=\"0 -960 960 960\">\n",
              "    <path d=\"M120-120v-720h720v720H120Zm60-500h600v-160H180v160Zm220 220h160v-160H400v160Zm0 220h160v-160H400v160ZM180-400h160v-160H180v160Zm440 0h160v-160H620v160ZM180-180h160v-160H180v160Zm440 0h160v-160H620v160Z\"/>\n",
              "  </svg>\n",
              "    </button>\n",
              "\n",
              "  <style>\n",
              "    .colab-df-container {\n",
              "      display:flex;\n",
              "      gap: 12px;\n",
              "    }\n",
              "\n",
              "    .colab-df-convert {\n",
              "      background-color: #E8F0FE;\n",
              "      border: none;\n",
              "      border-radius: 50%;\n",
              "      cursor: pointer;\n",
              "      display: none;\n",
              "      fill: #1967D2;\n",
              "      height: 32px;\n",
              "      padding: 0 0 0 0;\n",
              "      width: 32px;\n",
              "    }\n",
              "\n",
              "    .colab-df-convert:hover {\n",
              "      background-color: #E2EBFA;\n",
              "      box-shadow: 0px 1px 2px rgba(60, 64, 67, 0.3), 0px 1px 3px 1px rgba(60, 64, 67, 0.15);\n",
              "      fill: #174EA6;\n",
              "    }\n",
              "\n",
              "    .colab-df-buttons div {\n",
              "      margin-bottom: 4px;\n",
              "    }\n",
              "\n",
              "    [theme=dark] .colab-df-convert {\n",
              "      background-color: #3B4455;\n",
              "      fill: #D2E3FC;\n",
              "    }\n",
              "\n",
              "    [theme=dark] .colab-df-convert:hover {\n",
              "      background-color: #434B5C;\n",
              "      box-shadow: 0px 1px 3px 1px rgba(0, 0, 0, 0.15);\n",
              "      filter: drop-shadow(0px 1px 2px rgba(0, 0, 0, 0.3));\n",
              "      fill: #FFFFFF;\n",
              "    }\n",
              "  </style>\n",
              "\n",
              "    <script>\n",
              "      const buttonEl =\n",
              "        document.querySelector('#df-5c5ec65a-b9d4-47a3-bd36-70ab57209543 button.colab-df-convert');\n",
              "      buttonEl.style.display =\n",
              "        google.colab.kernel.accessAllowed ? 'block' : 'none';\n",
              "\n",
              "      async function convertToInteractive(key) {\n",
              "        const element = document.querySelector('#df-5c5ec65a-b9d4-47a3-bd36-70ab57209543');\n",
              "        const dataTable =\n",
              "          await google.colab.kernel.invokeFunction('convertToInteractive',\n",
              "                                                    [key], {});\n",
              "        if (!dataTable) return;\n",
              "\n",
              "        const docLinkHtml = 'Like what you see? Visit the ' +\n",
              "          '<a target=\"_blank\" href=https://colab.research.google.com/notebooks/data_table.ipynb>data table notebook</a>'\n",
              "          + ' to learn more about interactive tables.';\n",
              "        element.innerHTML = '';\n",
              "        dataTable['output_type'] = 'display_data';\n",
              "        await google.colab.output.renderOutput(dataTable, element);\n",
              "        const docLink = document.createElement('div');\n",
              "        docLink.innerHTML = docLinkHtml;\n",
              "        element.appendChild(docLink);\n",
              "      }\n",
              "    </script>\n",
              "  </div>\n",
              "\n",
              "\n",
              "<div id=\"df-7c4a874b-9566-4109-8012-6a5578f2a26a\">\n",
              "  <button class=\"colab-df-quickchart\" onclick=\"quickchart('df-7c4a874b-9566-4109-8012-6a5578f2a26a')\"\n",
              "            title=\"Suggest charts.\"\n",
              "            style=\"display:none;\">\n",
              "\n",
              "<svg xmlns=\"http://www.w3.org/2000/svg\" height=\"24px\"viewBox=\"0 0 24 24\"\n",
              "     width=\"24px\">\n",
              "    <g>\n",
              "        <path d=\"M19 3H5c-1.1 0-2 .9-2 2v14c0 1.1.9 2 2 2h14c1.1 0 2-.9 2-2V5c0-1.1-.9-2-2-2zM9 17H7v-7h2v7zm4 0h-2V7h2v10zm4 0h-2v-4h2v4z\"/>\n",
              "    </g>\n",
              "</svg>\n",
              "  </button>\n",
              "\n",
              "<style>\n",
              "  .colab-df-quickchart {\n",
              "      --bg-color: #E8F0FE;\n",
              "      --fill-color: #1967D2;\n",
              "      --hover-bg-color: #E2EBFA;\n",
              "      --hover-fill-color: #174EA6;\n",
              "      --disabled-fill-color: #AAA;\n",
              "      --disabled-bg-color: #DDD;\n",
              "  }\n",
              "\n",
              "  [theme=dark] .colab-df-quickchart {\n",
              "      --bg-color: #3B4455;\n",
              "      --fill-color: #D2E3FC;\n",
              "      --hover-bg-color: #434B5C;\n",
              "      --hover-fill-color: #FFFFFF;\n",
              "      --disabled-bg-color: #3B4455;\n",
              "      --disabled-fill-color: #666;\n",
              "  }\n",
              "\n",
              "  .colab-df-quickchart {\n",
              "    background-color: var(--bg-color);\n",
              "    border: none;\n",
              "    border-radius: 50%;\n",
              "    cursor: pointer;\n",
              "    display: none;\n",
              "    fill: var(--fill-color);\n",
              "    height: 32px;\n",
              "    padding: 0;\n",
              "    width: 32px;\n",
              "  }\n",
              "\n",
              "  .colab-df-quickchart:hover {\n",
              "    background-color: var(--hover-bg-color);\n",
              "    box-shadow: 0 1px 2px rgba(60, 64, 67, 0.3), 0 1px 3px 1px rgba(60, 64, 67, 0.15);\n",
              "    fill: var(--button-hover-fill-color);\n",
              "  }\n",
              "\n",
              "  .colab-df-quickchart-complete:disabled,\n",
              "  .colab-df-quickchart-complete:disabled:hover {\n",
              "    background-color: var(--disabled-bg-color);\n",
              "    fill: var(--disabled-fill-color);\n",
              "    box-shadow: none;\n",
              "  }\n",
              "\n",
              "  .colab-df-spinner {\n",
              "    border: 2px solid var(--fill-color);\n",
              "    border-color: transparent;\n",
              "    border-bottom-color: var(--fill-color);\n",
              "    animation:\n",
              "      spin 1s steps(1) infinite;\n",
              "  }\n",
              "\n",
              "  @keyframes spin {\n",
              "    0% {\n",
              "      border-color: transparent;\n",
              "      border-bottom-color: var(--fill-color);\n",
              "      border-left-color: var(--fill-color);\n",
              "    }\n",
              "    20% {\n",
              "      border-color: transparent;\n",
              "      border-left-color: var(--fill-color);\n",
              "      border-top-color: var(--fill-color);\n",
              "    }\n",
              "    30% {\n",
              "      border-color: transparent;\n",
              "      border-left-color: var(--fill-color);\n",
              "      border-top-color: var(--fill-color);\n",
              "      border-right-color: var(--fill-color);\n",
              "    }\n",
              "    40% {\n",
              "      border-color: transparent;\n",
              "      border-right-color: var(--fill-color);\n",
              "      border-top-color: var(--fill-color);\n",
              "    }\n",
              "    60% {\n",
              "      border-color: transparent;\n",
              "      border-right-color: var(--fill-color);\n",
              "    }\n",
              "    80% {\n",
              "      border-color: transparent;\n",
              "      border-right-color: var(--fill-color);\n",
              "      border-bottom-color: var(--fill-color);\n",
              "    }\n",
              "    90% {\n",
              "      border-color: transparent;\n",
              "      border-bottom-color: var(--fill-color);\n",
              "    }\n",
              "  }\n",
              "</style>\n",
              "\n",
              "  <script>\n",
              "    async function quickchart(key) {\n",
              "      const quickchartButtonEl =\n",
              "        document.querySelector('#' + key + ' button');\n",
              "      quickchartButtonEl.disabled = true;  // To prevent multiple clicks.\n",
              "      quickchartButtonEl.classList.add('colab-df-spinner');\n",
              "      try {\n",
              "        const charts = await google.colab.kernel.invokeFunction(\n",
              "            'suggestCharts', [key], {});\n",
              "      } catch (error) {\n",
              "        console.error('Error during call to suggestCharts:', error);\n",
              "      }\n",
              "      quickchartButtonEl.classList.remove('colab-df-spinner');\n",
              "      quickchartButtonEl.classList.add('colab-df-quickchart-complete');\n",
              "    }\n",
              "    (() => {\n",
              "      let quickchartButtonEl =\n",
              "        document.querySelector('#df-7c4a874b-9566-4109-8012-6a5578f2a26a button');\n",
              "      quickchartButtonEl.style.display =\n",
              "        google.colab.kernel.accessAllowed ? 'block' : 'none';\n",
              "    })();\n",
              "  </script>\n",
              "</div>\n",
              "    </div>\n",
              "  </div>\n"
            ]
          },
          "metadata": {},
          "execution_count": 20
        }
      ]
    },
    {
      "cell_type": "code",
      "source": [
        "train = df[df[\"startdate\"] <= pd.datetime(2015, 11, 15)]\n",
        "val = df[(df[\"startdate\"] > pd.datetime(2015, 11, 15)) & (df[\"startdate\"] <= pd.datetime(2016, 4, 8))]\n",
        "test = df[df[\"startdate\"] > pd.datetime(2016, 4, 8)]\n",
        "\n",
        "print(f'Train_shape: {train.shape}  |  Val_shape: {val.shape}   |  Test_shape: {test.shape}')"
      ],
      "metadata": {
        "colab": {
          "base_uri": "https://localhost:8080/"
        },
        "id": "PZLqCTQf3rfv",
        "outputId": "45283409-f5ef-49fb-eac4-a372d23665d9"
      },
      "execution_count": 21,
      "outputs": [
        {
          "output_type": "stream",
          "name": "stdout",
          "text": [
            "Train_shape: (226674, 245)  |  Val_shape: (74530, 245)   |  Test_shape: (74530, 245)\n"
          ]
        }
      ]
    },
    {
      "cell_type": "markdown",
      "source": [
        "### Feature Selection"
      ],
      "metadata": {
        "id": "vklMViEx3xj1"
      }
    },
    {
      "cell_type": "code",
      "source": [
        "LR_cols = []\n",
        "\n",
        "for col in df.columns:\n",
        "    if '14d' in col and col != target:\n",
        "        corr = df[[col, target]].corr().iloc[0,1]\n",
        "        if np.abs(corr) > 0.8:\n",
        "            print(col, corr)\n",
        "            LR_cols.append(col)"
      ],
      "metadata": {
        "colab": {
          "base_uri": "https://localhost:8080/"
        },
        "id": "LJmkK-pN3tX8",
        "outputId": "3cd55564-311f-4c32-e360-1d011f6c98b1"
      },
      "execution_count": 22,
      "outputs": [
        {
          "output_type": "stream",
          "name": "stdout",
          "text": [
            "contest-pevpr-sfc-gauss-14d__pevpr 0.8053009996220467\n",
            "contest-wind-h100-14d__wind-hgt-100 0.898186990483465\n",
            "contest-wind-h500-14d__wind-hgt-500 0.8841771695589746\n"
          ]
        }
      ]
    },
    {
      "cell_type": "code",
      "source": [
        "prefixs = []\n",
        "\n",
        "for col in df.columns:\n",
        "    if '34w' in col or '56w' in col:\n",
        "        prefix = col.split(\"__\")[0]\n",
        "        prefixs.append(prefix)\n",
        "\n",
        "prefixs = list(set(prefixs))\n",
        "prefixs"
      ],
      "metadata": {
        "colab": {
          "base_uri": "https://localhost:8080/"
        },
        "id": "VsSNxIHi3vjj",
        "outputId": "5ec2f56a-5452-4c45-fb45-da34e4cb862d"
      },
      "execution_count": 23,
      "outputs": [
        {
          "output_type": "execute_result",
          "data": {
            "text/plain": [
              "['nmme0-tmp2m-34w',\n",
              " 'nmme0-prate-56w',\n",
              " 'nmme-tmp2m-34w',\n",
              " 'nmme-tmp2m-56w',\n",
              " 'nmme0-prate-34w',\n",
              " 'nmme-prate-56w',\n",
              " 'nmme-prate-34w']"
            ]
          },
          "metadata": {},
          "execution_count": 23
        }
      ]
    },
    {
      "cell_type": "code",
      "source": [
        "pca = PCA(n_components=1)\n",
        "y = np.array(df[target]).reshape(1, -1)\n",
        "\n",
        "for prefix in prefixs:\n",
        "\n",
        "    cols = [col for col in df.columns if prefix in col and 'mean' not in col]\n",
        "    pca1 = pca.fit_transform(df[cols]).reshape(1, -1)\n",
        "    print(prefix, f\"| pca1 explained variance: {pca.explained_variance_ratio_[0]}\")\n",
        "    print(f\"pca1 vs target corr: {np.corrcoef(pca1, y)[1,0]}\")\n",
        "    print()"
      ],
      "metadata": {
        "colab": {
          "base_uri": "https://localhost:8080/"
        },
        "id": "g_Pg2-vx30YM",
        "outputId": "074da7ec-7fef-4be4-e9e8-fc5f40a89355"
      },
      "execution_count": 24,
      "outputs": [
        {
          "output_type": "stream",
          "name": "stdout",
          "text": [
            "nmme0-tmp2m-34w | pca1 explained variance: 0.9766670636759252\n",
            "pca1 vs target corr: -0.8510460209544227\n",
            "\n",
            "nmme0-prate-56w | pca1 explained variance: 0.7200377592938519\n",
            "pca1 vs target corr: -0.0018278113335758051\n",
            "\n",
            "nmme-tmp2m-34w | pca1 explained variance: 0.971881767554349\n",
            "pca1 vs target corr: -0.9501574246214115\n",
            "\n",
            "nmme-tmp2m-56w | pca1 explained variance: 0.9745715199798329\n",
            "pca1 vs target corr: -0.9507973950482158\n",
            "\n",
            "nmme0-prate-34w | pca1 explained variance: 0.720459574294314\n",
            "pca1 vs target corr: -0.053929212683078515\n",
            "\n",
            "nmme-prate-56w | pca1 explained variance: 0.756061976222882\n",
            "pca1 vs target corr: -0.1686608099615376\n",
            "\n",
            "nmme-prate-34w | pca1 explained variance: 0.7614083062893766\n",
            "pca1 vs target corr: -0.17623054345156972\n",
            "\n"
          ]
        }
      ]
    },
    {
      "cell_type": "code",
      "source": [
        "corr_prefix = ['nmme0-tmp2m-34w', 'nmme-tmp2m-34w', 'nmme-tmp2m-56w']\n",
        "\n",
        "corr_prefix_cols = [nmme0_tmp2m_34w, nmme_tmp2m_34w, nmme_tmp2m_56w]\n",
        "\n",
        "for prefix, cols in zip(corr_prefix, corr_prefix_cols):\n",
        "    pc_name = prefix + '-pc'\n",
        "    pca = PCA(n_components=1)\n",
        "    pca.fit(df[cols])\n",
        "    for ds in [train, val, test]:\n",
        "        ds[pc_name] = pca.fit_transform(ds[cols])"
      ],
      "metadata": {
        "id": "cZB2uX1z31--"
      },
      "execution_count": 25,
      "outputs": []
    },
    {
      "cell_type": "code",
      "source": [
        "LR_cols = LR_cols + [prefix+'-pc' for prefix in corr_prefix]\n",
        "LR_cols"
      ],
      "metadata": {
        "colab": {
          "base_uri": "https://localhost:8080/"
        },
        "id": "HLrEepvB34xe",
        "outputId": "7fcde412-2dcc-4a7b-c0a9-90aa3085071f"
      },
      "execution_count": 26,
      "outputs": [
        {
          "output_type": "execute_result",
          "data": {
            "text/plain": [
              "['contest-pevpr-sfc-gauss-14d__pevpr',\n",
              " 'contest-wind-h100-14d__wind-hgt-100',\n",
              " 'contest-wind-h500-14d__wind-hgt-500',\n",
              " 'nmme0-tmp2m-34w-pc',\n",
              " 'nmme-tmp2m-34w-pc',\n",
              " 'nmme-tmp2m-56w-pc']"
            ]
          },
          "metadata": {},
          "execution_count": 26
        }
      ]
    },
    {
      "cell_type": "code",
      "source": [
        "for col in df.columns:\n",
        "\n",
        "    if df[col].dtype == 'float64' and col not in LR_cols and 'nmme0-tmp2m-34w' not in col and 'nmme-tmp2m-34w' not in col and 'nmme-tmp2m-56w' not in col:\n",
        "        corr = df[[col, target]].corr().iloc[0,1]\n",
        "        if np.abs(corr) > 0.8:\n",
        "            LR_cols.append(col)\n",
        "            print(col, corr)"
      ],
      "metadata": {
        "colab": {
          "base_uri": "https://localhost:8080/"
        },
        "id": "n1y1EKNE36MZ",
        "outputId": "458d5bcc-dd39-4534-d4bf-a5cdd189fa29"
      },
      "execution_count": 27,
      "outputs": [
        {
          "output_type": "stream",
          "name": "stdout",
          "text": [
            "contest-tmp2m-14d__tmp2m 1.0\n",
            "wind-hgt-500-2010-1 -0.8060782090050108\n",
            "wind-hgt-10-2010-1 -0.8157008804019407\n",
            "wind-hgt-100-2010-1 -0.802239950441264\n",
            "wind-vwnd-925-2010-1 -0.8073710173926125\n"
          ]
        }
      ]
    },
    {
      "cell_type": "code",
      "source": [
        "LR_cols = [col for col in LR_cols if col != target]\n",
        "LR_cols"
      ],
      "metadata": {
        "colab": {
          "base_uri": "https://localhost:8080/"
        },
        "id": "2nivKB8337oS",
        "outputId": "9b06c6ec-77e9-4025-d8d4-ef3303aaab0a"
      },
      "execution_count": 28,
      "outputs": [
        {
          "output_type": "execute_result",
          "data": {
            "text/plain": [
              "['contest-pevpr-sfc-gauss-14d__pevpr',\n",
              " 'contest-wind-h100-14d__wind-hgt-100',\n",
              " 'contest-wind-h500-14d__wind-hgt-500',\n",
              " 'nmme0-tmp2m-34w-pc',\n",
              " 'nmme-tmp2m-34w-pc',\n",
              " 'nmme-tmp2m-56w-pc',\n",
              " 'wind-hgt-500-2010-1',\n",
              " 'wind-hgt-10-2010-1',\n",
              " 'wind-hgt-100-2010-1',\n",
              " 'wind-vwnd-925-2010-1']"
            ]
          },
          "metadata": {},
          "execution_count": 28
        }
      ]
    },
    {
      "cell_type": "markdown",
      "source": [
        "## Selecting Alpha and Fitting Linear Regressions (to Obtain Residuals)"
      ],
      "metadata": {
        "id": "brwNqS3E3-fY"
      }
    },
    {
      "cell_type": "code",
      "source": [
        "def LR_models(alpha, selected_feats, shift_feats):\n",
        "\n",
        "    # new train and vaidation dataset containing only the selected features\n",
        "    X_train, y_train = train[selected_feats], train[target]\n",
        "    X_val, y_val = val[selected_feats], val[target]\n",
        "\n",
        "    train_se = 0\n",
        "    val_se = 0\n",
        "\n",
        "    # loop through 514 different locations,\n",
        "    # for each location we create a machine learning pipeline and fit a linear regression model\n",
        "    for i in range(df.loc_group.nunique()):\n",
        "\n",
        "        # train and validation dataset for the ith location\n",
        "        X1_train = X_train[train[\"loc_group\"]==i]\n",
        "        y1_train = y_train[train[\"loc_group\"]==i]\n",
        "        X1_val = X_val[val[\"loc_group\"]==i]\n",
        "        y1_val = y_val[val[\"loc_group\"]==i]\n",
        "\n",
        "        # collect the indices of the observations, which we will use to recover the train and val split of the data\n",
        "        t_index = X_train[train[\"loc_group\"]==i].index\n",
        "        v_index = X_val[val[\"loc_group\"]==i].index\n",
        "\n",
        "        # if shift_feats, we combine the train and val set to shift the \"34w\" and \"56w\" features\n",
        "        if shift_feats == True and np.any(['34w' in col or '56w' in col for col in selected_feats]):\n",
        "            X1_conc = pd.concat([X1_train, X1_val])\n",
        "            for col in selected_feats:\n",
        "                if '34w' in col:\n",
        "                    X1_conc[col] = X1_conc[col].shift(-14).ffill()\n",
        "                if '56w' in col:\n",
        "                    X1_conc[col] = X1_conc[col].shift(-28).ffill()\n",
        "\n",
        "            # we recover the train and val set by their respective list of indices\n",
        "            X1_train = X1_conc.loc[t_index, :]\n",
        "            X1_val = X1_conc.loc[v_index, :]\n",
        "\n",
        "        # scale the data\n",
        "        ss = StandardScaler()\n",
        "        X1_train_ss = ss.fit_transform(X1_train)\n",
        "        X1_val_ss = ss.transform(X1_val)\n",
        "\n",
        "        # fit the linear regression model with alpha as the regularization parameter\n",
        "        LR = Lasso(alpha=alpha, max_iter=10000)\n",
        "        LR.fit(X1_train_ss, y1_train)\n",
        "        y1_train_pred = LR.predict(X1_train_ss)\n",
        "        y1_val_pred = LR.predict(X1_val_ss)\n",
        "\n",
        "        # accumulate the total squared errors by the sum of squared errors from the ith location\n",
        "        train_se += mean_squared_error(y1_train, y1_train_pred) * len(t_index)\n",
        "        val_se += mean_squared_error(y1_val, y1_val_pred) * len(v_index)\n",
        "\n",
        "    # return the root mean squared error of train and validation set\n",
        "    train_rmse = np.round(np.sqrt(train_se / X_train.shape[0]), 3)\n",
        "    val_rmse = np.round(np.sqrt(val_se / X_val.shape[0]), 3)\n",
        "\n",
        "    return train_rmse, val_rmse"
      ],
      "metadata": {
        "id": "Pr99S7_a388h"
      },
      "execution_count": 29,
      "outputs": []
    },
    {
      "cell_type": "code",
      "source": [
        "train_rmses = []\n",
        "val_rmses = []\n",
        "alphas = [0.001, 0.01, 0.05, 0.1, 0.15, 0.2, 0.25, 0.3, 0.5, 0.8, 1, 1.5, 2, 2.5, 3, 3.5, 4]\n",
        "\n",
        "for alpha in alphas:\n",
        "\n",
        "    print(f\"alpha = {alpha}...\")\n",
        "    train_rmse, val_rmse = LR_models(alpha, LR_cols, True)\n",
        "    train_rmses.append(train_rmse)\n",
        "    val_rmses.append(val_rmse)"
      ],
      "metadata": {
        "colab": {
          "base_uri": "https://localhost:8080/"
        },
        "id": "c2FLZ0tX4BnZ",
        "outputId": "42964fb5-1e3f-42e8-b1e6-2b9714e446e8"
      },
      "execution_count": 30,
      "outputs": [
        {
          "output_type": "stream",
          "name": "stdout",
          "text": [
            "alpha = 0.001...\n",
            "alpha = 0.01...\n",
            "alpha = 0.05...\n",
            "alpha = 0.1...\n",
            "alpha = 0.15...\n",
            "alpha = 0.2...\n",
            "alpha = 0.25...\n",
            "alpha = 0.3...\n",
            "alpha = 0.5...\n",
            "alpha = 0.8...\n",
            "alpha = 1...\n",
            "alpha = 1.5...\n",
            "alpha = 2...\n",
            "alpha = 2.5...\n",
            "alpha = 3...\n",
            "alpha = 3.5...\n",
            "alpha = 4...\n"
          ]
        }
      ]
    },
    {
      "cell_type": "code",
      "source": [
        "plt.plot(alphas, train_rmses, 'o-', label=\"train rmse\")\n",
        "plt.plot(alphas, val_rmses,'o-', label=\"val rmse\")\n",
        "plt.plot(alphas, np.array(val_rmses)-np.array(train_rmses), 'o-', label=\"val-train rmse\")\n",
        "\n",
        "for i in np.arange(8, len(alphas)):\n",
        "    plt.annotate(f\"{np.round(val_rmses[i]-train_rmses[i], 2)}\", (alphas[i], val_rmses[i]-train_rmses[i]))\n",
        "\n",
        "plt.xlabel(\"lasso regression alpha\")\n",
        "plt.ylabel(\"rmse\")\n",
        "plt.legend(loc='best')\n",
        "plt.show()"
      ],
      "metadata": {
        "colab": {
          "base_uri": "https://localhost:8080/",
          "height": 449
        },
        "id": "FxG8jq2M4Dn1",
        "outputId": "39765aac-4f6f-41db-b060-2b19f6f1b072"
      },
      "execution_count": 31,
      "outputs": [
        {
          "output_type": "display_data",
          "data": {
            "text/plain": [
              "<Figure size 640x480 with 1 Axes>"
            ],
            "image/png": "[encoded data removed]"
          },
          "metadata": {}
        }
      ]
    },
    {
      "cell_type": "code",
      "source": [
        "train2 = pd.concat([train, val], axis=0)\n",
        "print(f'Train2_shape: {train2.shape}  |  Test_shape: {test.shape}')"
      ],
      "metadata": {
        "colab": {
          "base_uri": "https://localhost:8080/"
        },
        "id": "4ZNQqkY84FX5",
        "outputId": "5b2bb93c-4ca0-40c4-bf26-fdd93bdc0adf"
      },
      "execution_count": 32,
      "outputs": [
        {
          "output_type": "stream",
          "name": "stdout",
          "text": [
            "Train2_shape: (301204, 248)  |  Test_shape: (74530, 248)\n"
          ]
        }
      ]
    },
    {
      "cell_type": "code",
      "source": [
        "def LR_models_residuals(selected_feats, shift_feats):\n",
        "\n",
        "    # new train and test dataset containing only the selected features\n",
        "    X_train, y_train = train2[selected_feats], train2[target]\n",
        "    X_test, y_test = test[selected_feats], test[target]\n",
        "\n",
        "    pred_residuals = np.zeros(df.shape[0])\n",
        "    predictions = np.zeros(df.shape[0])\n",
        "\n",
        "    # loop through 514 different locations,\n",
        "    # for each location we create a machine learning pipeline and fit a linear regression model\n",
        "    for i in range(df.loc_group.nunique()):\n",
        "\n",
        "        # train and test dataset for the ith location\n",
        "        X1_train = X_train[train2[\"loc_group\"]==i]\n",
        "        y1_train = y_train[train2[\"loc_group\"]==i]\n",
        "        X1_test = X_test[test[\"loc_group\"]==i]\n",
        "        y1_test = y_test[test[\"loc_group\"]==i]\n",
        "\n",
        "        # collect the indices of the observations, which we will use to recover the train and test split of the data\n",
        "        t_index = X_train[train2[\"loc_group\"]==i].index\n",
        "        te_index = X_test[test[\"loc_group\"]==i].index\n",
        "\n",
        "        # if shift_feats, we combine the train and test set to shift the \"34w\" and \"56w\" features\n",
        "        if shift_feats == True and np.any(['34w' in col or '56w' in col for col in selected_feats]):\n",
        "            X1_conc = pd.concat([X1_train, X1_test])\n",
        "            for col in selected_feats:\n",
        "                if '34w' in col:\n",
        "                    X1_conc[col] = X1_conc[col].shift(-14).ffill()\n",
        "                if '56w' in col:\n",
        "                    X1_conc[col] = X1_conc[col].shift(-28).ffill()\n",
        "\n",
        "            # we recover the train and test set by their respective list of indices\n",
        "            X1_train = X1_conc.loc[t_index, :]\n",
        "            X1_test = X1_conc.loc[te_index, :]\n",
        "\n",
        "        # scale the data\n",
        "        ss = StandardScaler()\n",
        "        X1_train_ss = ss.fit_transform(X1_train)\n",
        "        X1_test_ss = ss.transform(X1_test)\n",
        "\n",
        "        # fit the linear regression model with alpha = 2.0 as the regularization parameter\n",
        "        LR = Lasso(alpha=2.0, max_iter=10000)\n",
        "        LR.fit(X1_train_ss, y1_train)\n",
        "        y1_train_pred = LR.predict(X1_train_ss)\n",
        "        y1_test_pred = LR.predict(X1_test_ss)\n",
        "        predictions[t_index] = y1_train_pred\n",
        "        predictions[te_index] = y1_test_pred\n",
        "\n",
        "        # return predicted residuals\n",
        "        pred_residuals[t_index] = y1_train - y1_train_pred\n",
        "        pred_residuals[te_index] = y1_test - y1_test_pred\n",
        "\n",
        "    return pred_residuals, predictions"
      ],
      "metadata": {
        "id": "ty3FK8ZH4HMK"
      },
      "execution_count": 33,
      "outputs": []
    },
    {
      "cell_type": "code",
      "source": [
        "pred_residuals, predictions = LR_models_residuals(LR_cols, True)"
      ],
      "metadata": {
        "id": "Wj3Agx8b4KnU"
      },
      "execution_count": 34,
      "outputs": []
    },
    {
      "cell_type": "code",
      "source": [
        "print(len(pred_residuals) == df.shape[0])"
      ],
      "metadata": {
        "colab": {
          "base_uri": "https://localhost:8080/"
        },
        "id": "_X6TbfYp4PRH",
        "outputId": "a6be837e-ed10-46ab-b59f-eb027293d44a"
      },
      "execution_count": 35,
      "outputs": [
        {
          "output_type": "stream",
          "name": "stdout",
          "text": [
            "True\n"
          ]
        }
      ]
    },
    {
      "cell_type": "code",
      "source": [
        "plt.hist(pred_residuals, density=True)\n",
        "plt.xlabel(\"Fitted residuals\")\n",
        "plt.ylabel(\"Normalized count\")\n",
        "plt.title(\"Lassion regression fitted residuals\")\n",
        "plt.show()"
      ],
      "metadata": {
        "colab": {
          "base_uri": "https://localhost:8080/",
          "height": 472
        },
        "id": "D9BdHRz54Qsx",
        "outputId": "ebf96b13-bffc-4521-a91d-959b91f89ee9"
      },
      "execution_count": 36,
      "outputs": [
        {
          "output_type": "display_data",
          "data": {
            "text/plain": [
              "<Figure size 640x480 with 1 Axes>"
            ],
            "image/png": "[encoded data removed]"
          },
          "metadata": {}
        }
      ]
    },
    {
      "cell_type": "markdown",
      "source": [
        "## Boosting Algorithms to Predict Residuals"
      ],
      "metadata": {
        "id": "FWLEKc474USd"
      }
    },
    {
      "cell_type": "code",
      "source": [
        "df['residuals'] = pred_residuals\n",
        "df.residuals.isnull().sum()"
      ],
      "metadata": {
        "colab": {
          "base_uri": "https://localhost:8080/"
        },
        "id": "XumefXT24SS6",
        "outputId": "89556231-70b0-4a55-f826-d06584863415"
      },
      "execution_count": 37,
      "outputs": [
        {
          "output_type": "execute_result",
          "data": {
            "text/plain": [
              "0"
            ]
          },
          "metadata": {},
          "execution_count": 37
        }
      ]
    },
    {
      "cell_type": "code",
      "source": [
        "del pred_residuals"
      ],
      "metadata": {
        "id": "MlvG_6SB4XhG"
      },
      "execution_count": 38,
      "outputs": []
    },
    {
      "cell_type": "code",
      "source": [
        "train2['residuals'] = df.loc[train2.index, 'residuals']\n",
        "test['residuals'] = df.loc[test.index, 'residuals']"
      ],
      "metadata": {
        "id": "V4zJk7Ku4YcG"
      },
      "execution_count": 39,
      "outputs": []
    },
    {
      "cell_type": "markdown",
      "source": [
        "## Feature Selection for Boosting"
      ],
      "metadata": {
        "id": "8BMOWGYn4bjf"
      }
    },
    {
      "cell_type": "code",
      "source": [
        "forecast_means = [col for col in df.columns if 'mean' in col]\n",
        "forecast_means"
      ],
      "metadata": {
        "colab": {
          "base_uri": "https://localhost:8080/"
        },
        "id": "v19qkWcZ4Zxh",
        "outputId": "4664cf1f-7feb-4eb7-fa50-8752e792849c"
      },
      "execution_count": 40,
      "outputs": [
        {
          "output_type": "execute_result",
          "data": {
            "text/plain": [
              "['nmme0-tmp2m-34w__nmme0mean',\n",
              " 'nmme-tmp2m-56w__nmmemean',\n",
              " 'nmme-prate-34w__nmmemean',\n",
              " 'nmme0-prate-56w__nmme0mean',\n",
              " 'nmme0-prate-34w__nmme0mean',\n",
              " 'nmme-prate-56w__nmmemean',\n",
              " 'nmme-tmp2m-34w__nmmemean',\n",
              " 'nmme0mean']"
            ]
          },
          "metadata": {},
          "execution_count": 40
        }
      ]
    },
    {
      "cell_type": "code",
      "source": [
        "B_cols = []\n",
        "\n",
        "for col in forecast_means:\n",
        "    if '34w' in col:\n",
        "        df[col+'_shifted'] = df.groupby(['loc_group'])[col].shift(-14).ffill()\n",
        "        B_cols.append(col+'_shifted')\n",
        "    elif '56w' in col:\n",
        "        df[col+'_shifted'] = df.groupby(['loc_group'])[col].shift(-28).ffill()\n",
        "        B_cols.append(col+'_shifted')\n",
        "    else:\n",
        "        B_cols.append(col)"
      ],
      "metadata": {
        "id": "zIl0iYBI4ecQ"
      },
      "execution_count": 41,
      "outputs": []
    },
    {
      "cell_type": "code",
      "source": [
        "for ds in [train2, test]:\n",
        "    for col in B_cols:\n",
        "        ds[col] = df.loc[ds.index, col]\n",
        "\n",
        "print(train2.shape, test.shape)"
      ],
      "metadata": {
        "colab": {
          "base_uri": "https://localhost:8080/"
        },
        "id": "Dzt078Nm4f2J",
        "outputId": "3c0773ce-3fc9-439e-f11f-989dbeb35edc"
      },
      "execution_count": 42,
      "outputs": [
        {
          "output_type": "stream",
          "name": "stdout",
          "text": [
            "(301204, 256) (74530, 256)\n"
          ]
        }
      ]
    },
    {
      "cell_type": "code",
      "source": [
        "for col in df.columns:\n",
        "    if '14d' in col:\n",
        "        B_cols.append(col)"
      ],
      "metadata": {
        "id": "tSoNNzsp4iXt"
      },
      "execution_count": 43,
      "outputs": []
    },
    {
      "cell_type": "code",
      "source": [
        "LE = LabelEncoder()\n",
        "LE.fit(train2['climateregions__climateregion'])\n",
        "train2['climateregions__climateregion'] = LE.transform(train2['climateregions__climateregion'])\n",
        "test['climateregions__climateregion'] = LE.transform(test['climateregions__climateregion'])"
      ],
      "metadata": {
        "id": "IzBipM344jW4"
      },
      "execution_count": 44,
      "outputs": []
    },
    {
      "cell_type": "code",
      "source": [
        "df['month'] = df['startdate'].dt.month\n",
        "df.groupby(['month'])['residuals'].median()"
      ],
      "metadata": {
        "colab": {
          "base_uri": "https://localhost:8080/"
        },
        "id": "GxpdD6E04k9b",
        "outputId": "c2128a98-13e8-41de-bff3-1b8006195872"
      },
      "execution_count": 45,
      "outputs": [
        {
          "output_type": "execute_result",
          "data": {
            "text/plain": [
              "month\n",
              "1    -2.333870\n",
              "2    -0.468863\n",
              "3     0.756814\n",
              "4     0.966043\n",
              "5     1.464542\n",
              "6     2.949630\n",
              "7     2.905138\n",
              "8     2.516673\n",
              "9     2.129676\n",
              "10    1.038387\n",
              "11   -2.619120\n",
              "12   -2.845659\n",
              "Name: residuals, dtype: float64"
            ]
          },
          "metadata": {},
          "execution_count": 45
        }
      ]
    },
    {
      "cell_type": "code",
      "source": [
        "for ds in [train2, test]:\n",
        "    ds['month'] = ds['startdate'].dt.month"
      ],
      "metadata": {
        "id": "MlE-o2WO4mGk"
      },
      "execution_count": 46,
      "outputs": []
    },
    {
      "cell_type": "code",
      "source": [
        "B_cols += ['climateregions__climateregion', 'month', 'loc_group', 'elevation__elevation']\n",
        "\n",
        "print(f\"We have {len(B_cols)} features for fitting the Boosting models.\")\n",
        "B_cols"
      ],
      "metadata": {
        "colab": {
          "base_uri": "https://localhost:8080/"
        },
        "id": "iAAk4ygo4nah",
        "outputId": "4fb71256-4b01-44b6-8ae0-bdb67b7f7318"
      },
      "execution_count": 47,
      "outputs": [
        {
          "output_type": "stream",
          "name": "stdout",
          "text": [
            "We have 27 features for fitting the Boosting models.\n"
          ]
        },
        {
          "output_type": "execute_result",
          "data": {
            "text/plain": [
              "['nmme0-tmp2m-34w__nmme0mean_shifted',\n",
              " 'nmme-tmp2m-56w__nmmemean_shifted',\n",
              " 'nmme-prate-34w__nmmemean_shifted',\n",
              " 'nmme0-prate-56w__nmme0mean_shifted',\n",
              " 'nmme0-prate-34w__nmme0mean_shifted',\n",
              " 'nmme-prate-56w__nmmemean_shifted',\n",
              " 'nmme-tmp2m-34w__nmmemean_shifted',\n",
              " 'nmme0mean',\n",
              " 'contest-pevpr-sfc-gauss-14d__pevpr',\n",
              " 'contest-wind-h10-14d__wind-hgt-10',\n",
              " 'contest-rhum-sig995-14d__rhum',\n",
              " 'contest-wind-h100-14d__wind-hgt-100',\n",
              " 'contest-tmp2m-14d__tmp2m',\n",
              " 'contest-slp-14d__slp',\n",
              " 'contest-wind-vwnd-925-14d__wind-vwnd-925',\n",
              " 'contest-pres-sfc-gauss-14d__pres',\n",
              " 'contest-wind-uwnd-250-14d__wind-uwnd-250',\n",
              " 'contest-prwtr-eatm-14d__prwtr',\n",
              " 'contest-wind-vwnd-250-14d__wind-vwnd-250',\n",
              " 'contest-precip-14d__precip',\n",
              " 'contest-wind-h850-14d__wind-hgt-850',\n",
              " 'contest-wind-uwnd-925-14d__wind-uwnd-925',\n",
              " 'contest-wind-h500-14d__wind-hgt-500',\n",
              " 'climateregions__climateregion',\n",
              " 'month',\n",
              " 'loc_group',\n",
              " 'elevation__elevation']"
            ]
          },
          "metadata": {},
          "execution_count": 47
        }
      ]
    },
    {
      "cell_type": "code",
      "source": [
        "del ds"
      ],
      "metadata": {
        "id": "LfiD8sAZ4omI"
      },
      "execution_count": 48,
      "outputs": []
    },
    {
      "cell_type": "markdown",
      "source": [
        "## Boosting Models for Predicting Fitted Residuals"
      ],
      "metadata": {
        "id": "mzpSZUbU4res"
      }
    },
    {
      "cell_type": "code",
      "source": [
        "cat_cols =  ['climateregions__climateregion', 'month', 'loc_group']"
      ],
      "metadata": {
        "id": "zFmQqJK-4pxD"
      },
      "execution_count": 49,
      "outputs": []
    },
    {
      "cell_type": "code",
      "source": [
        "def boosting(ratios=[0.6, 0.3, 0.1], selected_cols=B_cols, cat_cols=cat_cols):\n",
        "\n",
        "\n",
        "    X_train, y_train = train2[selected_cols], train2['residuals']\n",
        "    X_test, y_test = test[selected_cols], test['residuals']\n",
        "\n",
        "    for ds in [X_train, X_test]:\n",
        "        ds['loc_group'] = ds['loc_group'].astype(\"category\")\n",
        "        ds['climateregions__climateregion'] = ds['climateregions__climateregion'].astype(\"category\")\n",
        "        ds['month'] = ds['month'].astype(\"category\")\n",
        "\n",
        "\n",
        "    cat_inds = [selected_cols.index(col) for col in cat_cols]\n",
        "\n",
        "    train_pred_cb, train_pred_lgb, train_pred_xgb = [np.zeros(len(y_train))] * 3\n",
        "    test_pred_cb, test_pred_lgb, test_pred_xgb = [np.zeros(len(y_test))] * 3\n",
        "\n",
        "    if ratios[0] > 0:\n",
        "        cbr = cb.CatBoostRegressor(loss_function=\"RMSE\", random_state=42, verbose=1)\n",
        "        cbr.fit(X_train, y_train, cat_features=cat_inds)\n",
        "        train_pred_cb = cbr.predict(X_train)\n",
        "        test_pred_cb = cbr.predict(X_test)\n",
        "    if ratios[1] > 0:\n",
        "        lgbr = lgb.LGBMRegressor(objective='regression', metric='rmse', random_state=42, verbose=1)\n",
        "        lgbr.fit(X_train, y_train, categorical_feature=cat_inds)\n",
        "        train_pred_lgb = lgbr.predict(X_train)\n",
        "        test_pred_lgb = lgbr.predict(X_test)\n",
        "    if ratios[2] > 0:\n",
        "        xgbr = xgb.XGBRegressor(objective=\"reg:squarederror\", eval_metric='rmse', enable_categorical=True, random_state=42, verbose=0)\n",
        "        xgbr.fit(X_train, y_train)\n",
        "        train_pred_xgb = xgbr.predict(X_train)\n",
        "        test_pred_xgb = xgbr.predict(X_test)\n",
        "\n",
        "    train_pred = ratios[0] * train_pred_cb + ratios[1] * train_pred_lgb + ratios[2] * train_pred_xgb\n",
        "    test_pred = ratios[0] * test_pred_cb + ratios[1] * test_pred_lgb + ratios[2] * test_pred_xgb\n",
        "\n",
        "    print(f\"train rmse = {rmse(y_train, train_pred)}, test rmse = {rmse(y_test, test_pred)}\")\n",
        "\n",
        "    return train_pred, test_pred"
      ],
      "metadata": {
        "id": "reO3xjFw4vhF"
      },
      "execution_count": 50,
      "outputs": []
    },
    {
      "cell_type": "code",
      "source": [
        "print(\"Pure CatBoost:\")\n",
        "train_pred1, test_pred1 = boosting(ratios=[1, 0, 0])\n",
        "print(\"Pure LightGBM:\")\n",
        "train_pred2, test_pred2 = boosting(ratios=[0, 1, 0])\n",
        "print(\"Pure XGBoost:\")\n",
        "train_pred3, test_pred3 = boosting(ratios=[0, 0, 1])"
      ],
      "metadata": {
        "colab": {
          "base_uri": "https://localhost:8080/"
        },
        "id": "RO6k8u2f4yIQ",
        "outputId": "88428e36-a5fe-4ac9-fbfc-8ee4ff9e29a2"
      },
      "execution_count": 51,
      "outputs": [
        {
          "output_type": "stream",
          "name": "stdout",
          "text": [
            "Pure CatBoost:\n",
            "Learning rate set to 0.100888\n",
            "0:\tlearn: 2.6250930\ttotal: 716ms\tremaining: 11m 54s\n",
            "1:\tlearn: 2.4453648\ttotal: 1.24s\tremaining: 10m 20s\n",
            "2:\tlearn: 2.2885073\ttotal: 1.56s\tremaining: 8m 40s\n",
            "3:\tlearn: 2.1498162\ttotal: 1.99s\tremaining: 8m 15s\n",
            "4:\tlearn: 2.0290918\ttotal: 2.34s\tremaining: 7m 45s\n",
            "5:\tlearn: 1.9234335\ttotal: 2.65s\tremaining: 7m 19s\n",
            "6:\tlearn: 1.8328460\ttotal: 2.92s\tremaining: 6m 54s\n",
            "7:\tlearn: 1.7482912\ttotal: 3.16s\tremaining: 6m 31s\n",
            "8:\tlearn: 1.6744576\ttotal: 3.39s\tremaining: 6m 13s\n",
            "9:\tlearn: 1.6091328\ttotal: 3.64s\tremaining: 6m\n",
            "10:\tlearn: 1.5535997\ttotal: 3.88s\tremaining: 5m 48s\n",
            "11:\tlearn: 1.5030752\ttotal: 4.14s\tremaining: 5m 40s\n",
            "12:\tlearn: 1.4586029\ttotal: 4.37s\tremaining: 5m 31s\n",
            "13:\tlearn: 1.4202099\ttotal: 4.55s\tremaining: 5m 20s\n",
            "14:\tlearn: 1.3852506\ttotal: 4.81s\tremaining: 5m 15s\n",
            "15:\tlearn: 1.3524831\ttotal: 5.08s\tremaining: 5m 12s\n",
            "16:\tlearn: 1.3249027\ttotal: 5.34s\tremaining: 5m 8s\n",
            "17:\tlearn: 1.2985962\ttotal: 5.63s\tremaining: 5m 6s\n",
            "18:\tlearn: 1.2756275\ttotal: 5.89s\tremaining: 5m 4s\n",
            "19:\tlearn: 1.2548700\ttotal: 6.1s\tremaining: 4m 58s\n",
            "20:\tlearn: 1.2348382\ttotal: 6.32s\tremaining: 4m 54s\n",
            "21:\tlearn: 1.2161136\ttotal: 6.54s\tremaining: 4m 50s\n",
            "22:\tlearn: 1.1990650\ttotal: 6.79s\tremaining: 4m 48s\n",
            "23:\tlearn: 1.1824260\ttotal: 7.04s\tremaining: 4m 46s\n",
            "24:\tlearn: 1.1675543\ttotal: 7.29s\tremaining: 4m 44s\n",
            "25:\tlearn: 1.1534106\ttotal: 7.66s\tremaining: 4m 46s\n",
            "26:\tlearn: 1.1401801\ttotal: 8.13s\tremaining: 4m 52s\n",
            "27:\tlearn: 1.1292722\ttotal: 8.33s\tremaining: 4m 49s\n",
            "28:\tlearn: 1.1181725\ttotal: 8.68s\tremaining: 4m 50s\n",
            "29:\tlearn: 1.1085750\ttotal: 9.13s\tremaining: 4m 55s\n",
            "30:\tlearn: 1.0996708\ttotal: 9.76s\tremaining: 5m 4s\n",
            "31:\tlearn: 1.0878725\ttotal: 10.4s\tremaining: 5m 14s\n",
            "32:\tlearn: 1.0799644\ttotal: 11.1s\tremaining: 5m 25s\n",
            "33:\tlearn: 1.0724038\ttotal: 11.6s\tremaining: 5m 30s\n",
            "34:\tlearn: 1.0649407\ttotal: 12s\tremaining: 5m 30s\n",
            "35:\tlearn: 1.0572778\ttotal: 12.4s\tremaining: 5m 32s\n",
            "36:\tlearn: 1.0504956\ttotal: 12.7s\tremaining: 5m 30s\n",
            "37:\tlearn: 1.0423884\ttotal: 13.1s\tremaining: 5m 30s\n",
            "38:\tlearn: 1.0348431\ttotal: 13.3s\tremaining: 5m 28s\n",
            "39:\tlearn: 1.0271011\ttotal: 13.7s\tremaining: 5m 28s\n",
            "40:\tlearn: 1.0203534\ttotal: 14.1s\tremaining: 5m 30s\n",
            "41:\tlearn: 1.0140982\ttotal: 14.5s\tremaining: 5m 30s\n",
            "42:\tlearn: 1.0062844\ttotal: 14.9s\tremaining: 5m 30s\n",
            "43:\tlearn: 1.0014410\ttotal: 15.2s\tremaining: 5m 29s\n",
            "44:\tlearn: 0.9951233\ttotal: 15.5s\tremaining: 5m 29s\n",
            "45:\tlearn: 0.9886970\ttotal: 15.9s\tremaining: 5m 30s\n",
            "46:\tlearn: 0.9841256\ttotal: 16.3s\tremaining: 5m 30s\n",
            "47:\tlearn: 0.9803398\ttotal: 16.7s\tremaining: 5m 30s\n",
            "48:\tlearn: 0.9741851\ttotal: 17.1s\tremaining: 5m 32s\n",
            "49:\tlearn: 0.9667585\ttotal: 17.5s\tremaining: 5m 31s\n",
            "50:\tlearn: 0.9609447\ttotal: 17.7s\tremaining: 5m 29s\n",
            "51:\tlearn: 0.9550342\ttotal: 17.9s\tremaining: 5m 26s\n",
            "52:\tlearn: 0.9506699\ttotal: 18.1s\tremaining: 5m 24s\n",
            "53:\tlearn: 0.9468242\ttotal: 18.4s\tremaining: 5m 21s\n",
            "54:\tlearn: 0.9416032\ttotal: 18.6s\tremaining: 5m 19s\n",
            "55:\tlearn: 0.9366458\ttotal: 18.8s\tremaining: 5m 17s\n",
            "56:\tlearn: 0.9318226\ttotal: 19.1s\tremaining: 5m 16s\n",
            "57:\tlearn: 0.9287811\ttotal: 19.3s\tremaining: 5m 13s\n",
            "58:\tlearn: 0.9237303\ttotal: 19.6s\tremaining: 5m 11s\n",
            "59:\tlearn: 0.9199450\ttotal: 19.8s\tremaining: 5m 10s\n",
            "60:\tlearn: 0.9146560\ttotal: 20s\tremaining: 5m 8s\n",
            "61:\tlearn: 0.9109042\ttotal: 20.3s\tremaining: 5m 6s\n",
            "62:\tlearn: 0.9078186\ttotal: 20.5s\tremaining: 5m 5s\n",
            "63:\tlearn: 0.9037171\ttotal: 21.2s\tremaining: 5m 10s\n",
            "64:\tlearn: 0.9012424\ttotal: 21.6s\tremaining: 5m 10s\n",
            "65:\tlearn: 0.8986088\ttotal: 21.8s\tremaining: 5m 8s\n",
            "66:\tlearn: 0.8952126\ttotal: 22.1s\tremaining: 5m 7s\n",
            "67:\tlearn: 0.8900764\ttotal: 22.7s\tremaining: 5m 11s\n",
            "68:\tlearn: 0.8858092\ttotal: 23.5s\tremaining: 5m 17s\n",
            "69:\tlearn: 0.8827289\ttotal: 24.2s\tremaining: 5m 21s\n",
            "70:\tlearn: 0.8802320\ttotal: 24.8s\tremaining: 5m 24s\n",
            "71:\tlearn: 0.8774800\ttotal: 25.4s\tremaining: 5m 26s\n",
            "72:\tlearn: 0.8728530\ttotal: 25.9s\tremaining: 5m 29s\n",
            "73:\tlearn: 0.8689411\ttotal: 26.4s\tremaining: 5m 30s\n",
            "74:\tlearn: 0.8663897\ttotal: 26.8s\tremaining: 5m 30s\n",
            "75:\tlearn: 0.8622352\ttotal: 27.3s\tremaining: 5m 31s\n",
            "76:\tlearn: 0.8587990\ttotal: 27.8s\tremaining: 5m 33s\n",
            "77:\tlearn: 0.8557727\ttotal: 28.1s\tremaining: 5m 32s\n",
            "78:\tlearn: 0.8512382\ttotal: 28.5s\tremaining: 5m 32s\n",
            "79:\tlearn: 0.8483973\ttotal: 29s\tremaining: 5m 33s\n",
            "80:\tlearn: 0.8446082\ttotal: 29.6s\tremaining: 5m 35s\n",
            "81:\tlearn: 0.8418626\ttotal: 30.1s\tremaining: 5m 36s\n",
            "82:\tlearn: 0.8399206\ttotal: 30.5s\tremaining: 5m 37s\n",
            "83:\tlearn: 0.8367189\ttotal: 31s\tremaining: 5m 37s\n",
            "84:\tlearn: 0.8335545\ttotal: 31.5s\tremaining: 5m 38s\n",
            "85:\tlearn: 0.8307653\ttotal: 32.1s\tremaining: 5m 40s\n",
            "86:\tlearn: 0.8279006\ttotal: 32.6s\tremaining: 5m 41s\n",
            "87:\tlearn: 0.8249923\ttotal: 33.3s\tremaining: 5m 45s\n",
            "88:\tlearn: 0.8226457\ttotal: 34.3s\tremaining: 5m 50s\n",
            "89:\tlearn: 0.8202654\ttotal: 34.9s\tremaining: 5m 53s\n",
            "90:\tlearn: 0.8177133\ttotal: 35.7s\tremaining: 5m 56s\n",
            "91:\tlearn: 0.8143659\ttotal: 36.7s\tremaining: 6m 2s\n",
            "92:\tlearn: 0.8120530\ttotal: 37.6s\tremaining: 6m 6s\n",
            "93:\tlearn: 0.8089166\ttotal: 38.4s\tremaining: 6m 10s\n",
            "94:\tlearn: 0.8068063\ttotal: 38.9s\tremaining: 6m 10s\n",
            "95:\tlearn: 0.8038648\ttotal: 39.4s\tremaining: 6m 11s\n",
            "96:\tlearn: 0.8008730\ttotal: 39.9s\tremaining: 6m 11s\n",
            "97:\tlearn: 0.7987206\ttotal: 40.5s\tremaining: 6m 12s\n",
            "98:\tlearn: 0.7965735\ttotal: 41.1s\tremaining: 6m 14s\n",
            "99:\tlearn: 0.7946307\ttotal: 41.8s\tremaining: 6m 15s\n",
            "100:\tlearn: 0.7921198\ttotal: 42.4s\tremaining: 6m 17s\n",
            "101:\tlearn: 0.7899799\ttotal: 42.8s\tremaining: 6m 17s\n",
            "102:\tlearn: 0.7879682\ttotal: 43.3s\tremaining: 6m 16s\n",
            "103:\tlearn: 0.7851797\ttotal: 43.7s\tremaining: 6m 16s\n",
            "104:\tlearn: 0.7838072\ttotal: 44.2s\tremaining: 6m 17s\n",
            "105:\tlearn: 0.7816693\ttotal: 44.8s\tremaining: 6m 17s\n",
            "106:\tlearn: 0.7791776\ttotal: 45.1s\tremaining: 6m 16s\n",
            "107:\tlearn: 0.7773879\ttotal: 45.5s\tremaining: 6m 15s\n",
            "108:\tlearn: 0.7753936\ttotal: 45.9s\tremaining: 6m 14s\n",
            "109:\tlearn: 0.7735183\ttotal: 46.3s\tremaining: 6m 14s\n",
            "110:\tlearn: 0.7714510\ttotal: 46.9s\tremaining: 6m 15s\n",
            "111:\tlearn: 0.7698690\ttotal: 47.4s\tremaining: 6m 15s\n",
            "112:\tlearn: 0.7675529\ttotal: 48s\tremaining: 6m 16s\n",
            "113:\tlearn: 0.7658938\ttotal: 48.6s\tremaining: 6m 17s\n",
            "114:\tlearn: 0.7645843\ttotal: 49.3s\tremaining: 6m 19s\n",
            "115:\tlearn: 0.7629101\ttotal: 50.2s\tremaining: 6m 22s\n",
            "116:\tlearn: 0.7606534\ttotal: 52.1s\tremaining: 6m 33s\n",
            "117:\tlearn: 0.7584578\ttotal: 53s\tremaining: 6m 36s\n",
            "118:\tlearn: 0.7565503\ttotal: 53.7s\tremaining: 6m 37s\n",
            "119:\tlearn: 0.7544418\ttotal: 54.6s\tremaining: 6m 40s\n",
            "120:\tlearn: 0.7525159\ttotal: 54.8s\tremaining: 6m 38s\n",
            "121:\tlearn: 0.7504093\ttotal: 55.3s\tremaining: 6m 37s\n",
            "122:\tlearn: 0.7487320\ttotal: 55.6s\tremaining: 6m 36s\n",
            "123:\tlearn: 0.7474682\ttotal: 56s\tremaining: 6m 35s\n",
            "124:\tlearn: 0.7456237\ttotal: 56.3s\tremaining: 6m 34s\n",
            "125:\tlearn: 0.7442470\ttotal: 56.8s\tremaining: 6m 33s\n",
            "126:\tlearn: 0.7425537\ttotal: 57.2s\tremaining: 6m 33s\n",
            "127:\tlearn: 0.7408125\ttotal: 57.4s\tremaining: 6m 31s\n",
            "128:\tlearn: 0.7387538\ttotal: 57.8s\tremaining: 6m 30s\n",
            "129:\tlearn: 0.7367154\ttotal: 58.2s\tremaining: 6m 29s\n",
            "130:\tlearn: 0.7350776\ttotal: 58.5s\tremaining: 6m 27s\n",
            "131:\tlearn: 0.7336481\ttotal: 58.9s\tremaining: 6m 27s\n",
            "132:\tlearn: 0.7326750\ttotal: 59.3s\tremaining: 6m 26s\n",
            "133:\tlearn: 0.7310559\ttotal: 59.6s\tremaining: 6m 25s\n",
            "134:\tlearn: 0.7293405\ttotal: 1m\tremaining: 6m 24s\n",
            "135:\tlearn: 0.7280290\ttotal: 1m\tremaining: 6m 23s\n",
            "136:\tlearn: 0.7270399\ttotal: 1m\tremaining: 6m 22s\n",
            "137:\tlearn: 0.7253057\ttotal: 1m 1s\tremaining: 6m 21s\n",
            "138:\tlearn: 0.7240478\ttotal: 1m 1s\tremaining: 6m 21s\n",
            "139:\tlearn: 0.7230803\ttotal: 1m 1s\tremaining: 6m 20s\n",
            "140:\tlearn: 0.7208600\ttotal: 1m 2s\tremaining: 6m 22s\n",
            "141:\tlearn: 0.7197047\ttotal: 1m 3s\tremaining: 6m 23s\n",
            "142:\tlearn: 0.7183639\ttotal: 1m 4s\tremaining: 6m 24s\n",
            "143:\tlearn: 0.7169191\ttotal: 1m 4s\tremaining: 6m 24s\n",
            "144:\tlearn: 0.7151881\ttotal: 1m 5s\tremaining: 6m 24s\n",
            "145:\tlearn: 0.7134316\ttotal: 1m 5s\tremaining: 6m 23s\n",
            "146:\tlearn: 0.7119396\ttotal: 1m 6s\tremaining: 6m 22s\n",
            "147:\tlearn: 0.7106499\ttotal: 1m 6s\tremaining: 6m 22s\n",
            "148:\tlearn: 0.7092497\ttotal: 1m 6s\tremaining: 6m 21s\n",
            "149:\tlearn: 0.7068235\ttotal: 1m 7s\tremaining: 6m 21s\n",
            "150:\tlearn: 0.7055260\ttotal: 1m 7s\tremaining: 6m 20s\n",
            "151:\tlearn: 0.7036243\ttotal: 1m 8s\tremaining: 6m 20s\n",
            "152:\tlearn: 0.7022610\ttotal: 1m 8s\tremaining: 6m 19s\n",
            "153:\tlearn: 0.7007017\ttotal: 1m 9s\tremaining: 6m 19s\n",
            "154:\tlearn: 0.6993817\ttotal: 1m 9s\tremaining: 6m 19s\n",
            "155:\tlearn: 0.6980632\ttotal: 1m 9s\tremaining: 6m 17s\n",
            "156:\tlearn: 0.6958809\ttotal: 1m 10s\tremaining: 6m 17s\n",
            "157:\tlearn: 0.6945193\ttotal: 1m 10s\tremaining: 6m 16s\n",
            "158:\tlearn: 0.6937531\ttotal: 1m 11s\tremaining: 6m 16s\n",
            "159:\tlearn: 0.6922817\ttotal: 1m 11s\tremaining: 6m 16s\n",
            "160:\tlearn: 0.6900889\ttotal: 1m 12s\tremaining: 6m 17s\n",
            "161:\tlearn: 0.6888641\ttotal: 1m 13s\tremaining: 6m 18s\n",
            "162:\tlearn: 0.6863119\ttotal: 1m 13s\tremaining: 6m 17s\n",
            "163:\tlearn: 0.6851804\ttotal: 1m 13s\tremaining: 6m 16s\n",
            "164:\tlearn: 0.6840711\ttotal: 1m 14s\tremaining: 6m 16s\n",
            "165:\tlearn: 0.6828215\ttotal: 1m 14s\tremaining: 6m 15s\n",
            "166:\tlearn: 0.6804476\ttotal: 1m 15s\tremaining: 6m 14s\n",
            "167:\tlearn: 0.6794879\ttotal: 1m 15s\tremaining: 6m 14s\n",
            "168:\tlearn: 0.6778246\ttotal: 1m 16s\tremaining: 6m 14s\n",
            "169:\tlearn: 0.6765933\ttotal: 1m 16s\tremaining: 6m 15s\n",
            "170:\tlearn: 0.6743222\ttotal: 1m 17s\tremaining: 6m 15s\n",
            "171:\tlearn: 0.6727578\ttotal: 1m 17s\tremaining: 6m 15s\n",
            "172:\tlearn: 0.6711795\ttotal: 1m 18s\tremaining: 6m 14s\n",
            "173:\tlearn: 0.6701885\ttotal: 1m 18s\tremaining: 6m 13s\n",
            "174:\tlearn: 0.6694773\ttotal: 1m 19s\tremaining: 6m 12s\n",
            "175:\tlearn: 0.6679303\ttotal: 1m 19s\tremaining: 6m 12s\n",
            "176:\tlearn: 0.6669251\ttotal: 1m 19s\tremaining: 6m 11s\n",
            "177:\tlearn: 0.6654969\ttotal: 1m 20s\tremaining: 6m 10s\n",
            "178:\tlearn: 0.6636811\ttotal: 1m 20s\tremaining: 6m 10s\n",
            "179:\tlearn: 0.6624436\ttotal: 1m 21s\tremaining: 6m 9s\n",
            "180:\tlearn: 0.6614302\ttotal: 1m 21s\tremaining: 6m 8s\n",
            "181:\tlearn: 0.6597261\ttotal: 1m 21s\tremaining: 6m 7s\n",
            "182:\tlearn: 0.6589147\ttotal: 1m 22s\tremaining: 6m 6s\n",
            "183:\tlearn: 0.6579465\ttotal: 1m 22s\tremaining: 6m 4s\n",
            "184:\tlearn: 0.6569176\ttotal: 1m 22s\tremaining: 6m 3s\n",
            "185:\tlearn: 0.6563150\ttotal: 1m 22s\tremaining: 6m 1s\n",
            "186:\tlearn: 0.6546835\ttotal: 1m 22s\tremaining: 6m\n",
            "187:\tlearn: 0.6534601\ttotal: 1m 23s\tremaining: 5m 59s\n",
            "188:\tlearn: 0.6528931\ttotal: 1m 23s\tremaining: 5m 58s\n",
            "189:\tlearn: 0.6507722\ttotal: 1m 23s\tremaining: 5m 57s\n",
            "190:\tlearn: 0.6500027\ttotal: 1m 24s\tremaining: 5m 55s\n",
            "191:\tlearn: 0.6487171\ttotal: 1m 24s\tremaining: 5m 55s\n",
            "192:\tlearn: 0.6477573\ttotal: 1m 24s\tremaining: 5m 54s\n",
            "193:\tlearn: 0.6460018\ttotal: 1m 25s\tremaining: 5m 53s\n",
            "194:\tlearn: 0.6448881\ttotal: 1m 25s\tremaining: 5m 52s\n",
            "195:\tlearn: 0.6438174\ttotal: 1m 25s\tremaining: 5m 52s\n",
            "196:\tlearn: 0.6425347\ttotal: 1m 26s\tremaining: 5m 51s\n",
            "197:\tlearn: 0.6415988\ttotal: 1m 26s\tremaining: 5m 51s\n",
            "198:\tlearn: 0.6408325\ttotal: 1m 27s\tremaining: 5m 50s\n",
            "199:\tlearn: 0.6401541\ttotal: 1m 27s\tremaining: 5m 49s\n",
            "200:\tlearn: 0.6391219\ttotal: 1m 27s\tremaining: 5m 48s\n",
            "201:\tlearn: 0.6386109\ttotal: 1m 28s\tremaining: 5m 48s\n",
            "202:\tlearn: 0.6377125\ttotal: 1m 28s\tremaining: 5m 48s\n",
            "203:\tlearn: 0.6361565\ttotal: 1m 29s\tremaining: 5m 49s\n",
            "204:\tlearn: 0.6353219\ttotal: 1m 30s\tremaining: 5m 49s\n",
            "205:\tlearn: 0.6338538\ttotal: 1m 30s\tremaining: 5m 50s\n",
            "206:\tlearn: 0.6320677\ttotal: 1m 31s\tremaining: 5m 51s\n",
            "207:\tlearn: 0.6313477\ttotal: 1m 32s\tremaining: 5m 51s\n",
            "208:\tlearn: 0.6303681\ttotal: 1m 32s\tremaining: 5m 51s\n",
            "209:\tlearn: 0.6298245\ttotal: 1m 33s\tremaining: 5m 51s\n",
            "210:\tlearn: 0.6291554\ttotal: 1m 33s\tremaining: 5m 50s\n",
            "211:\tlearn: 0.6284225\ttotal: 1m 34s\tremaining: 5m 49s\n",
            "212:\tlearn: 0.6279521\ttotal: 1m 34s\tremaining: 5m 48s\n",
            "213:\tlearn: 0.6271780\ttotal: 1m 34s\tremaining: 5m 48s\n",
            "214:\tlearn: 0.6264232\ttotal: 1m 35s\tremaining: 5m 47s\n",
            "215:\tlearn: 0.6253125\ttotal: 1m 35s\tremaining: 5m 46s\n",
            "216:\tlearn: 0.6244845\ttotal: 1m 35s\tremaining: 5m 46s\n",
            "217:\tlearn: 0.6240189\ttotal: 1m 36s\tremaining: 5m 45s\n",
            "218:\tlearn: 0.6232143\ttotal: 1m 36s\tremaining: 5m 44s\n",
            "219:\tlearn: 0.6222846\ttotal: 1m 36s\tremaining: 5m 43s\n",
            "220:\tlearn: 0.6219286\ttotal: 1m 37s\tremaining: 5m 43s\n",
            "221:\tlearn: 0.6214886\ttotal: 1m 37s\tremaining: 5m 42s\n",
            "222:\tlearn: 0.6204946\ttotal: 1m 38s\tremaining: 5m 41s\n",
            "223:\tlearn: 0.6197525\ttotal: 1m 38s\tremaining: 5m 40s\n",
            "224:\tlearn: 0.6186073\ttotal: 1m 39s\tremaining: 5m 41s\n",
            "225:\tlearn: 0.6173975\ttotal: 1m 39s\tremaining: 5m 40s\n",
            "226:\tlearn: 0.6163014\ttotal: 1m 39s\tremaining: 5m 39s\n",
            "227:\tlearn: 0.6151590\ttotal: 1m 39s\tremaining: 5m 37s\n",
            "228:\tlearn: 0.6144346\ttotal: 1m 40s\tremaining: 5m 36s\n",
            "229:\tlearn: 0.6129322\ttotal: 1m 40s\tremaining: 5m 35s\n",
            "230:\tlearn: 0.6118545\ttotal: 1m 40s\tremaining: 5m 34s\n",
            "231:\tlearn: 0.6113928\ttotal: 1m 40s\tremaining: 5m 33s\n",
            "232:\tlearn: 0.6106167\ttotal: 1m 41s\tremaining: 5m 32s\n",
            "233:\tlearn: 0.6096234\ttotal: 1m 41s\tremaining: 5m 32s\n",
            "234:\tlearn: 0.6089447\ttotal: 1m 41s\tremaining: 5m 31s\n",
            "235:\tlearn: 0.6081961\ttotal: 1m 42s\tremaining: 5m 31s\n",
            "236:\tlearn: 0.6074760\ttotal: 1m 42s\tremaining: 5m 31s\n",
            "237:\tlearn: 0.6068501\ttotal: 1m 43s\tremaining: 5m 30s\n",
            "238:\tlearn: 0.6060959\ttotal: 1m 43s\tremaining: 5m 30s\n",
            "239:\tlearn: 0.6053777\ttotal: 1m 43s\tremaining: 5m 29s\n",
            "240:\tlearn: 0.6048842\ttotal: 1m 44s\tremaining: 5m 27s\n",
            "241:\tlearn: 0.6043443\ttotal: 1m 44s\tremaining: 5m 26s\n",
            "242:\tlearn: 0.6039567\ttotal: 1m 44s\tremaining: 5m 25s\n",
            "243:\tlearn: 0.6031868\ttotal: 1m 44s\tremaining: 5m 24s\n",
            "244:\tlearn: 0.6026142\ttotal: 1m 45s\tremaining: 5m 23s\n",
            "245:\tlearn: 0.6021437\ttotal: 1m 45s\tremaining: 5m 22s\n",
            "246:\tlearn: 0.6008884\ttotal: 1m 45s\tremaining: 5m 21s\n",
            "247:\tlearn: 0.5999272\ttotal: 1m 45s\tremaining: 5m 20s\n",
            "248:\tlearn: 0.5990683\ttotal: 1m 46s\tremaining: 5m 19s\n",
            "249:\tlearn: 0.5981918\ttotal: 1m 46s\tremaining: 5m 18s\n",
            "250:\tlearn: 0.5970591\ttotal: 1m 46s\tremaining: 5m 17s\n",
            "251:\tlearn: 0.5964134\ttotal: 1m 46s\tremaining: 5m 16s\n",
            "252:\tlearn: 0.5957641\ttotal: 1m 46s\tremaining: 5m 15s\n",
            "253:\tlearn: 0.5949079\ttotal: 1m 47s\tremaining: 5m 14s\n",
            "254:\tlearn: 0.5940384\ttotal: 1m 47s\tremaining: 5m 13s\n",
            "255:\tlearn: 0.5934109\ttotal: 1m 47s\tremaining: 5m 12s\n",
            "256:\tlearn: 0.5926988\ttotal: 1m 47s\tremaining: 5m 12s\n",
            "257:\tlearn: 0.5923405\ttotal: 1m 48s\tremaining: 5m 11s\n",
            "258:\tlearn: 0.5918534\ttotal: 1m 48s\tremaining: 5m 9s\n",
            "259:\tlearn: 0.5912047\ttotal: 1m 48s\tremaining: 5m 9s\n",
            "260:\tlearn: 0.5903891\ttotal: 1m 48s\tremaining: 5m 8s\n",
            "261:\tlearn: 0.5894636\ttotal: 1m 49s\tremaining: 5m 7s\n",
            "262:\tlearn: 0.5890768\ttotal: 1m 49s\tremaining: 5m 6s\n",
            "263:\tlearn: 0.5884373\ttotal: 1m 49s\tremaining: 5m 5s\n",
            "264:\tlearn: 0.5875148\ttotal: 1m 49s\tremaining: 5m 4s\n",
            "265:\tlearn: 0.5868718\ttotal: 1m 50s\tremaining: 5m 3s\n",
            "266:\tlearn: 0.5865152\ttotal: 1m 50s\tremaining: 5m 2s\n",
            "267:\tlearn: 0.5853385\ttotal: 1m 50s\tremaining: 5m 1s\n",
            "268:\tlearn: 0.5845869\ttotal: 1m 50s\tremaining: 5m\n",
            "269:\tlearn: 0.5841439\ttotal: 1m 50s\tremaining: 4m 59s\n",
            "270:\tlearn: 0.5829111\ttotal: 1m 51s\tremaining: 4m 59s\n",
            "271:\tlearn: 0.5818091\ttotal: 1m 51s\tremaining: 4m 58s\n",
            "272:\tlearn: 0.5805412\ttotal: 1m 51s\tremaining: 4m 57s\n",
            "273:\tlearn: 0.5797828\ttotal: 1m 51s\tremaining: 4m 56s\n",
            "274:\tlearn: 0.5789375\ttotal: 1m 52s\tremaining: 4m 55s\n",
            "275:\tlearn: 0.5782047\ttotal: 1m 52s\tremaining: 4m 54s\n",
            "276:\tlearn: 0.5777069\ttotal: 1m 52s\tremaining: 4m 53s\n",
            "277:\tlearn: 0.5771105\ttotal: 1m 52s\tremaining: 4m 52s\n",
            "278:\tlearn: 0.5764269\ttotal: 1m 53s\tremaining: 4m 52s\n",
            "279:\tlearn: 0.5752304\ttotal: 1m 53s\tremaining: 4m 51s\n",
            "280:\tlearn: 0.5746741\ttotal: 1m 53s\tremaining: 4m 50s\n",
            "281:\tlearn: 0.5742465\ttotal: 1m 53s\tremaining: 4m 49s\n",
            "282:\tlearn: 0.5736638\ttotal: 1m 54s\tremaining: 4m 49s\n",
            "283:\tlearn: 0.5731005\ttotal: 1m 54s\tremaining: 4m 49s\n",
            "284:\tlearn: 0.5723393\ttotal: 1m 55s\tremaining: 4m 48s\n",
            "285:\tlearn: 0.5716289\ttotal: 1m 55s\tremaining: 4m 48s\n",
            "286:\tlearn: 0.5705922\ttotal: 1m 55s\tremaining: 4m 47s\n",
            "287:\tlearn: 0.5700209\ttotal: 1m 56s\tremaining: 4m 47s\n",
            "288:\tlearn: 0.5694251\ttotal: 1m 56s\tremaining: 4m 46s\n",
            "289:\tlearn: 0.5690816\ttotal: 1m 56s\tremaining: 4m 45s\n",
            "290:\tlearn: 0.5681990\ttotal: 1m 56s\tremaining: 4m 44s\n",
            "291:\tlearn: 0.5668871\ttotal: 1m 57s\tremaining: 4m 44s\n",
            "292:\tlearn: 0.5664346\ttotal: 1m 57s\tremaining: 4m 43s\n",
            "293:\tlearn: 0.5654642\ttotal: 1m 57s\tremaining: 4m 42s\n",
            "294:\tlearn: 0.5646943\ttotal: 1m 57s\tremaining: 4m 41s\n",
            "295:\tlearn: 0.5639380\ttotal: 1m 58s\tremaining: 4m 40s\n",
            "296:\tlearn: 0.5628936\ttotal: 1m 58s\tremaining: 4m 40s\n",
            "297:\tlearn: 0.5619665\ttotal: 1m 58s\tremaining: 4m 39s\n",
            "298:\tlearn: 0.5612509\ttotal: 1m 58s\tremaining: 4m 38s\n",
            "299:\tlearn: 0.5603721\ttotal: 1m 59s\tremaining: 4m 37s\n",
            "300:\tlearn: 0.5598401\ttotal: 1m 59s\tremaining: 4m 36s\n",
            "301:\tlearn: 0.5590776\ttotal: 1m 59s\tremaining: 4m 36s\n",
            "302:\tlearn: 0.5585959\ttotal: 1m 59s\tremaining: 4m 35s\n",
            "303:\tlearn: 0.5580932\ttotal: 1m 59s\tremaining: 4m 34s\n",
            "304:\tlearn: 0.5573906\ttotal: 2m\tremaining: 4m 33s\n",
            "305:\tlearn: 0.5565944\ttotal: 2m\tremaining: 4m 33s\n",
            "306:\tlearn: 0.5557370\ttotal: 2m\tremaining: 4m 32s\n",
            "307:\tlearn: 0.5552612\ttotal: 2m\tremaining: 4m 31s\n",
            "308:\tlearn: 0.5548583\ttotal: 2m 1s\tremaining: 4m 30s\n",
            "309:\tlearn: 0.5542243\ttotal: 2m 1s\tremaining: 4m 30s\n",
            "310:\tlearn: 0.5533150\ttotal: 2m 1s\tremaining: 4m 29s\n",
            "311:\tlearn: 0.5526755\ttotal: 2m 1s\tremaining: 4m 28s\n",
            "312:\tlearn: 0.5520498\ttotal: 2m 2s\tremaining: 4m 28s\n",
            "313:\tlearn: 0.5512957\ttotal: 2m 2s\tremaining: 4m 27s\n",
            "314:\tlearn: 0.5509849\ttotal: 2m 2s\tremaining: 4m 26s\n",
            "315:\tlearn: 0.5502199\ttotal: 2m 2s\tremaining: 4m 25s\n",
            "316:\tlearn: 0.5495059\ttotal: 2m 3s\tremaining: 4m 25s\n",
            "317:\tlearn: 0.5489522\ttotal: 2m 3s\tremaining: 4m 24s\n",
            "318:\tlearn: 0.5485356\ttotal: 2m 3s\tremaining: 4m 23s\n",
            "319:\tlearn: 0.5481785\ttotal: 2m 3s\tremaining: 4m 22s\n",
            "320:\tlearn: 0.5477590\ttotal: 2m 3s\tremaining: 4m 22s\n",
            "321:\tlearn: 0.5472391\ttotal: 2m 4s\tremaining: 4m 21s\n",
            "322:\tlearn: 0.5461301\ttotal: 2m 4s\tremaining: 4m 20s\n",
            "323:\tlearn: 0.5452979\ttotal: 2m 4s\tremaining: 4m 20s\n",
            "324:\tlearn: 0.5449934\ttotal: 2m 4s\tremaining: 4m 19s\n",
            "325:\tlearn: 0.5443461\ttotal: 2m 5s\tremaining: 4m 18s\n",
            "326:\tlearn: 0.5438522\ttotal: 2m 5s\tremaining: 4m 18s\n",
            "327:\tlearn: 0.5431078\ttotal: 2m 5s\tremaining: 4m 17s\n",
            "328:\tlearn: 0.5425835\ttotal: 2m 5s\tremaining: 4m 16s\n",
            "329:\tlearn: 0.5419242\ttotal: 2m 6s\tremaining: 4m 16s\n",
            "330:\tlearn: 0.5412807\ttotal: 2m 6s\tremaining: 4m 15s\n",
            "331:\tlearn: 0.5405120\ttotal: 2m 6s\tremaining: 4m 14s\n",
            "332:\tlearn: 0.5399601\ttotal: 2m 7s\tremaining: 4m 14s\n",
            "333:\tlearn: 0.5394462\ttotal: 2m 7s\tremaining: 4m 14s\n",
            "334:\tlearn: 0.5385051\ttotal: 2m 7s\tremaining: 4m 14s\n",
            "335:\tlearn: 0.5379772\ttotal: 2m 8s\tremaining: 4m 13s\n",
            "336:\tlearn: 0.5375749\ttotal: 2m 8s\tremaining: 4m 13s\n",
            "337:\tlearn: 0.5369263\ttotal: 2m 9s\tremaining: 4m 12s\n",
            "338:\tlearn: 0.5364934\ttotal: 2m 9s\tremaining: 4m 12s\n",
            "339:\tlearn: 0.5360044\ttotal: 2m 9s\tremaining: 4m 11s\n",
            "340:\tlearn: 0.5354440\ttotal: 2m 9s\tremaining: 4m 11s\n",
            "341:\tlearn: 0.5346984\ttotal: 2m 10s\tremaining: 4m 10s\n",
            "342:\tlearn: 0.5340601\ttotal: 2m 10s\tremaining: 4m 9s\n",
            "343:\tlearn: 0.5335757\ttotal: 2m 10s\tremaining: 4m 9s\n",
            "344:\tlearn: 0.5332862\ttotal: 2m 10s\tremaining: 4m 8s\n",
            "345:\tlearn: 0.5326956\ttotal: 2m 11s\tremaining: 4m 7s\n",
            "346:\tlearn: 0.5319816\ttotal: 2m 11s\tremaining: 4m 7s\n",
            "347:\tlearn: 0.5313546\ttotal: 2m 11s\tremaining: 4m 6s\n",
            "348:\tlearn: 0.5306128\ttotal: 2m 11s\tremaining: 4m 6s\n",
            "349:\tlearn: 0.5298633\ttotal: 2m 12s\tremaining: 4m 5s\n",
            "350:\tlearn: 0.5294855\ttotal: 2m 12s\tremaining: 4m 4s\n",
            "351:\tlearn: 0.5288372\ttotal: 2m 12s\tremaining: 4m 4s\n",
            "352:\tlearn: 0.5284016\ttotal: 2m 12s\tremaining: 4m 3s\n",
            "353:\tlearn: 0.5279513\ttotal: 2m 13s\tremaining: 4m 2s\n",
            "354:\tlearn: 0.5276625\ttotal: 2m 13s\tremaining: 4m 2s\n",
            "355:\tlearn: 0.5273071\ttotal: 2m 13s\tremaining: 4m 1s\n",
            "356:\tlearn: 0.5269892\ttotal: 2m 13s\tremaining: 4m\n",
            "357:\tlearn: 0.5266822\ttotal: 2m 14s\tremaining: 4m\n",
            "358:\tlearn: 0.5262695\ttotal: 2m 14s\tremaining: 3m 59s\n",
            "359:\tlearn: 0.5258314\ttotal: 2m 14s\tremaining: 3m 59s\n",
            "360:\tlearn: 0.5254163\ttotal: 2m 14s\tremaining: 3m 58s\n",
            "361:\tlearn: 0.5249876\ttotal: 2m 14s\tremaining: 3m 57s\n",
            "362:\tlearn: 0.5244495\ttotal: 2m 15s\tremaining: 3m 57s\n",
            "363:\tlearn: 0.5240611\ttotal: 2m 15s\tremaining: 3m 56s\n",
            "364:\tlearn: 0.5235081\ttotal: 2m 15s\tremaining: 3m 56s\n",
            "365:\tlearn: 0.5231643\ttotal: 2m 15s\tremaining: 3m 55s\n",
            "366:\tlearn: 0.5226613\ttotal: 2m 16s\tremaining: 3m 54s\n",
            "367:\tlearn: 0.5220795\ttotal: 2m 16s\tremaining: 3m 54s\n",
            "368:\tlearn: 0.5217364\ttotal: 2m 16s\tremaining: 3m 53s\n",
            "369:\tlearn: 0.5214303\ttotal: 2m 16s\tremaining: 3m 52s\n",
            "370:\tlearn: 0.5207880\ttotal: 2m 16s\tremaining: 3m 52s\n",
            "371:\tlearn: 0.5204614\ttotal: 2m 17s\tremaining: 3m 51s\n",
            "372:\tlearn: 0.5200667\ttotal: 2m 17s\tremaining: 3m 50s\n",
            "373:\tlearn: 0.5195539\ttotal: 2m 17s\tremaining: 3m 50s\n",
            "374:\tlearn: 0.5191483\ttotal: 2m 17s\tremaining: 3m 49s\n",
            "375:\tlearn: 0.5189901\ttotal: 2m 17s\tremaining: 3m 48s\n",
            "376:\tlearn: 0.5185252\ttotal: 2m 18s\tremaining: 3m 48s\n",
            "377:\tlearn: 0.5180564\ttotal: 2m 18s\tremaining: 3m 47s\n",
            "378:\tlearn: 0.5176475\ttotal: 2m 18s\tremaining: 3m 47s\n",
            "379:\tlearn: 0.5171165\ttotal: 2m 18s\tremaining: 3m 46s\n",
            "380:\tlearn: 0.5168632\ttotal: 2m 19s\tremaining: 3m 45s\n",
            "381:\tlearn: 0.5166508\ttotal: 2m 19s\tremaining: 3m 45s\n",
            "382:\tlearn: 0.5162477\ttotal: 2m 19s\tremaining: 3m 45s\n",
            "383:\tlearn: 0.5158320\ttotal: 2m 20s\tremaining: 3m 45s\n",
            "384:\tlearn: 0.5153451\ttotal: 2m 20s\tremaining: 3m 45s\n",
            "385:\tlearn: 0.5150888\ttotal: 2m 21s\tremaining: 3m 44s\n",
            "386:\tlearn: 0.5146320\ttotal: 2m 21s\tremaining: 3m 44s\n",
            "387:\tlearn: 0.5138286\ttotal: 2m 22s\tremaining: 3m 44s\n",
            "388:\tlearn: 0.5133443\ttotal: 2m 22s\tremaining: 3m 43s\n",
            "389:\tlearn: 0.5129822\ttotal: 2m 22s\tremaining: 3m 42s\n",
            "390:\tlearn: 0.5126961\ttotal: 2m 22s\tremaining: 3m 42s\n",
            "391:\tlearn: 0.5122173\ttotal: 2m 22s\tremaining: 3m 41s\n",
            "392:\tlearn: 0.5119037\ttotal: 2m 23s\tremaining: 3m 41s\n",
            "393:\tlearn: 0.5115853\ttotal: 2m 23s\tremaining: 3m 40s\n",
            "394:\tlearn: 0.5111168\ttotal: 2m 23s\tremaining: 3m 40s\n",
            "395:\tlearn: 0.5107102\ttotal: 2m 23s\tremaining: 3m 39s\n",
            "396:\tlearn: 0.5103595\ttotal: 2m 24s\tremaining: 3m 39s\n",
            "397:\tlearn: 0.5098570\ttotal: 2m 24s\tremaining: 3m 38s\n",
            "398:\tlearn: 0.5095821\ttotal: 2m 24s\tremaining: 3m 37s\n",
            "399:\tlearn: 0.5093140\ttotal: 2m 24s\tremaining: 3m 37s\n",
            "400:\tlearn: 0.5087358\ttotal: 2m 25s\tremaining: 3m 36s\n",
            "401:\tlearn: 0.5083354\ttotal: 2m 25s\tremaining: 3m 36s\n",
            "402:\tlearn: 0.5080853\ttotal: 2m 25s\tremaining: 3m 35s\n",
            "403:\tlearn: 0.5076366\ttotal: 2m 25s\tremaining: 3m 35s\n",
            "404:\tlearn: 0.5070493\ttotal: 2m 25s\tremaining: 3m 34s\n",
            "405:\tlearn: 0.5067669\ttotal: 2m 26s\tremaining: 3m 33s\n",
            "406:\tlearn: 0.5063281\ttotal: 2m 26s\tremaining: 3m 33s\n",
            "407:\tlearn: 0.5058127\ttotal: 2m 26s\tremaining: 3m 32s\n",
            "408:\tlearn: 0.5053774\ttotal: 2m 26s\tremaining: 3m 32s\n",
            "409:\tlearn: 0.5049763\ttotal: 2m 27s\tremaining: 3m 31s\n",
            "410:\tlearn: 0.5046165\ttotal: 2m 27s\tremaining: 3m 31s\n",
            "411:\tlearn: 0.5041467\ttotal: 2m 27s\tremaining: 3m 30s\n",
            "412:\tlearn: 0.5037421\ttotal: 2m 27s\tremaining: 3m 30s\n",
            "413:\tlearn: 0.5034839\ttotal: 2m 28s\tremaining: 3m 29s\n",
            "414:\tlearn: 0.5028892\ttotal: 2m 28s\tremaining: 3m 29s\n",
            "415:\tlearn: 0.5024708\ttotal: 2m 28s\tremaining: 3m 28s\n",
            "416:\tlearn: 0.5020098\ttotal: 2m 28s\tremaining: 3m 28s\n",
            "417:\tlearn: 0.5016423\ttotal: 2m 29s\tremaining: 3m 27s\n",
            "418:\tlearn: 0.5012160\ttotal: 2m 29s\tremaining: 3m 26s\n",
            "419:\tlearn: 0.5005596\ttotal: 2m 29s\tremaining: 3m 26s\n",
            "420:\tlearn: 0.4999473\ttotal: 2m 29s\tremaining: 3m 25s\n",
            "421:\tlearn: 0.4994164\ttotal: 2m 29s\tremaining: 3m 25s\n",
            "422:\tlearn: 0.4990808\ttotal: 2m 30s\tremaining: 3m 24s\n",
            "423:\tlearn: 0.4986489\ttotal: 2m 30s\tremaining: 3m 24s\n",
            "424:\tlearn: 0.4983823\ttotal: 2m 30s\tremaining: 3m 23s\n",
            "425:\tlearn: 0.4981118\ttotal: 2m 30s\tremaining: 3m 23s\n",
            "426:\tlearn: 0.4978264\ttotal: 2m 31s\tremaining: 3m 22s\n",
            "427:\tlearn: 0.4975058\ttotal: 2m 31s\tremaining: 3m 22s\n",
            "428:\tlearn: 0.4971244\ttotal: 2m 31s\tremaining: 3m 21s\n",
            "429:\tlearn: 0.4965201\ttotal: 2m 31s\tremaining: 3m 21s\n",
            "430:\tlearn: 0.4962556\ttotal: 2m 31s\tremaining: 3m 20s\n",
            "431:\tlearn: 0.4958184\ttotal: 2m 32s\tremaining: 3m 20s\n",
            "432:\tlearn: 0.4953775\ttotal: 2m 32s\tremaining: 3m 19s\n",
            "433:\tlearn: 0.4949742\ttotal: 2m 33s\tremaining: 3m 19s\n",
            "434:\tlearn: 0.4946782\ttotal: 2m 33s\tremaining: 3m 19s\n",
            "435:\tlearn: 0.4942660\ttotal: 2m 34s\tremaining: 3m 19s\n",
            "436:\tlearn: 0.4935629\ttotal: 2m 34s\tremaining: 3m 19s\n",
            "437:\tlearn: 0.4931840\ttotal: 2m 34s\tremaining: 3m 18s\n",
            "438:\tlearn: 0.4928973\ttotal: 2m 35s\tremaining: 3m 18s\n",
            "439:\tlearn: 0.4925328\ttotal: 2m 35s\tremaining: 3m 17s\n",
            "440:\tlearn: 0.4921962\ttotal: 2m 35s\tremaining: 3m 17s\n",
            "441:\tlearn: 0.4917233\ttotal: 2m 35s\tremaining: 3m 16s\n",
            "442:\tlearn: 0.4914420\ttotal: 2m 36s\tremaining: 3m 16s\n",
            "443:\tlearn: 0.4911656\ttotal: 2m 36s\tremaining: 3m 15s\n",
            "444:\tlearn: 0.4908217\ttotal: 2m 36s\tremaining: 3m 15s\n",
            "445:\tlearn: 0.4904314\ttotal: 2m 36s\tremaining: 3m 14s\n",
            "446:\tlearn: 0.4901689\ttotal: 2m 37s\tremaining: 3m 14s\n",
            "447:\tlearn: 0.4898675\ttotal: 2m 37s\tremaining: 3m 13s\n",
            "448:\tlearn: 0.4895962\ttotal: 2m 37s\tremaining: 3m 13s\n",
            "449:\tlearn: 0.4893383\ttotal: 2m 37s\tremaining: 3m 12s\n",
            "450:\tlearn: 0.4890527\ttotal: 2m 38s\tremaining: 3m 12s\n",
            "451:\tlearn: 0.4885781\ttotal: 2m 38s\tremaining: 3m 11s\n",
            "452:\tlearn: 0.4882490\ttotal: 2m 38s\tremaining: 3m 11s\n",
            "453:\tlearn: 0.4880631\ttotal: 2m 38s\tremaining: 3m 10s\n",
            "454:\tlearn: 0.4878425\ttotal: 2m 38s\tremaining: 3m 10s\n",
            "455:\tlearn: 0.4872424\ttotal: 2m 39s\tremaining: 3m 9s\n",
            "456:\tlearn: 0.4865449\ttotal: 2m 39s\tremaining: 3m 9s\n",
            "457:\tlearn: 0.4863207\ttotal: 2m 39s\tremaining: 3m 8s\n",
            "458:\tlearn: 0.4860325\ttotal: 2m 39s\tremaining: 3m 8s\n",
            "459:\tlearn: 0.4857364\ttotal: 2m 40s\tremaining: 3m 7s\n",
            "460:\tlearn: 0.4854091\ttotal: 2m 40s\tremaining: 3m 7s\n",
            "461:\tlearn: 0.4850453\ttotal: 2m 40s\tremaining: 3m 7s\n",
            "462:\tlearn: 0.4845769\ttotal: 2m 40s\tremaining: 3m 6s\n",
            "463:\tlearn: 0.4842443\ttotal: 2m 41s\tremaining: 3m 6s\n",
            "464:\tlearn: 0.4837596\ttotal: 2m 41s\tremaining: 3m 5s\n",
            "465:\tlearn: 0.4833700\ttotal: 2m 41s\tremaining: 3m 5s\n",
            "466:\tlearn: 0.4828288\ttotal: 2m 41s\tremaining: 3m 4s\n",
            "467:\tlearn: 0.4822966\ttotal: 2m 42s\tremaining: 3m 4s\n",
            "468:\tlearn: 0.4819489\ttotal: 2m 42s\tremaining: 3m 3s\n",
            "469:\tlearn: 0.4815117\ttotal: 2m 42s\tremaining: 3m 3s\n",
            "470:\tlearn: 0.4811811\ttotal: 2m 42s\tremaining: 3m 2s\n",
            "471:\tlearn: 0.4808409\ttotal: 2m 42s\tremaining: 3m 2s\n",
            "472:\tlearn: 0.4804781\ttotal: 2m 43s\tremaining: 3m 1s\n",
            "473:\tlearn: 0.4799467\ttotal: 2m 43s\tremaining: 3m 1s\n",
            "474:\tlearn: 0.4794649\ttotal: 2m 43s\tremaining: 3m\n",
            "475:\tlearn: 0.4790647\ttotal: 2m 43s\tremaining: 3m\n",
            "476:\tlearn: 0.4783888\ttotal: 2m 44s\tremaining: 2m 59s\n",
            "477:\tlearn: 0.4780364\ttotal: 2m 44s\tremaining: 2m 59s\n",
            "478:\tlearn: 0.4777006\ttotal: 2m 44s\tremaining: 2m 59s\n",
            "479:\tlearn: 0.4771971\ttotal: 2m 44s\tremaining: 2m 58s\n",
            "480:\tlearn: 0.4767612\ttotal: 2m 45s\tremaining: 2m 58s\n",
            "481:\tlearn: 0.4761908\ttotal: 2m 45s\tremaining: 2m 58s\n",
            "482:\tlearn: 0.4759055\ttotal: 2m 46s\tremaining: 2m 57s\n",
            "483:\tlearn: 0.4755833\ttotal: 2m 46s\tremaining: 2m 57s\n",
            "484:\tlearn: 0.4753262\ttotal: 2m 47s\tremaining: 2m 57s\n",
            "485:\tlearn: 0.4749928\ttotal: 2m 47s\tremaining: 2m 57s\n",
            "486:\tlearn: 0.4747627\ttotal: 2m 47s\tremaining: 2m 56s\n",
            "487:\tlearn: 0.4743241\ttotal: 2m 47s\tremaining: 2m 56s\n",
            "488:\tlearn: 0.4740483\ttotal: 2m 48s\tremaining: 2m 55s\n",
            "489:\tlearn: 0.4737193\ttotal: 2m 48s\tremaining: 2m 55s\n",
            "490:\tlearn: 0.4735030\ttotal: 2m 48s\tremaining: 2m 54s\n",
            "491:\tlearn: 0.4732739\ttotal: 2m 48s\tremaining: 2m 54s\n",
            "492:\tlearn: 0.4730583\ttotal: 2m 49s\tremaining: 2m 53s\n",
            "493:\tlearn: 0.4728605\ttotal: 2m 49s\tremaining: 2m 53s\n",
            "494:\tlearn: 0.4721983\ttotal: 2m 49s\tremaining: 2m 53s\n",
            "495:\tlearn: 0.4718956\ttotal: 2m 49s\tremaining: 2m 52s\n",
            "496:\tlearn: 0.4717237\ttotal: 2m 50s\tremaining: 2m 52s\n",
            "497:\tlearn: 0.4714019\ttotal: 2m 50s\tremaining: 2m 51s\n",
            "498:\tlearn: 0.4711694\ttotal: 2m 50s\tremaining: 2m 51s\n",
            "499:\tlearn: 0.4708152\ttotal: 2m 50s\tremaining: 2m 50s\n",
            "500:\tlearn: 0.4705698\ttotal: 2m 50s\tremaining: 2m 50s\n",
            "501:\tlearn: 0.4702865\ttotal: 2m 51s\tremaining: 2m 49s\n",
            "502:\tlearn: 0.4701225\ttotal: 2m 51s\tremaining: 2m 49s\n",
            "503:\tlearn: 0.4697730\ttotal: 2m 51s\tremaining: 2m 48s\n",
            "504:\tlearn: 0.4695116\ttotal: 2m 51s\tremaining: 2m 48s\n",
            "505:\tlearn: 0.4689723\ttotal: 2m 52s\tremaining: 2m 48s\n",
            "506:\tlearn: 0.4687865\ttotal: 2m 52s\tremaining: 2m 47s\n",
            "507:\tlearn: 0.4685406\ttotal: 2m 52s\tremaining: 2m 47s\n",
            "508:\tlearn: 0.4683368\ttotal: 2m 52s\tremaining: 2m 46s\n",
            "509:\tlearn: 0.4678143\ttotal: 2m 52s\tremaining: 2m 46s\n",
            "510:\tlearn: 0.4675071\ttotal: 2m 53s\tremaining: 2m 45s\n",
            "511:\tlearn: 0.4671957\ttotal: 2m 53s\tremaining: 2m 45s\n",
            "512:\tlearn: 0.4670035\ttotal: 2m 53s\tremaining: 2m 44s\n",
            "513:\tlearn: 0.4667223\ttotal: 2m 53s\tremaining: 2m 44s\n",
            "514:\tlearn: 0.4664190\ttotal: 2m 54s\tremaining: 2m 44s\n",
            "515:\tlearn: 0.4661973\ttotal: 2m 54s\tremaining: 2m 43s\n",
            "516:\tlearn: 0.4659917\ttotal: 2m 54s\tremaining: 2m 43s\n",
            "517:\tlearn: 0.4657990\ttotal: 2m 54s\tremaining: 2m 42s\n",
            "518:\tlearn: 0.4654798\ttotal: 2m 55s\tremaining: 2m 42s\n",
            "519:\tlearn: 0.4652119\ttotal: 2m 55s\tremaining: 2m 41s\n",
            "520:\tlearn: 0.4650066\ttotal: 2m 55s\tremaining: 2m 41s\n",
            "521:\tlearn: 0.4647546\ttotal: 2m 55s\tremaining: 2m 40s\n",
            "522:\tlearn: 0.4645548\ttotal: 2m 56s\tremaining: 2m 40s\n",
            "523:\tlearn: 0.4642876\ttotal: 2m 56s\tremaining: 2m 40s\n",
            "524:\tlearn: 0.4638323\ttotal: 2m 56s\tremaining: 2m 39s\n",
            "525:\tlearn: 0.4635762\ttotal: 2m 56s\tremaining: 2m 39s\n",
            "526:\tlearn: 0.4633892\ttotal: 2m 57s\tremaining: 2m 38s\n",
            "527:\tlearn: 0.4631287\ttotal: 2m 57s\tremaining: 2m 38s\n",
            "528:\tlearn: 0.4629079\ttotal: 2m 58s\tremaining: 2m 38s\n",
            "529:\tlearn: 0.4624598\ttotal: 2m 58s\tremaining: 2m 38s\n",
            "530:\tlearn: 0.4622087\ttotal: 2m 59s\tremaining: 2m 38s\n",
            "531:\tlearn: 0.4620416\ttotal: 2m 59s\tremaining: 2m 37s\n",
            "532:\tlearn: 0.4617292\ttotal: 3m\tremaining: 2m 37s\n",
            "533:\tlearn: 0.4612991\ttotal: 3m\tremaining: 2m 37s\n",
            "534:\tlearn: 0.4610047\ttotal: 3m\tremaining: 2m 37s\n",
            "535:\tlearn: 0.4607699\ttotal: 3m\tremaining: 2m 36s\n",
            "536:\tlearn: 0.4606352\ttotal: 3m 1s\tremaining: 2m 36s\n",
            "537:\tlearn: 0.4601491\ttotal: 3m 1s\tremaining: 2m 35s\n",
            "538:\tlearn: 0.4597837\ttotal: 3m 1s\tremaining: 2m 35s\n",
            "539:\tlearn: 0.4595770\ttotal: 3m 1s\tremaining: 2m 34s\n",
            "540:\tlearn: 0.4592320\ttotal: 3m 2s\tremaining: 2m 34s\n",
            "541:\tlearn: 0.4590475\ttotal: 3m 2s\tremaining: 2m 34s\n",
            "542:\tlearn: 0.4585531\ttotal: 3m 2s\tremaining: 2m 33s\n",
            "543:\tlearn: 0.4582335\ttotal: 3m 2s\tremaining: 2m 33s\n",
            "544:\tlearn: 0.4578832\ttotal: 3m 3s\tremaining: 2m 32s\n",
            "545:\tlearn: 0.4574131\ttotal: 3m 3s\tremaining: 2m 32s\n",
            "546:\tlearn: 0.4571014\ttotal: 3m 3s\tremaining: 2m 32s\n",
            "547:\tlearn: 0.4568871\ttotal: 3m 3s\tremaining: 2m 31s\n",
            "548:\tlearn: 0.4566459\ttotal: 3m 4s\tremaining: 2m 31s\n",
            "549:\tlearn: 0.4563852\ttotal: 3m 4s\tremaining: 2m 30s\n",
            "550:\tlearn: 0.4561102\ttotal: 3m 4s\tremaining: 2m 30s\n",
            "551:\tlearn: 0.4558447\ttotal: 3m 4s\tremaining: 2m 29s\n",
            "552:\tlearn: 0.4556140\ttotal: 3m 4s\tremaining: 2m 29s\n",
            "553:\tlearn: 0.4553301\ttotal: 3m 5s\tremaining: 2m 29s\n",
            "554:\tlearn: 0.4551372\ttotal: 3m 5s\tremaining: 2m 28s\n",
            "555:\tlearn: 0.4549797\ttotal: 3m 5s\tremaining: 2m 28s\n",
            "556:\tlearn: 0.4546842\ttotal: 3m 5s\tremaining: 2m 27s\n",
            "557:\tlearn: 0.4545147\ttotal: 3m 6s\tremaining: 2m 27s\n",
            "558:\tlearn: 0.4544009\ttotal: 3m 6s\tremaining: 2m 26s\n",
            "559:\tlearn: 0.4541314\ttotal: 3m 6s\tremaining: 2m 26s\n",
            "560:\tlearn: 0.4537064\ttotal: 3m 6s\tremaining: 2m 26s\n",
            "561:\tlearn: 0.4534093\ttotal: 3m 7s\tremaining: 2m 25s\n",
            "562:\tlearn: 0.4531847\ttotal: 3m 7s\tremaining: 2m 25s\n",
            "563:\tlearn: 0.4529468\ttotal: 3m 7s\tremaining: 2m 24s\n",
            "564:\tlearn: 0.4527112\ttotal: 3m 7s\tremaining: 2m 24s\n",
            "565:\tlearn: 0.4524366\ttotal: 3m 7s\tremaining: 2m 24s\n",
            "566:\tlearn: 0.4521698\ttotal: 3m 8s\tremaining: 2m 23s\n",
            "567:\tlearn: 0.4519013\ttotal: 3m 8s\tremaining: 2m 23s\n",
            "568:\tlearn: 0.4516128\ttotal: 3m 8s\tremaining: 2m 22s\n",
            "569:\tlearn: 0.4513105\ttotal: 3m 8s\tremaining: 2m 22s\n",
            "570:\tlearn: 0.4510693\ttotal: 3m 9s\tremaining: 2m 22s\n",
            "571:\tlearn: 0.4507646\ttotal: 3m 9s\tremaining: 2m 21s\n",
            "572:\tlearn: 0.4505299\ttotal: 3m 9s\tremaining: 2m 21s\n",
            "573:\tlearn: 0.4501283\ttotal: 3m 9s\tremaining: 2m 20s\n",
            "574:\tlearn: 0.4497571\ttotal: 3m 10s\tremaining: 2m 20s\n",
            "575:\tlearn: 0.4493361\ttotal: 3m 10s\tremaining: 2m 20s\n",
            "576:\tlearn: 0.4491154\ttotal: 3m 10s\tremaining: 2m 19s\n",
            "577:\tlearn: 0.4489279\ttotal: 3m 11s\tremaining: 2m 19s\n",
            "578:\tlearn: 0.4487967\ttotal: 3m 11s\tremaining: 2m 19s\n",
            "579:\tlearn: 0.4485038\ttotal: 3m 12s\tremaining: 2m 19s\n",
            "580:\tlearn: 0.4481091\ttotal: 3m 12s\tremaining: 2m 18s\n",
            "581:\tlearn: 0.4479042\ttotal: 3m 13s\tremaining: 2m 18s\n",
            "582:\tlearn: 0.4475792\ttotal: 3m 13s\tremaining: 2m 18s\n",
            "583:\tlearn: 0.4472678\ttotal: 3m 13s\tremaining: 2m 17s\n",
            "584:\tlearn: 0.4470326\ttotal: 3m 13s\tremaining: 2m 17s\n",
            "585:\tlearn: 0.4466720\ttotal: 3m 14s\tremaining: 2m 17s\n",
            "586:\tlearn: 0.4464818\ttotal: 3m 14s\tremaining: 2m 16s\n",
            "587:\tlearn: 0.4461879\ttotal: 3m 14s\tremaining: 2m 16s\n",
            "588:\tlearn: 0.4458941\ttotal: 3m 14s\tremaining: 2m 15s\n",
            "589:\tlearn: 0.4457366\ttotal: 3m 15s\tremaining: 2m 15s\n",
            "590:\tlearn: 0.4455188\ttotal: 3m 15s\tremaining: 2m 15s\n",
            "591:\tlearn: 0.4451780\ttotal: 3m 15s\tremaining: 2m 14s\n",
            "592:\tlearn: 0.4449449\ttotal: 3m 15s\tremaining: 2m 14s\n",
            "593:\tlearn: 0.4446002\ttotal: 3m 15s\tremaining: 2m 13s\n",
            "594:\tlearn: 0.4444062\ttotal: 3m 16s\tremaining: 2m 13s\n",
            "595:\tlearn: 0.4440495\ttotal: 3m 16s\tremaining: 2m 13s\n",
            "596:\tlearn: 0.4437245\ttotal: 3m 16s\tremaining: 2m 12s\n",
            "597:\tlearn: 0.4434092\ttotal: 3m 16s\tremaining: 2m 12s\n",
            "598:\tlearn: 0.4431591\ttotal: 3m 17s\tremaining: 2m 11s\n",
            "599:\tlearn: 0.4429544\ttotal: 3m 17s\tremaining: 2m 11s\n",
            "600:\tlearn: 0.4425993\ttotal: 3m 17s\tremaining: 2m 11s\n",
            "601:\tlearn: 0.4424035\ttotal: 3m 17s\tremaining: 2m 10s\n",
            "602:\tlearn: 0.4421276\ttotal: 3m 18s\tremaining: 2m 10s\n",
            "603:\tlearn: 0.4417988\ttotal: 3m 18s\tremaining: 2m 10s\n",
            "604:\tlearn: 0.4416193\ttotal: 3m 18s\tremaining: 2m 9s\n",
            "605:\tlearn: 0.4414733\ttotal: 3m 18s\tremaining: 2m 9s\n",
            "606:\tlearn: 0.4413471\ttotal: 3m 19s\tremaining: 2m 8s\n",
            "607:\tlearn: 0.4411507\ttotal: 3m 19s\tremaining: 2m 8s\n",
            "608:\tlearn: 0.4409878\ttotal: 3m 19s\tremaining: 2m 8s\n",
            "609:\tlearn: 0.4405883\ttotal: 3m 19s\tremaining: 2m 7s\n",
            "610:\tlearn: 0.4402148\ttotal: 3m 19s\tremaining: 2m 7s\n",
            "611:\tlearn: 0.4399417\ttotal: 3m 20s\tremaining: 2m 6s\n",
            "612:\tlearn: 0.4397646\ttotal: 3m 20s\tremaining: 2m 6s\n",
            "613:\tlearn: 0.4393417\ttotal: 3m 20s\tremaining: 2m 6s\n",
            "614:\tlearn: 0.4389934\ttotal: 3m 20s\tremaining: 2m 5s\n",
            "615:\tlearn: 0.4387019\ttotal: 3m 21s\tremaining: 2m 5s\n",
            "616:\tlearn: 0.4384774\ttotal: 3m 21s\tremaining: 2m 5s\n",
            "617:\tlearn: 0.4382477\ttotal: 3m 21s\tremaining: 2m 4s\n",
            "618:\tlearn: 0.4379258\ttotal: 3m 21s\tremaining: 2m 4s\n",
            "619:\tlearn: 0.4377181\ttotal: 3m 22s\tremaining: 2m 3s\n",
            "620:\tlearn: 0.4375675\ttotal: 3m 22s\tremaining: 2m 3s\n",
            "621:\tlearn: 0.4373695\ttotal: 3m 22s\tremaining: 2m 3s\n",
            "622:\tlearn: 0.4371305\ttotal: 3m 22s\tremaining: 2m 2s\n",
            "623:\tlearn: 0.4369189\ttotal: 3m 22s\tremaining: 2m 2s\n",
            "624:\tlearn: 0.4365883\ttotal: 3m 23s\tremaining: 2m 1s\n",
            "625:\tlearn: 0.4362428\ttotal: 3m 23s\tremaining: 2m 1s\n",
            "626:\tlearn: 0.4359702\ttotal: 3m 24s\tremaining: 2m 1s\n",
            "627:\tlearn: 0.4356888\ttotal: 3m 24s\tremaining: 2m 1s\n",
            "628:\tlearn: 0.4355347\ttotal: 3m 25s\tremaining: 2m\n",
            "629:\tlearn: 0.4353778\ttotal: 3m 25s\tremaining: 2m\n",
            "630:\tlearn: 0.4352215\ttotal: 3m 25s\tremaining: 2m\n",
            "631:\tlearn: 0.4349964\ttotal: 3m 26s\tremaining: 2m\n",
            "632:\tlearn: 0.4348693\ttotal: 3m 26s\tremaining: 1m 59s\n",
            "633:\tlearn: 0.4346198\ttotal: 3m 26s\tremaining: 1m 59s\n",
            "634:\tlearn: 0.4344376\ttotal: 3m 27s\tremaining: 1m 59s\n",
            "635:\tlearn: 0.4342056\ttotal: 3m 27s\tremaining: 1m 58s\n",
            "636:\tlearn: 0.4339884\ttotal: 3m 27s\tremaining: 1m 58s\n",
            "637:\tlearn: 0.4336312\ttotal: 3m 28s\tremaining: 1m 58s\n",
            "638:\tlearn: 0.4331512\ttotal: 3m 28s\tremaining: 1m 57s\n",
            "639:\tlearn: 0.4329221\ttotal: 3m 28s\tremaining: 1m 57s\n",
            "640:\tlearn: 0.4327405\ttotal: 3m 28s\tremaining: 1m 56s\n",
            "641:\tlearn: 0.4325530\ttotal: 3m 29s\tremaining: 1m 56s\n",
            "642:\tlearn: 0.4322471\ttotal: 3m 29s\tremaining: 1m 56s\n",
            "643:\tlearn: 0.4320065\ttotal: 3m 29s\tremaining: 1m 55s\n",
            "644:\tlearn: 0.4316437\ttotal: 3m 29s\tremaining: 1m 55s\n",
            "645:\tlearn: 0.4313916\ttotal: 3m 30s\tremaining: 1m 55s\n",
            "646:\tlearn: 0.4311873\ttotal: 3m 30s\tremaining: 1m 54s\n",
            "647:\tlearn: 0.4309564\ttotal: 3m 30s\tremaining: 1m 54s\n",
            "648:\tlearn: 0.4307431\ttotal: 3m 30s\tremaining: 1m 53s\n",
            "649:\tlearn: 0.4305734\ttotal: 3m 30s\tremaining: 1m 53s\n",
            "650:\tlearn: 0.4302045\ttotal: 3m 31s\tremaining: 1m 53s\n",
            "651:\tlearn: 0.4300267\ttotal: 3m 31s\tremaining: 1m 52s\n",
            "652:\tlearn: 0.4296946\ttotal: 3m 31s\tremaining: 1m 52s\n",
            "653:\tlearn: 0.4294393\ttotal: 3m 31s\tremaining: 1m 52s\n",
            "654:\tlearn: 0.4289299\ttotal: 3m 32s\tremaining: 1m 51s\n",
            "655:\tlearn: 0.4286529\ttotal: 3m 32s\tremaining: 1m 51s\n",
            "656:\tlearn: 0.4283998\ttotal: 3m 32s\tremaining: 1m 51s\n",
            "657:\tlearn: 0.4281212\ttotal: 3m 32s\tremaining: 1m 50s\n",
            "658:\tlearn: 0.4279141\ttotal: 3m 33s\tremaining: 1m 50s\n",
            "659:\tlearn: 0.4276849\ttotal: 3m 33s\tremaining: 1m 49s\n",
            "660:\tlearn: 0.4275244\ttotal: 3m 33s\tremaining: 1m 49s\n",
            "661:\tlearn: 0.4272570\ttotal: 3m 33s\tremaining: 1m 49s\n",
            "662:\tlearn: 0.4269758\ttotal: 3m 34s\tremaining: 1m 48s\n",
            "663:\tlearn: 0.4267681\ttotal: 3m 34s\tremaining: 1m 48s\n",
            "664:\tlearn: 0.4265813\ttotal: 3m 34s\tremaining: 1m 48s\n",
            "665:\tlearn: 0.4263704\ttotal: 3m 34s\tremaining: 1m 47s\n",
            "666:\tlearn: 0.4261328\ttotal: 3m 35s\tremaining: 1m 47s\n",
            "667:\tlearn: 0.4258870\ttotal: 3m 35s\tremaining: 1m 47s\n",
            "668:\tlearn: 0.4255642\ttotal: 3m 35s\tremaining: 1m 46s\n",
            "669:\tlearn: 0.4253429\ttotal: 3m 35s\tremaining: 1m 46s\n",
            "670:\tlearn: 0.4251939\ttotal: 3m 36s\tremaining: 1m 46s\n",
            "671:\tlearn: 0.4250850\ttotal: 3m 36s\tremaining: 1m 45s\n",
            "672:\tlearn: 0.4249602\ttotal: 3m 36s\tremaining: 1m 45s\n",
            "673:\tlearn: 0.4247946\ttotal: 3m 37s\tremaining: 1m 45s\n",
            "674:\tlearn: 0.4245627\ttotal: 3m 37s\tremaining: 1m 44s\n",
            "675:\tlearn: 0.4243321\ttotal: 3m 38s\tremaining: 1m 44s\n",
            "676:\tlearn: 0.4239831\ttotal: 3m 38s\tremaining: 1m 44s\n",
            "677:\tlearn: 0.4237625\ttotal: 3m 38s\tremaining: 1m 43s\n",
            "678:\tlearn: 0.4235063\ttotal: 3m 39s\tremaining: 1m 43s\n",
            "679:\tlearn: 0.4233823\ttotal: 3m 39s\tremaining: 1m 43s\n",
            "680:\tlearn: 0.4231768\ttotal: 3m 39s\tremaining: 1m 42s\n",
            "681:\tlearn: 0.4229634\ttotal: 3m 39s\tremaining: 1m 42s\n",
            "682:\tlearn: 0.4228253\ttotal: 3m 40s\tremaining: 1m 42s\n",
            "683:\tlearn: 0.4225627\ttotal: 3m 40s\tremaining: 1m 41s\n",
            "684:\tlearn: 0.4222424\ttotal: 3m 40s\tremaining: 1m 41s\n",
            "685:\tlearn: 0.4220891\ttotal: 3m 40s\tremaining: 1m 41s\n",
            "686:\tlearn: 0.4219490\ttotal: 3m 41s\tremaining: 1m 40s\n",
            "687:\tlearn: 0.4218339\ttotal: 3m 41s\tremaining: 1m 40s\n",
            "688:\tlearn: 0.4217031\ttotal: 3m 41s\tremaining: 1m 39s\n",
            "689:\tlearn: 0.4215237\ttotal: 3m 41s\tremaining: 1m 39s\n",
            "690:\tlearn: 0.4213644\ttotal: 3m 41s\tremaining: 1m 39s\n",
            "691:\tlearn: 0.4210764\ttotal: 3m 42s\tremaining: 1m 38s\n",
            "692:\tlearn: 0.4209129\ttotal: 3m 42s\tremaining: 1m 38s\n",
            "693:\tlearn: 0.4207423\ttotal: 3m 42s\tremaining: 1m 38s\n",
            "694:\tlearn: 0.4203641\ttotal: 3m 42s\tremaining: 1m 37s\n",
            "695:\tlearn: 0.4200967\ttotal: 3m 43s\tremaining: 1m 37s\n",
            "696:\tlearn: 0.4198704\ttotal: 3m 43s\tremaining: 1m 37s\n",
            "697:\tlearn: 0.4196466\ttotal: 3m 43s\tremaining: 1m 36s\n",
            "698:\tlearn: 0.4195008\ttotal: 3m 43s\tremaining: 1m 36s\n",
            "699:\tlearn: 0.4193477\ttotal: 3m 44s\tremaining: 1m 36s\n",
            "700:\tlearn: 0.4191052\ttotal: 3m 44s\tremaining: 1m 35s\n",
            "701:\tlearn: 0.4189507\ttotal: 3m 44s\tremaining: 1m 35s\n",
            "702:\tlearn: 0.4187564\ttotal: 3m 44s\tremaining: 1m 34s\n",
            "703:\tlearn: 0.4184858\ttotal: 3m 45s\tremaining: 1m 34s\n",
            "704:\tlearn: 0.4182935\ttotal: 3m 45s\tremaining: 1m 34s\n",
            "705:\tlearn: 0.4180621\ttotal: 3m 45s\tremaining: 1m 33s\n",
            "706:\tlearn: 0.4178772\ttotal: 3m 45s\tremaining: 1m 33s\n",
            "707:\tlearn: 0.4176310\ttotal: 3m 45s\tremaining: 1m 33s\n",
            "708:\tlearn: 0.4174038\ttotal: 3m 46s\tremaining: 1m 32s\n",
            "709:\tlearn: 0.4172563\ttotal: 3m 46s\tremaining: 1m 32s\n",
            "710:\tlearn: 0.4171028\ttotal: 3m 46s\tremaining: 1m 32s\n",
            "711:\tlearn: 0.4168664\ttotal: 3m 46s\tremaining: 1m 31s\n",
            "712:\tlearn: 0.4166834\ttotal: 3m 47s\tremaining: 1m 31s\n",
            "713:\tlearn: 0.4165601\ttotal: 3m 47s\tremaining: 1m 31s\n",
            "714:\tlearn: 0.4163760\ttotal: 3m 47s\tremaining: 1m 30s\n",
            "715:\tlearn: 0.4162157\ttotal: 3m 47s\tremaining: 1m 30s\n",
            "716:\tlearn: 0.4159950\ttotal: 3m 48s\tremaining: 1m 30s\n",
            "717:\tlearn: 0.4158134\ttotal: 3m 48s\tremaining: 1m 29s\n",
            "718:\tlearn: 0.4155021\ttotal: 3m 48s\tremaining: 1m 29s\n",
            "719:\tlearn: 0.4153180\ttotal: 3m 48s\tremaining: 1m 29s\n",
            "720:\tlearn: 0.4151678\ttotal: 3m 49s\tremaining: 1m 28s\n",
            "721:\tlearn: 0.4149769\ttotal: 3m 49s\tremaining: 1m 28s\n",
            "722:\tlearn: 0.4147782\ttotal: 3m 50s\tremaining: 1m 28s\n",
            "723:\tlearn: 0.4146516\ttotal: 3m 50s\tremaining: 1m 27s\n",
            "724:\tlearn: 0.4144963\ttotal: 3m 51s\tremaining: 1m 27s\n",
            "725:\tlearn: 0.4143386\ttotal: 3m 51s\tremaining: 1m 27s\n",
            "726:\tlearn: 0.4141922\ttotal: 3m 51s\tremaining: 1m 27s\n",
            "727:\tlearn: 0.4139334\ttotal: 3m 51s\tremaining: 1m 26s\n",
            "728:\tlearn: 0.4138297\ttotal: 3m 52s\tremaining: 1m 26s\n",
            "729:\tlearn: 0.4137034\ttotal: 3m 52s\tremaining: 1m 25s\n",
            "730:\tlearn: 0.4135175\ttotal: 3m 52s\tremaining: 1m 25s\n",
            "731:\tlearn: 0.4133290\ttotal: 3m 52s\tremaining: 1m 25s\n",
            "732:\tlearn: 0.4131987\ttotal: 3m 53s\tremaining: 1m 24s\n",
            "733:\tlearn: 0.4128846\ttotal: 3m 53s\tremaining: 1m 24s\n",
            "734:\tlearn: 0.4127725\ttotal: 3m 53s\tremaining: 1m 24s\n",
            "735:\tlearn: 0.4126019\ttotal: 3m 53s\tremaining: 1m 23s\n",
            "736:\tlearn: 0.4124932\ttotal: 3m 53s\tremaining: 1m 23s\n",
            "737:\tlearn: 0.4122295\ttotal: 3m 54s\tremaining: 1m 23s\n",
            "738:\tlearn: 0.4120844\ttotal: 3m 54s\tremaining: 1m 22s\n",
            "739:\tlearn: 0.4118789\ttotal: 3m 54s\tremaining: 1m 22s\n",
            "740:\tlearn: 0.4116089\ttotal: 3m 54s\tremaining: 1m 22s\n",
            "741:\tlearn: 0.4114316\ttotal: 3m 55s\tremaining: 1m 21s\n",
            "742:\tlearn: 0.4113288\ttotal: 3m 55s\tremaining: 1m 21s\n",
            "743:\tlearn: 0.4111997\ttotal: 3m 55s\tremaining: 1m 21s\n",
            "744:\tlearn: 0.4110428\ttotal: 3m 55s\tremaining: 1m 20s\n",
            "745:\tlearn: 0.4109500\ttotal: 3m 56s\tremaining: 1m 20s\n",
            "746:\tlearn: 0.4107048\ttotal: 3m 56s\tremaining: 1m 20s\n",
            "747:\tlearn: 0.4105805\ttotal: 3m 56s\tremaining: 1m 19s\n",
            "748:\tlearn: 0.4104266\ttotal: 3m 56s\tremaining: 1m 19s\n",
            "749:\tlearn: 0.4100538\ttotal: 3m 56s\tremaining: 1m 18s\n",
            "750:\tlearn: 0.4098524\ttotal: 3m 57s\tremaining: 1m 18s\n",
            "751:\tlearn: 0.4097301\ttotal: 3m 57s\tremaining: 1m 18s\n",
            "752:\tlearn: 0.4096042\ttotal: 3m 57s\tremaining: 1m 17s\n",
            "753:\tlearn: 0.4092906\ttotal: 3m 57s\tremaining: 1m 17s\n",
            "754:\tlearn: 0.4090931\ttotal: 3m 58s\tremaining: 1m 17s\n",
            "755:\tlearn: 0.4089299\ttotal: 3m 58s\tremaining: 1m 16s\n",
            "756:\tlearn: 0.4087189\ttotal: 3m 58s\tremaining: 1m 16s\n",
            "757:\tlearn: 0.4085721\ttotal: 3m 58s\tremaining: 1m 16s\n",
            "758:\tlearn: 0.4084828\ttotal: 3m 59s\tremaining: 1m 15s\n",
            "759:\tlearn: 0.4083413\ttotal: 3m 59s\tremaining: 1m 15s\n",
            "760:\tlearn: 0.4081440\ttotal: 3m 59s\tremaining: 1m 15s\n",
            "761:\tlearn: 0.4078218\ttotal: 3m 59s\tremaining: 1m 14s\n",
            "762:\tlearn: 0.4074852\ttotal: 3m 59s\tremaining: 1m 14s\n",
            "763:\tlearn: 0.4072116\ttotal: 4m\tremaining: 1m 14s\n",
            "764:\tlearn: 0.4068467\ttotal: 4m\tremaining: 1m 13s\n",
            "765:\tlearn: 0.4066526\ttotal: 4m\tremaining: 1m 13s\n",
            "766:\tlearn: 0.4065313\ttotal: 4m\tremaining: 1m 13s\n",
            "767:\tlearn: 0.4063741\ttotal: 4m 1s\tremaining: 1m 12s\n",
            "768:\tlearn: 0.4061353\ttotal: 4m 1s\tremaining: 1m 12s\n",
            "769:\tlearn: 0.4058939\ttotal: 4m 1s\tremaining: 1m 12s\n",
            "770:\tlearn: 0.4057267\ttotal: 4m 2s\tremaining: 1m 11s\n",
            "771:\tlearn: 0.4055503\ttotal: 4m 2s\tremaining: 1m 11s\n",
            "772:\tlearn: 0.4053676\ttotal: 4m 3s\tremaining: 1m 11s\n",
            "773:\tlearn: 0.4052270\ttotal: 4m 3s\tremaining: 1m 11s\n",
            "774:\tlearn: 0.4050585\ttotal: 4m 4s\tremaining: 1m 10s\n",
            "775:\tlearn: 0.4048167\ttotal: 4m 4s\tremaining: 1m 10s\n",
            "776:\tlearn: 0.4046943\ttotal: 4m 4s\tremaining: 1m 10s\n",
            "777:\tlearn: 0.4044354\ttotal: 4m 4s\tremaining: 1m 9s\n",
            "778:\tlearn: 0.4041545\ttotal: 4m 5s\tremaining: 1m 9s\n",
            "779:\tlearn: 0.4039432\ttotal: 4m 5s\tremaining: 1m 9s\n",
            "780:\tlearn: 0.4037598\ttotal: 4m 5s\tremaining: 1m 8s\n",
            "781:\tlearn: 0.4035805\ttotal: 4m 5s\tremaining: 1m 8s\n",
            "782:\tlearn: 0.4034616\ttotal: 4m 6s\tremaining: 1m 8s\n",
            "783:\tlearn: 0.4032568\ttotal: 4m 6s\tremaining: 1m 7s\n",
            "784:\tlearn: 0.4029433\ttotal: 4m 6s\tremaining: 1m 7s\n",
            "785:\tlearn: 0.4027757\ttotal: 4m 6s\tremaining: 1m 7s\n",
            "786:\tlearn: 0.4026504\ttotal: 4m 7s\tremaining: 1m 6s\n",
            "787:\tlearn: 0.4025205\ttotal: 4m 7s\tremaining: 1m 6s\n",
            "788:\tlearn: 0.4023226\ttotal: 4m 7s\tremaining: 1m 6s\n",
            "789:\tlearn: 0.4021457\ttotal: 4m 7s\tremaining: 1m 5s\n",
            "790:\tlearn: 0.4019762\ttotal: 4m 8s\tremaining: 1m 5s\n",
            "791:\tlearn: 0.4017603\ttotal: 4m 8s\tremaining: 1m 5s\n",
            "792:\tlearn: 0.4016472\ttotal: 4m 8s\tremaining: 1m 4s\n",
            "793:\tlearn: 0.4015374\ttotal: 4m 8s\tremaining: 1m 4s\n",
            "794:\tlearn: 0.4014109\ttotal: 4m 8s\tremaining: 1m 4s\n",
            "795:\tlearn: 0.4012584\ttotal: 4m 9s\tremaining: 1m 3s\n",
            "796:\tlearn: 0.4010025\ttotal: 4m 9s\tremaining: 1m 3s\n",
            "797:\tlearn: 0.4007283\ttotal: 4m 9s\tremaining: 1m 3s\n",
            "798:\tlearn: 0.4005948\ttotal: 4m 9s\tremaining: 1m 2s\n",
            "799:\tlearn: 0.4004506\ttotal: 4m 10s\tremaining: 1m 2s\n",
            "800:\tlearn: 0.4002345\ttotal: 4m 10s\tremaining: 1m 2s\n",
            "801:\tlearn: 0.4000815\ttotal: 4m 10s\tremaining: 1m 1s\n",
            "802:\tlearn: 0.3998717\ttotal: 4m 10s\tremaining: 1m 1s\n",
            "803:\tlearn: 0.3996928\ttotal: 4m 11s\tremaining: 1m 1s\n",
            "804:\tlearn: 0.3995116\ttotal: 4m 11s\tremaining: 1m\n",
            "805:\tlearn: 0.3993322\ttotal: 4m 11s\tremaining: 1m\n",
            "806:\tlearn: 0.3991663\ttotal: 4m 11s\tremaining: 1m\n",
            "807:\tlearn: 0.3989369\ttotal: 4m 12s\tremaining: 59.9s\n",
            "808:\tlearn: 0.3987173\ttotal: 4m 12s\tremaining: 59.6s\n",
            "809:\tlearn: 0.3985144\ttotal: 4m 12s\tremaining: 59.3s\n",
            "810:\tlearn: 0.3982799\ttotal: 4m 12s\tremaining: 58.9s\n",
            "811:\tlearn: 0.3981414\ttotal: 4m 13s\tremaining: 58.6s\n",
            "812:\tlearn: 0.3979734\ttotal: 4m 13s\tremaining: 58.3s\n",
            "813:\tlearn: 0.3978761\ttotal: 4m 13s\tremaining: 57.9s\n",
            "814:\tlearn: 0.3977677\ttotal: 4m 13s\tremaining: 57.6s\n",
            "815:\tlearn: 0.3976496\ttotal: 4m 14s\tremaining: 57.3s\n",
            "816:\tlearn: 0.3975213\ttotal: 4m 14s\tremaining: 56.9s\n",
            "817:\tlearn: 0.3974047\ttotal: 4m 14s\tremaining: 56.6s\n",
            "818:\tlearn: 0.3971035\ttotal: 4m 14s\tremaining: 56.3s\n",
            "819:\tlearn: 0.3969910\ttotal: 4m 15s\tremaining: 56s\n",
            "820:\tlearn: 0.3968204\ttotal: 4m 15s\tremaining: 55.8s\n",
            "821:\tlearn: 0.3966699\ttotal: 4m 16s\tremaining: 55.5s\n",
            "822:\tlearn: 0.3965319\ttotal: 4m 16s\tremaining: 55.2s\n",
            "823:\tlearn: 0.3963092\ttotal: 4m 17s\tremaining: 54.9s\n",
            "824:\tlearn: 0.3961495\ttotal: 4m 17s\tremaining: 54.6s\n",
            "825:\tlearn: 0.3959166\ttotal: 4m 17s\tremaining: 54.2s\n",
            "826:\tlearn: 0.3956609\ttotal: 4m 17s\tremaining: 53.9s\n",
            "827:\tlearn: 0.3954091\ttotal: 4m 17s\tremaining: 53.6s\n",
            "828:\tlearn: 0.3952240\ttotal: 4m 18s\tremaining: 53.3s\n",
            "829:\tlearn: 0.3950562\ttotal: 4m 18s\tremaining: 52.9s\n",
            "830:\tlearn: 0.3948788\ttotal: 4m 18s\tremaining: 52.6s\n",
            "831:\tlearn: 0.3947040\ttotal: 4m 18s\tremaining: 52.3s\n",
            "832:\tlearn: 0.3945422\ttotal: 4m 19s\tremaining: 52s\n",
            "833:\tlearn: 0.3944075\ttotal: 4m 19s\tremaining: 51.6s\n",
            "834:\tlearn: 0.3942433\ttotal: 4m 19s\tremaining: 51.3s\n",
            "835:\tlearn: 0.3939362\ttotal: 4m 19s\tremaining: 51s\n",
            "836:\tlearn: 0.3937531\ttotal: 4m 20s\tremaining: 50.6s\n",
            "837:\tlearn: 0.3936419\ttotal: 4m 20s\tremaining: 50.3s\n",
            "838:\tlearn: 0.3935221\ttotal: 4m 20s\tremaining: 50s\n",
            "839:\tlearn: 0.3933366\ttotal: 4m 20s\tremaining: 49.7s\n",
            "840:\tlearn: 0.3931962\ttotal: 4m 20s\tremaining: 49.3s\n",
            "841:\tlearn: 0.3930911\ttotal: 4m 21s\tremaining: 49s\n",
            "842:\tlearn: 0.3928154\ttotal: 4m 21s\tremaining: 48.7s\n",
            "843:\tlearn: 0.3925778\ttotal: 4m 21s\tremaining: 48.4s\n",
            "844:\tlearn: 0.3924714\ttotal: 4m 21s\tremaining: 48s\n",
            "845:\tlearn: 0.3923248\ttotal: 4m 22s\tremaining: 47.7s\n",
            "846:\tlearn: 0.3922225\ttotal: 4m 22s\tremaining: 47.4s\n",
            "847:\tlearn: 0.3920775\ttotal: 4m 22s\tremaining: 47.1s\n",
            "848:\tlearn: 0.3919512\ttotal: 4m 22s\tremaining: 46.7s\n",
            "849:\tlearn: 0.3918248\ttotal: 4m 22s\tremaining: 46.4s\n",
            "850:\tlearn: 0.3916490\ttotal: 4m 23s\tremaining: 46.1s\n",
            "851:\tlearn: 0.3914858\ttotal: 4m 23s\tremaining: 45.8s\n",
            "852:\tlearn: 0.3913483\ttotal: 4m 23s\tremaining: 45.4s\n",
            "853:\tlearn: 0.3911808\ttotal: 4m 23s\tremaining: 45.1s\n",
            "854:\tlearn: 0.3910801\ttotal: 4m 24s\tremaining: 44.8s\n",
            "855:\tlearn: 0.3909594\ttotal: 4m 24s\tremaining: 44.5s\n",
            "856:\tlearn: 0.3908601\ttotal: 4m 24s\tremaining: 44.2s\n",
            "857:\tlearn: 0.3907638\ttotal: 4m 24s\tremaining: 43.9s\n",
            "858:\tlearn: 0.3906225\ttotal: 4m 25s\tremaining: 43.5s\n",
            "859:\tlearn: 0.3904789\ttotal: 4m 25s\tremaining: 43.2s\n",
            "860:\tlearn: 0.3903218\ttotal: 4m 25s\tremaining: 42.9s\n",
            "861:\tlearn: 0.3901677\ttotal: 4m 25s\tremaining: 42.6s\n",
            "862:\tlearn: 0.3899375\ttotal: 4m 26s\tremaining: 42.2s\n",
            "863:\tlearn: 0.3897917\ttotal: 4m 26s\tremaining: 41.9s\n",
            "864:\tlearn: 0.3895609\ttotal: 4m 26s\tremaining: 41.6s\n",
            "865:\tlearn: 0.3893661\ttotal: 4m 26s\tremaining: 41.3s\n",
            "866:\tlearn: 0.3892821\ttotal: 4m 27s\tremaining: 41s\n",
            "867:\tlearn: 0.3891374\ttotal: 4m 27s\tremaining: 40.7s\n",
            "868:\tlearn: 0.3889202\ttotal: 4m 27s\tremaining: 40.4s\n",
            "869:\tlearn: 0.3886782\ttotal: 4m 28s\tremaining: 40.1s\n",
            "870:\tlearn: 0.3885372\ttotal: 4m 28s\tremaining: 39.8s\n",
            "871:\tlearn: 0.3883767\ttotal: 4m 29s\tremaining: 39.5s\n",
            "872:\tlearn: 0.3882529\ttotal: 4m 29s\tremaining: 39.2s\n",
            "873:\tlearn: 0.3879990\ttotal: 4m 29s\tremaining: 38.9s\n",
            "874:\tlearn: 0.3878159\ttotal: 4m 30s\tremaining: 38.6s\n",
            "875:\tlearn: 0.3875694\ttotal: 4m 30s\tremaining: 38.3s\n",
            "876:\tlearn: 0.3874180\ttotal: 4m 30s\tremaining: 38s\n",
            "877:\tlearn: 0.3872387\ttotal: 4m 30s\tremaining: 37.6s\n",
            "878:\tlearn: 0.3871009\ttotal: 4m 31s\tremaining: 37.3s\n",
            "879:\tlearn: 0.3869480\ttotal: 4m 31s\tremaining: 37s\n",
            "880:\tlearn: 0.3868151\ttotal: 4m 31s\tremaining: 36.7s\n",
            "881:\tlearn: 0.3866513\ttotal: 4m 31s\tremaining: 36.4s\n",
            "882:\tlearn: 0.3864943\ttotal: 4m 32s\tremaining: 36.1s\n",
            "883:\tlearn: 0.3863853\ttotal: 4m 32s\tremaining: 35.7s\n",
            "884:\tlearn: 0.3862359\ttotal: 4m 32s\tremaining: 35.4s\n",
            "885:\tlearn: 0.3861299\ttotal: 4m 32s\tremaining: 35.1s\n",
            "886:\tlearn: 0.3858991\ttotal: 4m 33s\tremaining: 34.8s\n",
            "887:\tlearn: 0.3857658\ttotal: 4m 33s\tremaining: 34.5s\n",
            "888:\tlearn: 0.3855493\ttotal: 4m 33s\tremaining: 34.2s\n",
            "889:\tlearn: 0.3854476\ttotal: 4m 33s\tremaining: 33.8s\n",
            "890:\tlearn: 0.3852854\ttotal: 4m 34s\tremaining: 33.5s\n",
            "891:\tlearn: 0.3851802\ttotal: 4m 34s\tremaining: 33.2s\n",
            "892:\tlearn: 0.3850718\ttotal: 4m 34s\tremaining: 32.9s\n",
            "893:\tlearn: 0.3849434\ttotal: 4m 34s\tremaining: 32.6s\n",
            "894:\tlearn: 0.3848463\ttotal: 4m 35s\tremaining: 32.3s\n",
            "895:\tlearn: 0.3846435\ttotal: 4m 35s\tremaining: 31.9s\n",
            "896:\tlearn: 0.3845577\ttotal: 4m 35s\tremaining: 31.6s\n",
            "897:\tlearn: 0.3843994\ttotal: 4m 35s\tremaining: 31.3s\n",
            "898:\tlearn: 0.3842436\ttotal: 4m 36s\tremaining: 31s\n",
            "899:\tlearn: 0.3840946\ttotal: 4m 36s\tremaining: 30.7s\n",
            "900:\tlearn: 0.3839459\ttotal: 4m 36s\tremaining: 30.4s\n",
            "901:\tlearn: 0.3837140\ttotal: 4m 37s\tremaining: 30.1s\n",
            "902:\tlearn: 0.3835405\ttotal: 4m 37s\tremaining: 29.8s\n",
            "903:\tlearn: 0.3834387\ttotal: 4m 37s\tremaining: 29.5s\n",
            "904:\tlearn: 0.3833431\ttotal: 4m 37s\tremaining: 29.2s\n",
            "905:\tlearn: 0.3832386\ttotal: 4m 37s\tremaining: 28.8s\n",
            "906:\tlearn: 0.3830419\ttotal: 4m 38s\tremaining: 28.5s\n",
            "907:\tlearn: 0.3828871\ttotal: 4m 38s\tremaining: 28.2s\n",
            "908:\tlearn: 0.3828129\ttotal: 4m 38s\tremaining: 27.9s\n",
            "909:\tlearn: 0.3827088\ttotal: 4m 38s\tremaining: 27.6s\n",
            "910:\tlearn: 0.3825793\ttotal: 4m 39s\tremaining: 27.3s\n",
            "911:\tlearn: 0.3824411\ttotal: 4m 39s\tremaining: 27s\n",
            "912:\tlearn: 0.3823471\ttotal: 4m 39s\tremaining: 26.6s\n",
            "913:\tlearn: 0.3821128\ttotal: 4m 40s\tremaining: 26.4s\n",
            "914:\tlearn: 0.3818501\ttotal: 4m 40s\tremaining: 26.1s\n",
            "915:\tlearn: 0.3816664\ttotal: 4m 41s\tremaining: 25.8s\n",
            "916:\tlearn: 0.3815046\ttotal: 4m 41s\tremaining: 25.5s\n",
            "917:\tlearn: 0.3813779\ttotal: 4m 42s\tremaining: 25.2s\n",
            "918:\tlearn: 0.3811923\ttotal: 4m 42s\tremaining: 24.9s\n",
            "919:\tlearn: 0.3811007\ttotal: 4m 42s\tremaining: 24.6s\n",
            "920:\tlearn: 0.3809604\ttotal: 4m 42s\tremaining: 24.3s\n",
            "921:\tlearn: 0.3808046\ttotal: 4m 43s\tremaining: 24s\n",
            "922:\tlearn: 0.3806771\ttotal: 4m 43s\tremaining: 23.6s\n",
            "923:\tlearn: 0.3805381\ttotal: 4m 43s\tremaining: 23.3s\n",
            "924:\tlearn: 0.3803894\ttotal: 4m 44s\tremaining: 23s\n",
            "925:\tlearn: 0.3802605\ttotal: 4m 44s\tremaining: 22.7s\n",
            "926:\tlearn: 0.3801245\ttotal: 4m 44s\tremaining: 22.4s\n",
            "927:\tlearn: 0.3799947\ttotal: 4m 44s\tremaining: 22.1s\n",
            "928:\tlearn: 0.3799218\ttotal: 4m 44s\tremaining: 21.8s\n",
            "929:\tlearn: 0.3798213\ttotal: 4m 45s\tremaining: 21.5s\n",
            "930:\tlearn: 0.3797076\ttotal: 4m 45s\tremaining: 21.2s\n",
            "931:\tlearn: 0.3796191\ttotal: 4m 45s\tremaining: 20.8s\n",
            "932:\tlearn: 0.3793509\ttotal: 4m 45s\tremaining: 20.5s\n",
            "933:\tlearn: 0.3791737\ttotal: 4m 46s\tremaining: 20.2s\n",
            "934:\tlearn: 0.3790525\ttotal: 4m 46s\tremaining: 19.9s\n",
            "935:\tlearn: 0.3789559\ttotal: 4m 46s\tremaining: 19.6s\n",
            "936:\tlearn: 0.3788192\ttotal: 4m 46s\tremaining: 19.3s\n",
            "937:\tlearn: 0.3786281\ttotal: 4m 47s\tremaining: 19s\n",
            "938:\tlearn: 0.3785097\ttotal: 4m 47s\tremaining: 18.7s\n",
            "939:\tlearn: 0.3784180\ttotal: 4m 47s\tremaining: 18.4s\n",
            "940:\tlearn: 0.3782139\ttotal: 4m 47s\tremaining: 18s\n",
            "941:\tlearn: 0.3780596\ttotal: 4m 48s\tremaining: 17.7s\n",
            "942:\tlearn: 0.3778798\ttotal: 4m 48s\tremaining: 17.4s\n",
            "943:\tlearn: 0.3777185\ttotal: 4m 48s\tremaining: 17.1s\n",
            "944:\tlearn: 0.3774774\ttotal: 4m 48s\tremaining: 16.8s\n",
            "945:\tlearn: 0.3773232\ttotal: 4m 49s\tremaining: 16.5s\n",
            "946:\tlearn: 0.3771992\ttotal: 4m 49s\tremaining: 16.2s\n",
            "947:\tlearn: 0.3771091\ttotal: 4m 49s\tremaining: 15.9s\n",
            "948:\tlearn: 0.3769989\ttotal: 4m 49s\tremaining: 15.6s\n",
            "949:\tlearn: 0.3768914\ttotal: 4m 50s\tremaining: 15.3s\n",
            "950:\tlearn: 0.3766723\ttotal: 4m 50s\tremaining: 15s\n",
            "951:\tlearn: 0.3765252\ttotal: 4m 50s\tremaining: 14.6s\n",
            "952:\tlearn: 0.3764209\ttotal: 4m 50s\tremaining: 14.3s\n",
            "953:\tlearn: 0.3761984\ttotal: 4m 50s\tremaining: 14s\n",
            "954:\tlearn: 0.3761113\ttotal: 4m 51s\tremaining: 13.7s\n",
            "955:\tlearn: 0.3759501\ttotal: 4m 51s\tremaining: 13.4s\n",
            "956:\tlearn: 0.3758101\ttotal: 4m 51s\tremaining: 13.1s\n",
            "957:\tlearn: 0.3756886\ttotal: 4m 51s\tremaining: 12.8s\n",
            "958:\tlearn: 0.3754894\ttotal: 4m 52s\tremaining: 12.5s\n",
            "959:\tlearn: 0.3753689\ttotal: 4m 52s\tremaining: 12.2s\n",
            "960:\tlearn: 0.3751694\ttotal: 4m 52s\tremaining: 11.9s\n",
            "961:\tlearn: 0.3750623\ttotal: 4m 53s\tremaining: 11.6s\n",
            "962:\tlearn: 0.3749198\ttotal: 4m 53s\tremaining: 11.3s\n",
            "963:\tlearn: 0.3748107\ttotal: 4m 54s\tremaining: 11s\n",
            "964:\tlearn: 0.3746988\ttotal: 4m 54s\tremaining: 10.7s\n",
            "965:\tlearn: 0.3745992\ttotal: 4m 54s\tremaining: 10.4s\n",
            "966:\tlearn: 0.3744415\ttotal: 4m 55s\tremaining: 10.1s\n",
            "967:\tlearn: 0.3743135\ttotal: 4m 55s\tremaining: 9.77s\n",
            "968:\tlearn: 0.3741325\ttotal: 4m 55s\tremaining: 9.46s\n",
            "969:\tlearn: 0.3740170\ttotal: 4m 56s\tremaining: 9.15s\n",
            "970:\tlearn: 0.3738209\ttotal: 4m 56s\tremaining: 8.85s\n",
            "971:\tlearn: 0.3736334\ttotal: 4m 56s\tremaining: 8.54s\n",
            "972:\tlearn: 0.3735158\ttotal: 4m 56s\tremaining: 8.23s\n",
            "973:\tlearn: 0.3734337\ttotal: 4m 56s\tremaining: 7.93s\n",
            "974:\tlearn: 0.3733211\ttotal: 4m 57s\tremaining: 7.62s\n",
            "975:\tlearn: 0.3732237\ttotal: 4m 57s\tremaining: 7.31s\n",
            "976:\tlearn: 0.3729752\ttotal: 4m 57s\tremaining: 7.01s\n",
            "977:\tlearn: 0.3727871\ttotal: 4m 57s\tremaining: 6.7s\n",
            "978:\tlearn: 0.3725686\ttotal: 4m 58s\tremaining: 6.4s\n",
            "979:\tlearn: 0.3724273\ttotal: 4m 58s\tremaining: 6.09s\n",
            "980:\tlearn: 0.3723233\ttotal: 4m 58s\tremaining: 5.79s\n",
            "981:\tlearn: 0.3721910\ttotal: 4m 58s\tremaining: 5.48s\n",
            "982:\tlearn: 0.3720928\ttotal: 4m 59s\tremaining: 5.17s\n",
            "983:\tlearn: 0.3720051\ttotal: 4m 59s\tremaining: 4.87s\n",
            "984:\tlearn: 0.3718489\ttotal: 4m 59s\tremaining: 4.56s\n",
            "985:\tlearn: 0.3717433\ttotal: 4m 59s\tremaining: 4.26s\n",
            "986:\tlearn: 0.3716105\ttotal: 5m\tremaining: 3.95s\n",
            "987:\tlearn: 0.3714666\ttotal: 5m\tremaining: 3.65s\n",
            "988:\tlearn: 0.3713861\ttotal: 5m\tremaining: 3.34s\n",
            "989:\tlearn: 0.3712622\ttotal: 5m\tremaining: 3.04s\n",
            "990:\tlearn: 0.3710847\ttotal: 5m\tremaining: 2.73s\n",
            "991:\tlearn: 0.3709091\ttotal: 5m 1s\tremaining: 2.43s\n",
            "992:\tlearn: 0.3707856\ttotal: 5m 1s\tremaining: 2.12s\n",
            "993:\tlearn: 0.3706842\ttotal: 5m 1s\tremaining: 1.82s\n",
            "994:\tlearn: 0.3704650\ttotal: 5m 1s\tremaining: 1.52s\n",
            "995:\tlearn: 0.3703310\ttotal: 5m 2s\tremaining: 1.21s\n",
            "996:\tlearn: 0.3701630\ttotal: 5m 2s\tremaining: 910ms\n",
            "997:\tlearn: 0.3700635\ttotal: 5m 2s\tremaining: 606ms\n",
            "998:\tlearn: 0.3699391\ttotal: 5m 2s\tremaining: 303ms\n",
            "999:\tlearn: 0.3698289\ttotal: 5m 3s\tremaining: 0us\n",
            "train rmse = 0.36695827674680565, test rmse = 0.8233803852861001\n",
            "Pure LightGBM:\n",
            "[LightGBM] [Warning] Categorical features with more bins than the configured maximum bin number found.\n",
            "[LightGBM] [Warning] For categorical features, max_bin and max_bin_by_feature may be ignored with a large number of categories.\n",
            "[LightGBM] [Info] Auto-choosing row-wise multi-threading, the overhead of testing was 0.027046 seconds.\n",
            "You can set `force_row_wise=true` to remove the overhead.\n",
            "And if memory is not enough, you can set `force_col_wise=true`.\n",
            "[LightGBM] [Info] Total Bins 6454\n",
            "[LightGBM] [Info] Number of data points in the train set: 301204, number of used features: 27\n",
            "[LightGBM] [Info] Start training from score -0.000000\n",
            "train rmse = 0.521422869771818, test rmse = 0.8973089543265292\n",
            "Pure XGBoost:\n",
            "train rmse = 0.3283827872292907, test rmse = 1.3051385744156085\n"
          ]
        }
      ]
    },
    {
      "cell_type": "markdown",
      "source": [
        "## Plotting Predictions"
      ],
      "metadata": {
        "id": "ekCkiwGH46bH"
      }
    },
    {
      "cell_type": "code",
      "source": [
        "df['linearPrediction'] = predictions"
      ],
      "metadata": {
        "id": "-OYOeApc43wF"
      },
      "execution_count": 52,
      "outputs": []
    },
    {
      "cell_type": "code",
      "source": [
        "del predictions"
      ],
      "metadata": {
        "id": "L_g9f_kr4-bQ"
      },
      "execution_count": 53,
      "outputs": []
    },
    {
      "cell_type": "code",
      "source": [
        "train2_inds = train2.index\n",
        "test_inds = test.index"
      ],
      "metadata": {
        "id": "VofyzqSS4_ux"
      },
      "execution_count": 54,
      "outputs": []
    },
    {
      "cell_type": "code",
      "source": [
        "df['boostedResiduals'] = 0\n",
        "df.loc[train2_inds, 'boostedResiduals'] = train_pred1\n",
        "df.loc[test_inds, 'boostedResiduals'] = test_pred1"
      ],
      "metadata": {
        "id": "4h6r3taC5BeC"
      },
      "execution_count": 55,
      "outputs": []
    },
    {
      "cell_type": "code",
      "source": [
        "del train2_inds\n",
        "del test_inds"
      ],
      "metadata": {
        "id": "eaT7wqE65CxF"
      },
      "execution_count": 56,
      "outputs": []
    },
    {
      "cell_type": "code",
      "source": [
        "plt.hist(df['boostedResiduals'], density=True)\n",
        "plt.xlabel(\"Boosted residuals\")\n",
        "plt.ylabel(\"Normalized count\")\n",
        "plt.title(\"Boosting fitted residuals\")\n",
        "plt.show()"
      ],
      "metadata": {
        "colab": {
          "base_uri": "https://localhost:8080/",
          "height": 472
        },
        "id": "mLfNN17T5D5v",
        "outputId": "23802da4-47a6-4b40-cb88-a80d2a2cfd05"
      },
      "execution_count": 57,
      "outputs": [
        {
          "output_type": "display_data",
          "data": {
            "text/plain": [
              "<Figure size 640x480 with 1 Axes>"
            ],
            "image/png": "[encoded data removed]"
          },
          "metadata": {}
        }
      ]
    },
    {
      "cell_type": "code",
      "source": [
        "df.boostedResiduals.isnull().sum(), df.linearPrediction.isnull().sum()"
      ],
      "metadata": {
        "colab": {
          "base_uri": "https://localhost:8080/"
        },
        "id": "ktmWrTP85FOG",
        "outputId": "cf55726e-c6d2-49e9-91cc-bb0868010730"
      },
      "execution_count": 58,
      "outputs": [
        {
          "output_type": "execute_result",
          "data": {
            "text/plain": [
              "(0, 0)"
            ]
          },
          "metadata": {},
          "execution_count": 58
        }
      ]
    },
    {
      "cell_type": "code",
      "source": [
        "df['finalPrediction'] = df['linearPrediction'] + df['boostedResiduals']"
      ],
      "metadata": {
        "id": "BR7bLHEk5G7Y"
      },
      "execution_count": 59,
      "outputs": []
    },
    {
      "cell_type": "code",
      "source": [
        "boostedresiduals_grouped = df.groupby(['loc_group'])\n",
        "boostedresiduals_dict = {}\n",
        "\n",
        "for name, group in boostedresiduals_grouped:\n",
        "\n",
        "    rmse = np.sqrt(np.sum(group['boostedResiduals']**2) / group.shape[0])\n",
        "    boostedresiduals_dict[name] = rmse"
      ],
      "metadata": {
        "id": "od1wt-f45IaM"
      },
      "execution_count": 60,
      "outputs": []
    },
    {
      "cell_type": "code",
      "source": [
        "del group"
      ],
      "metadata": {
        "id": "QHT-rRQT5J_1"
      },
      "execution_count": 61,
      "outputs": []
    },
    {
      "cell_type": "code",
      "source": [
        "sorted_boostedresiduals_dict = dict(sorted(boostedresiduals_dict.items(), key=lambda item: item[1]))\n",
        "best_predicted_groups = list(sorted_boostedresiduals_dict.keys())[:4]\n",
        "best_predicted_groups"
      ],
      "metadata": {
        "colab": {
          "base_uri": "https://localhost:8080/"
        },
        "id": "Uqkf1a5w5LRa",
        "outputId": "d5d36b1d-a583-4eb3-c29d-07944ed7a8e9"
      },
      "execution_count": 62,
      "outputs": [
        {
          "output_type": "execute_result",
          "data": {
            "text/plain": [
              "[0, 45, 9, 75]"
            ]
          },
          "metadata": {},
          "execution_count": 62
        }
      ]
    },
    {
      "cell_type": "code",
      "source": [
        "plt.figure(figsize=(12, 6))\n",
        "\n",
        "for i, group in enumerate(best_predicted_groups):\n",
        "\n",
        "    plt.subplot(2,2,i+1)\n",
        "    train2_inds = train2.loc[train2.loc_group == group].index\n",
        "    test_inds = test.loc[test.loc_group == group].index\n",
        "\n",
        "    plt.plot(df.loc[df.loc_group == group, 'startdate'], df.loc[df.loc_group == group, target], label='target')\n",
        "    plt.plot(df.loc[test_inds, 'startdate'], df.loc[test_inds, 'finalPrediction'], label='predictions')\n",
        "\n",
        "    plt.title(f\"Group{group} predictions\")\n",
        "    plt.xticks(rotation=45)\n",
        "    plt.legend(loc='lower right')\n",
        "\n",
        "plt.suptitle(\"Groups that have the smallest average rmse\")\n",
        "plt.tight_layout()"
      ],
      "metadata": {
        "colab": {
          "base_uri": "https://localhost:8080/",
          "height": 461
        },
        "id": "Zg1D9MJz5NWt",
        "outputId": "b519ec04-d5af-4e1d-8bb5-fe4d3b4f0f2a"
      },
      "execution_count": 63,
      "outputs": [
        {
          "output_type": "display_data",
          "data": {
            "text/plain": [
              "<Figure size 1200x600 with 4 Axes>"
            ],
            "image/png": "[encoded data removed]"
          },
          "metadata": {}
        }
      ]
    },
    {
      "cell_type": "code",
      "source": [],
      "metadata": {
        "id": "uEBMY6Mq5O1v"
      },
      "execution_count": null,
      "outputs": []
    }
  ]
}